{
 "cells": [
  {
   "cell_type": "markdown",
   "metadata": {},
   "source": [
    "## Python Basic Programming Exercises"
   ]
  },
  {
   "cell_type": "raw",
   "metadata": {},
   "source": [
    "Q1: What is the output of following expression\n",
    "    5 + 4 * 9 % (3 + 1) / 6 - 1"
   ]
  },
  {
   "cell_type": "code",
   "execution_count": 1,
   "metadata": {},
   "outputs": [
    {
     "data": {
      "text/plain": [
       "4.0"
      ]
     },
     "execution_count": 1,
     "metadata": {},
     "output_type": "execute_result"
    }
   ],
   "source": [
    "5 + 4 * 9 % (3 + 1) / 6 - 1\n",
    "#5 + 4 * 9 % (4) / 6 - 1\n",
    "#5 + 4 * 9 % (4) / 6 - 1\n",
    "#5 + 36 % (4) / 6 - 1\n",
    "#5 + 0/ 6 - 1\n",
    "#5 + 0 - 1\n",
    "#4"
   ]
  },
  {
   "cell_type": "raw",
   "metadata": {},
   "source": [
    "Q2: Write a program to check if a Number is Odd or Even. Take number as a input from user at runtime."
   ]
  },
  {
   "cell_type": "code",
   "execution_count": 2,
   "metadata": {},
   "outputs": [
    {
     "name": "stdout",
     "output_type": "stream",
     "text": [
      "Enter a valid number: 4\n"
     ]
    },
    {
     "data": {
      "text/plain": [
       "'Even'"
      ]
     },
     "execution_count": 2,
     "metadata": {},
     "output_type": "execute_result"
    }
   ],
   "source": [
    "num_a = int(input('Enter a valid number: '))\n",
    "'Even' if num_a%2 == 0 else 'Odd'"
   ]
  },
  {
   "cell_type": "raw",
   "metadata": {},
   "source": [
    "Q3: Write a program to display the multiplication table by taking a number as input. \n",
    "    [Hint : Use print statement inside of a loop]"
   ]
  },
  {
   "cell_type": "code",
   "execution_count": 3,
   "metadata": {},
   "outputs": [
    {
     "name": "stdout",
     "output_type": "stream",
     "text": [
      "Enter a valid number: 7\n",
      "7\n",
      "14\n",
      "21\n",
      "28\n",
      "35\n",
      "42\n",
      "49\n",
      "56\n",
      "63\n",
      "70\n"
     ]
    }
   ],
   "source": [
    "num_b = int(input('Enter a valid number: '))\n",
    "for i in range(1,11):\n",
    "    print(num_b*i)"
   ]
  },
  {
   "cell_type": "raw",
   "metadata": {},
   "source": [
    "Q4: Write a program which will find all numbers between 2000 and 3200 which are divisible by 7 \n",
    "    but are not a multiple of 5.\n",
    " \n",
    "Note: The numbers obtained should be printed in a comma-separated sequence on a single line."
   ]
  },
  {
   "cell_type": "code",
   "execution_count": 4,
   "metadata": {},
   "outputs": [
    {
     "name": "stdout",
     "output_type": "stream",
     "text": [
      "[2002, 2009, 2016, 2023, 2037, 2044, 2051, 2058, 2072, 2079, 2086, 2093, 2107, 2114, 2121, 2128, 2142, 2149, 2156, 2163, 2177, 2184, 2191, 2198, 2212, 2219, 2226, 2233, 2247, 2254, 2261, 2268, 2282, 2289, 2296, 2303, 2317, 2324, 2331, 2338, 2352, 2359, 2366, 2373, 2387, 2394, 2401, 2408, 2422, 2429, 2436, 2443, 2457, 2464, 2471, 2478, 2492, 2499, 2506, 2513, 2527, 2534, 2541, 2548, 2562, 2569, 2576, 2583, 2597, 2604, 2611, 2618, 2632, 2639, 2646, 2653, 2667, 2674, 2681, 2688, 2702, 2709, 2716, 2723, 2737, 2744, 2751, 2758, 2772, 2779, 2786, 2793, 2807, 2814, 2821, 2828, 2842, 2849, 2856, 2863, 2877, 2884, 2891, 2898, 2912, 2919, 2926, 2933, 2947, 2954, 2961, 2968, 2982, 2989, 2996, 3003, 3017, 3024, 3031, 3038, 3052, 3059, 3066, 3073, 3087, 3094, 3101, 3108, 3122, 3129, 3136, 3143, 3157, 3164, 3171, 3178, 3192, 3199]\n"
     ]
    }
   ],
   "source": [
    "list_a = []\n",
    "for i in range(2000, 3201):\n",
    "    if (i%7 == 0) and (i%5 != 0) :\n",
    "        list_a.append(i)\n",
    "print(list_a)"
   ]
  },
  {
   "cell_type": "raw",
   "metadata": {},
   "source": [
    "Q5: Count the elements of each datatype inside the list and display in output\n",
    "    [2, 3, 'Py', '10', 1, 'SQL', 5.5, True, 3, 'John', None, 7]    "
   ]
  },
  {
   "cell_type": "code",
   "execution_count": null,
   "metadata": {},
   "outputs": [],
   "source": [
    "list_b = [2, 3, 'Py', '10', 1, 'SQL', 5.5, True, 3, 'John', None, 7]\n",
    "list_b_int =[]\n",
    "list_b_str =[]\n",
    "list_b_bool =[]\n",
    "list_b_float =[]\n",
    "for i in list_b:\n",
    "    if (type(i) == int):\n",
    "        list_b_int.append(i)\n",
    "    elif (type(i) == str):\n",
    "        list_b_str.append(i)\n",
    "    elif (type(i) == bool):\n",
    "        list_b_bool.append(i)\n",
    "    elif (type(i) == float):\n",
    "        list_b_float.append(i)        \n",
    "    else:\n",
    "        pass\n",
    "len_int = len(list_b_int)\n",
    "print ('Count of int:', len_int)\n",
    "\n",
    "len_str = len(list_b_str)\n",
    "print ('Count of str:', len_str)\n",
    "\n",
    "len_bool = len(list_b_bool)\n",
    "print ('Count of bool:', len_bool)\n",
    "\n",
    "len_float = len(list_b_float)\n",
    "print ('Count of float:', len_float)"
   ]
  },
  {
   "cell_type": "raw",
   "metadata": {},
   "source": [
    "Q6: Add all values from the list with numeric datatypes \n",
    "    [2, 3, 'Py', '10', 1, 'SQL', 5.5, True, 3, 'John', None, 7] "
   ]
  },
  {
   "cell_type": "code",
   "execution_count": null,
   "metadata": {},
   "outputs": [],
   "source": [
    "list_c = [2, 3, 'Py', '10', 1, 'SQL', 5.5, True, 3, 'John', None, 7] \n",
    "sum_c = 0\n",
    "for i in list_c:\n",
    "    if (type(i)==int) or (type(i) == float):\n",
    "        sum_c = sum_c + i\n",
    "print(sum_c)"
   ]
  },
  {
   "cell_type": "raw",
   "metadata": {},
   "source": [
    "Q7: Concat all str datatypes with hyphen as a delimiter\n",
    "    [2, 3, 'Py', '10', 1, 'SQL', 5.5, True, 3, 'John', None, 7] "
   ]
  },
  {
   "cell_type": "code",
   "execution_count": null,
   "metadata": {},
   "outputs": [],
   "source": [
    "list_7 = [2, 3, 'Py', '10', 1, 'SQL', 5.5, True, 3, 'John', None, 7] \n",
    "list_7_str = []\n",
    "for i in list_7:\n",
    "    if (type(i)==str):\n",
    "        list_7_str.append(i)\n",
    "\"-\".join(list_7_str)"
   ]
  },
  {
   "cell_type": "raw",
   "metadata": {},
   "source": [
    "Q8: Write a UDF that takes list as input and returns sum of all numbers \n",
    "    (exclude bool) and count of all str \n",
    "    [2, 3, 'Py', '10', 1, 'SQL', 5.5, True, 3, 'John', None, 7] \n",
    "    \n",
    "Hint:\n",
    "-----\n",
    "def my_func:\n",
    "    # your code\n",
    "        \n",
    "my_func(l1)\n",
    "# output --> {'Sum': xxx, 'Count_of_Strs': xxx}"
   ]
  },
  {
   "cell_type": "code",
   "execution_count": 5,
   "metadata": {},
   "outputs": [],
   "source": [
    "def func_8(list_8):\n",
    "    cnt_8s = 0\n",
    "    sum_8 = 0\n",
    "    dict_8 = {}\n",
    "    for i in list_8:\n",
    "        if type(i) == str:\n",
    "            cnt_8s = cnt_8s + 1\n",
    "        elif (type(i) == int) or (type(i) == float):\n",
    "            sum_8 = sum_8 + i\n",
    "    dict_8.update({'Sum': sum_8,'Count_of_Strs': cnt_8s})\n",
    "    return dict_8"
   ]
  },
  {
   "cell_type": "code",
   "execution_count": 6,
   "metadata": {},
   "outputs": [
    {
     "data": {
      "text/plain": [
       "{'Sum': 21.5, 'Count_of_Strs': 4}"
      ]
     },
     "execution_count": 6,
     "metadata": {},
     "output_type": "execute_result"
    }
   ],
   "source": [
    "func_8([2, 3, 'Py', '10', 1, 'SQL', 5.5, True, 3, 'John', None, 7])"
   ]
  },
  {
   "cell_type": "raw",
   "metadata": {},
   "source": [
    "Q9: Get only odd numbers from the following list and store the numbers in new list\n",
    "    li = [5, 7, 22, 97, 54, 62, 77, 23, 73, 61]\n",
    "\n",
    "    i. Use loops to get the answer\n",
    "   ii. Use list comprehensions\n",
    "  iii. Use lambda function with filter"
   ]
  },
  {
   "cell_type": "code",
   "execution_count": 7,
   "metadata": {},
   "outputs": [
    {
     "name": "stdout",
     "output_type": "stream",
     "text": [
      "[5, 7, 97, 77, 23, 73, 61]\n",
      "[5, 7, 97, 77, 23, 73, 61]\n"
     ]
    },
    {
     "data": {
      "text/plain": [
       "[5, 7, 97, 77, 23, 73, 61]"
      ]
     },
     "execution_count": 7,
     "metadata": {},
     "output_type": "execute_result"
    }
   ],
   "source": [
    "# i. Use loops to get the answer\n",
    "list_8 = [5, 7, 22, 97, 54, 62, 77, 23, 73, 61]\n",
    "list_8_new = []\n",
    "for i in list_8:\n",
    "    if(i%2 != 0 ):\n",
    "        list_8_new.append(i)\n",
    "print(list_8_new)     \n",
    "\n",
    "# ii. Use list comprehensions\n",
    "list_8_newc = [i for i in list_8 if i%2 != 0]\n",
    "print(list_8_newc)\n",
    "\n",
    "# iii. Use lambda function with filter\n",
    "list(filter(lambda x: x%2 !=0 , list_8))"
   ]
  },
  {
   "cell_type": "raw",
   "metadata": {},
   "source": [
    "Q10: Write a UDF to return the descriptives [sum, count, min, mean, max] for a list of n number of input \n",
    "    numbers."
   ]
  },
  {
   "cell_type": "code",
   "execution_count": 9,
   "metadata": {},
   "outputs": [],
   "source": [
    "def desc_10(list_10):\n",
    "    '''\n",
    "    function take a list of numbers as an input and \n",
    "    provides us SUM, COUNT, MIN, MAX, MEAN as output\n",
    "    '''\n",
    "    sum_10 = sum(list_10)\n",
    "    count_10 = len(list_10)\n",
    "    max_10 = max(list_10)\n",
    "    min_10 = min(list_10)\n",
    "    mean_10 = sum_10/count_10\n",
    "    \n",
    "    return print('Sum:', sum_10, 'count:', count_10, 'Max:', max_10, 'Min:', min_10, 'Mean:', mean_10)"
   ]
  },
  {
   "cell_type": "code",
   "execution_count": 10,
   "metadata": {},
   "outputs": [
    {
     "name": "stdout",
     "output_type": "stream",
     "text": [
      "Sum: 481 count: 10 Max: 97 Min: 5 Mean: 48.1\n"
     ]
    }
   ],
   "source": [
    "desc_10([5, 7, 22, 97, 54, 62, 77, 23, 73, 61])"
   ]
  },
  {
   "cell_type": "raw",
   "metadata": {},
   "source": [
    "Q11: Write an udf to calculate the area of different shapes\n",
    "\n",
    "Take shape and dimensions as arguments to udf as follows : \n",
    "\n",
    "1. square which has side\n",
    "2. rectangle which has length and width\n",
    "3. circle which has radius\n",
    "\n",
    "The shape should be a positional argument and it's dimensions are taken as kwargs\n",
    "\n",
    "Perform proper validation for the user inputs and then calculate area.\n",
    "\n",
    "E.g. if shape is square, ensure kwargs has \"side\" and if so, then you may return the area, else display appropriate error message like \"Please enter 'side' for a square\""
   ]
  },
  {
   "cell_type": "code",
   "execution_count": 11,
   "metadata": {},
   "outputs": [],
   "source": [
    "def func_11(shape, **kwargs):\n",
    "    if (shape == 'square'):\n",
    "        if 'side' in kwargs.keys():\n",
    "            return (kwargs['side'] ** 2)\n",
    "        else:\n",
    "            print('please submit side argument correct and valid positive number')\n",
    "        \n",
    "    if (shape == 'rectangle'):\n",
    "        if ('length' in kwargs.keys()) and ('breadth' in kwargs.keys()):\n",
    "            return (kwargs['length'] * kwargs['breadth'] )\n",
    "        else:\n",
    "            print('please submit length and breadth arguments correct and valid positive number')\n",
    "    \n",
    "    if (shape == 'circle'):\n",
    "        if 'radius' in kwargs.keys():\n",
    "            return (3.14 * kwargs['radius'] ** 2)\n",
    "        else:\n",
    "            print('please submit radius argument correct and valid positive number')"
   ]
  },
  {
   "cell_type": "code",
   "execution_count": 12,
   "metadata": {},
   "outputs": [
    {
     "data": {
      "text/plain": [
       "50.24"
      ]
     },
     "execution_count": 12,
     "metadata": {},
     "output_type": "execute_result"
    }
   ],
   "source": [
    "func_11 (shape = 'circle', radius = 4)"
   ]
  },
  {
   "cell_type": "raw",
   "metadata": {},
   "source": [
    "Q12: Write a UDF to reconcile the values within two lists.\n",
    "    l1 = ['January', 'February', 'March', 'May', 'June', 'September', 'December']\n",
    "    l2 = ['January', 'February', 'April', 'June', 'October', 'December']\n",
    "\n",
    "Hint:\n",
    "-----\n",
    "def func(l1, l2):\n",
    "    your code here...\n",
    "    \n",
    "Output:\n",
    "{'Matched': ['January', 'February', 'June', 'December'],\n",
    "    'Only in l1': ['March', 'May', 'September'],\n",
    "        'Only in l2': ['April', 'October']}"
   ]
  },
  {
   "cell_type": "code",
   "execution_count": 13,
   "metadata": {},
   "outputs": [],
   "source": [
    "def func_12(l1, l2):\n",
    "    s1 = set(l1)\n",
    "    s2 = set(l2)\n",
    "    dict_12 = {}\n",
    "    \n",
    "    l_matched = s1.intersection(s2)\n",
    "    l_l1 = s1.difference(s2)\n",
    "    l_l2 = s2.difference(s1)\n",
    "    \n",
    "    dict_12.update({'Matched': l_matched, 'Only in l1': l_l1, 'Only in l2': l_l2})\n",
    "    return dict_12"
   ]
  },
  {
   "cell_type": "code",
   "execution_count": 14,
   "metadata": {},
   "outputs": [
    {
     "data": {
      "text/plain": [
       "{'Matched': {'December', 'February', 'January', 'June'},\n",
       " 'Only in l1': {'March', 'May', 'September'},\n",
       " 'Only in l2': {'April', 'October'}}"
      ]
     },
     "execution_count": 14,
     "metadata": {},
     "output_type": "execute_result"
    }
   ],
   "source": [
    "l1 = ['January', 'February', 'March', 'May', 'June', 'September', 'December']\n",
    "l2 = ['January', 'February', 'April', 'June', 'October', 'December']\n",
    "func_12(l1, l2)"
   ]
  },
  {
   "cell_type": "raw",
   "metadata": {
    "collapsed": true
   },
   "source": [
    "Q13: write a UDF to check if a number is prime or not."
   ]
  },
  {
   "cell_type": "code",
   "execution_count": 15,
   "metadata": {},
   "outputs": [],
   "source": [
    "# Apart from 2 and 3, every prime number can be written in the \n",
    "# form of 6n + 1 or 6n – 1, where n is a natural number.\n",
    "def func_13(x): \n",
    "    '''\n",
    "    function checks whether given natural number (n>1) is prime or not\n",
    "    '''\n",
    "    if (x==2) or (x==3):\n",
    "        return print('prime number')\n",
    "    elif ((x-1)%6 == 0) or ((x+1)%6 == 0):\n",
    "        return print('prime number')\n",
    "    else:\n",
    "        return print('not a prime number')"
   ]
  },
  {
   "cell_type": "code",
   "execution_count": 16,
   "metadata": {},
   "outputs": [
    {
     "name": "stdout",
     "output_type": "stream",
     "text": [
      "Enter natural number (>1): 13\n",
      "prime number\n"
     ]
    }
   ],
   "source": [
    "num_13 = int(input('Enter natural number (>1): '))\n",
    "func_13(num_13)"
   ]
  },
  {
   "cell_type": "raw",
   "metadata": {
    "collapsed": true
   },
   "source": [
    "Q14. Write a program which can compute the factorial of a given numbers. \n",
    "#   The results should be printed in a comma-separated sequence on a single line. \n",
    "# input() function can be used for getting user(console) input\n",
    "\n",
    "\n",
    "#Suppose the input is supplied to the program:  8  \n",
    "#Then, the output should be:  40320 \n",
    "#Hints: In case of input data being supplied to the question, it should be assumed to be a console input. \n"
   ]
  },
  {
   "cell_type": "code",
   "execution_count": 17,
   "metadata": {},
   "outputs": [
    {
     "name": "stdout",
     "output_type": "stream",
     "text": [
      "Enter number to find factorial: 3\n",
      "6\n"
     ]
    }
   ],
   "source": [
    "# using for loop\n",
    "num_14 = int(input('Enter number to find factorial: '))\n",
    "fact_14 = 1\n",
    "for i in range(1, num_14 + 1):\n",
    "    fact_14 = fact_14 * i\n",
    "print(fact_14)"
   ]
  },
  {
   "cell_type": "code",
   "execution_count": 18,
   "metadata": {},
   "outputs": [
    {
     "name": "stdout",
     "output_type": "stream",
     "text": [
      "Enter number to find factorial: 7\n",
      "5040\n"
     ]
    }
   ],
   "source": [
    "# using while loop\n",
    "num_14 = int(input('Enter number to find factorial: '))\n",
    "fact_14 = 1\n",
    "i = 1\n",
    "while (i <= num_14):\n",
    "    fact_14 = fact_14 * i\n",
    "    i = i+1\n",
    "print(fact_14)"
   ]
  },
  {
   "cell_type": "raw",
   "metadata": {
    "collapsed": true
   },
   "source": [
    "Q15. With a given integral number n, write a program to generate a dictionary that contains (i, i*i) such that is an integral number between 1 and n (both included). and then the program should print the dictionary.\n",
    "\n",
    "#Suppose the following input is supplied to the program: 8\n",
    "#Then, the output should be: {1: 1, 2: 4, 3: 9, 4: 16, 5: 25, 6: 36, 7: 49, 8: 64}\n",
    "#Hints: In case of input data being supplied to the question, it should be assumed to be a console input. Consider using dict()\n",
    "\n"
   ]
  },
  {
   "cell_type": "code",
   "execution_count": 19,
   "metadata": {},
   "outputs": [
    {
     "name": "stdout",
     "output_type": "stream",
     "text": [
      "Enter a valid number: 7\n"
     ]
    },
    {
     "data": {
      "text/plain": [
       "{1: 1, 2: 4, 3: 9, 4: 16, 5: 25, 6: 36, 7: 49}"
      ]
     },
     "execution_count": 19,
     "metadata": {},
     "output_type": "execute_result"
    }
   ],
   "source": [
    "num_15 = int(input('Enter a valid number: '))\n",
    "dict_15 = {}\n",
    "for i in range(1, num_15+1):\n",
    "    dict_15.update({i : i*i})\n",
    "dict_15"
   ]
  },
  {
   "cell_type": "raw",
   "metadata": {
    "collapsed": true
   },
   "source": [
    "Q16. Write a program which accepts a sequence of comma-separated numbers from console and generate a list and a tuple which contains every number.\n",
    "#Suppose the following input is supplied to the program: 34,67,55,33,12,98\n",
    "    #Then, the output should be: ['34', '67', '55', '33', '12', '98'] ('34', '67', '55', '33', '12', '98')\n",
    "\n",
    "#Hints: In case of input data being supplied to the question, it should be assumed to be a console input. you may use tuple() method to convert list to tuple\n"
   ]
  },
  {
   "cell_type": "code",
   "execution_count": 21,
   "metadata": {},
   "outputs": [
    {
     "name": "stdout",
     "output_type": "stream",
     "text": [
      "Enter comma-seperated numbers: 1,2,3,4\n",
      "['1', '2', '3', '4'] ('1', '2', '3', '4')\n"
     ]
    }
   ],
   "source": [
    "data_16 = input('Enter comma-seperated numbers: ')\n",
    "l_16 = list(data_16.split(\",\"))\n",
    "t_16 = tuple(data_16.split(\",\"))\n",
    "print(l_16, t_16)"
   ]
  },
  {
   "cell_type": "raw",
   "metadata": {
    "collapsed": true
   },
   "source": [
    "Q17. Write a program that accepts a comma separated sequence of words as input and \n",
    "# prints the words in a comma-separated sequence after sorting them alphabetically.\n",
    "\n",
    "# Suppose the following input is supplied to the program: without,hello,bag,world\n",
    "# Then, the output should be: bag,hello,without,world\n",
    "\n",
    "#Hints: In case of input data being supplied to the question, it should be assumed to be a console input.\n"
   ]
  },
  {
   "cell_type": "code",
   "execution_count": 22,
   "metadata": {},
   "outputs": [
    {
     "name": "stdout",
     "output_type": "stream",
     "text": [
      "Enter comma seperated sequence of words: without,hello,bag,world\n",
      "bag,hello,without,world,"
     ]
    }
   ],
   "source": [
    "words_17 = input('Enter comma seperated sequence of words: ')\n",
    "l_17 = list(words_17.split(\",\"))\n",
    "l_17.sort()\n",
    "\n",
    "for x in l_17:\n",
    "    print(x, end=\",\")"
   ]
  },
  {
   "cell_type": "raw",
   "metadata": {
    "collapsed": true
   },
   "source": [
    "Q18. Write a program that accepts a sequence of whitespace separated words \n",
    "# as input and prints the words after removing all duplicate words and sorting them alphanumerically.\n",
    "# Suppose the following input is supplied to the program: hello world and practice makes perfect and hello world again\n",
    "# Then, the output should be: again and hello makes perfect practice world\n",
    "\n",
    "#Hints: In case of input data being supplied to the question, it should be assumed to be a console input.\n",
    "#We use set container to remove duplicated data automatically and then use sorted() to sort the data.\n"
   ]
  },
  {
   "cell_type": "code",
   "execution_count": 24,
   "metadata": {},
   "outputs": [
    {
     "name": "stdout",
     "output_type": "stream",
     "text": [
      "Enter sequence of whitespace seperated words: hello world and practice makes perfect and hello world again\n",
      "again and world perfect practice makes hello "
     ]
    }
   ],
   "source": [
    "words_18 = input('Enter sequence of whitespace seperated words: ')\n",
    "set_18 = set(words_18.split(\" \"))\n",
    "\n",
    "for x in set_18:\n",
    "    print(x, end=\" \")"
   ]
  },
  {
   "cell_type": "raw",
   "metadata": {
    "collapsed": true
   },
   "source": [
    "Q19. Write a program that accepts a sentence and calculate the number of upper case \n",
    "# letters and lower case letters.\n",
    "#Suppose the following input is supplied to the program: Hello world!\n",
    "#Then, the output should be: UPPER CASE 1 LOWER CASE 9\n",
    "\n",
    "#Hints: In case of input data being supplied to the question, it should be assumed to be a console input.\n"
   ]
  },
  {
   "cell_type": "code",
   "execution_count": 25,
   "metadata": {},
   "outputs": [
    {
     "name": "stdout",
     "output_type": "stream",
     "text": [
      "Enter a sentence: Hello world!\n",
      "UPPER CASE 1 LOWER CASE 9\n"
     ]
    }
   ],
   "source": [
    "str_19 = input('Enter a sentence: ')\n",
    "u_cnt = 0\n",
    "l_cnt = 0\n",
    "\n",
    "for x in str_19:\n",
    "    if x.isupper() == True:\n",
    "        u_cnt = u_cnt+1\n",
    "    elif x.islower() == True:\n",
    "        l_cnt = l_cnt+1\n",
    "print(\"UPPER CASE\", u_cnt, \"LOWER CASE\", l_cnt)"
   ]
  },
  {
   "cell_type": "raw",
   "metadata": {
    "collapsed": true
   },
   "source": [
    "Q20. Write a program that takes a string and returns reversed string. i.e. if input is \"abcd123\" output should be \"321dcba\""
   ]
  },
  {
   "cell_type": "code",
   "execution_count": 26,
   "metadata": {},
   "outputs": [
    {
     "name": "stdout",
     "output_type": "stream",
     "text": [
      "Enter a string: abcd123\n",
      "321dcba"
     ]
    }
   ],
   "source": [
    "str_20 = input('Enter a string: ')\n",
    "l_20 = []\n",
    "for i in str_20:\n",
    "    l_20.append(i)\n",
    "for x in l_20[::-1]:\n",
    "    print(x, end=\"\")\n"
   ]
  }
 ],
 "metadata": {
  "kernelspec": {
   "display_name": "Python 3 (ipykernel)",
   "language": "python",
   "name": "python3"
  },
  "language_info": {
   "codemirror_mode": {
    "name": "ipython",
    "version": 3
   },
   "file_extension": ".py",
   "mimetype": "text/x-python",
   "name": "python",
   "nbconvert_exporter": "python",
   "pygments_lexer": "ipython3",
   "version": "3.10.9"
  },
  "varInspector": {
   "cols": {
    "lenName": 16,
    "lenType": 16,
    "lenVar": 40
   },
   "kernels_config": {
    "python": {
     "delete_cmd_postfix": "",
     "delete_cmd_prefix": "del ",
     "library": "var_list.py",
     "varRefreshCmd": "print(var_dic_list())"
    },
    "r": {
     "delete_cmd_postfix": ") ",
     "delete_cmd_prefix": "rm(",
     "library": "var_list.r",
     "varRefreshCmd": "cat(var_dic_list()) "
    }
   },
   "types_to_exclude": [
    "module",
    "function",
    "builtin_function_or_method",
    "instance",
    "_Feature"
   ],
   "window_display": false
  }
 },
 "nbformat": 4,
 "nbformat_minor": 2
}
