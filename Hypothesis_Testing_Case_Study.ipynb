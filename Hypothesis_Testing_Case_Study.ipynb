{
 "cells": [
  {
   "cell_type": "markdown",
   "id": "f99c3636",
   "metadata": {},
   "source": [
    "### BUSINESS PROBLEM-1"
   ]
  },
  {
   "cell_type": "code",
   "execution_count": 4,
   "id": "360ec041",
   "metadata": {},
   "outputs": [],
   "source": [
    "import pandas as pd\n",
    "import numpy as np\n",
    "import matplotlib.pyplot as plt\n",
    "from scipy import stats as stats"
   ]
  },
  {
   "cell_type": "code",
   "execution_count": 2,
   "id": "3fc23dff",
   "metadata": {},
   "outputs": [
    {
     "data": {
      "text/plain": [
       "'C://previous laptop//PG_Certification_in_Data_Science//Classes - Term 2//2 Case Studies//4. Basic Statistics - Hypothesis Testing//LoansData.csv'"
      ]
     },
     "execution_count": 2,
     "metadata": {},
     "output_type": "execute_result"
    }
   ],
   "source": [
    "file_path = \"C://previous laptop//PG_Certification_in_Data_Science//Classes - Term 2//2 Case Studies//4. Basic Statistics - Hypothesis Testing//\"\n",
    "file_name = \"LoansData.csv\"\n",
    "file_path + file_name"
   ]
  },
  {
   "cell_type": "code",
   "execution_count": 4,
   "id": "fa649236",
   "metadata": {},
   "outputs": [],
   "source": [
    "ldata = pd.read_csv(file_path + file_name)"
   ]
  },
  {
   "cell_type": "code",
   "execution_count": 5,
   "id": "e98a5375",
   "metadata": {},
   "outputs": [
    {
     "data": {
      "text/html": [
       "<div>\n",
       "<style scoped>\n",
       "    .dataframe tbody tr th:only-of-type {\n",
       "        vertical-align: middle;\n",
       "    }\n",
       "\n",
       "    .dataframe tbody tr th {\n",
       "        vertical-align: top;\n",
       "    }\n",
       "\n",
       "    .dataframe thead th {\n",
       "        text-align: right;\n",
       "    }\n",
       "</style>\n",
       "<table border=\"1\" class=\"dataframe\">\n",
       "  <thead>\n",
       "    <tr style=\"text-align: right;\">\n",
       "      <th></th>\n",
       "      <th>Amount.Requested</th>\n",
       "      <th>Amount.Funded.By.Investors</th>\n",
       "      <th>Interest.Rate</th>\n",
       "      <th>Loan.Length</th>\n",
       "      <th>Loan.Purpose</th>\n",
       "      <th>Debt.To.Income.Ratio</th>\n",
       "      <th>State</th>\n",
       "      <th>Home.Ownership</th>\n",
       "      <th>Monthly.Income</th>\n",
       "      <th>FICO.Range</th>\n",
       "      <th>Open.CREDIT.Lines</th>\n",
       "      <th>Revolving.CREDIT.Balance</th>\n",
       "      <th>Inquiries.in.the.Last.6.Months</th>\n",
       "      <th>Employment.Length</th>\n",
       "    </tr>\n",
       "  </thead>\n",
       "  <tbody>\n",
       "    <tr>\n",
       "      <th>0</th>\n",
       "      <td>20000.0</td>\n",
       "      <td>20000.0</td>\n",
       "      <td>8.90%</td>\n",
       "      <td>36 months</td>\n",
       "      <td>debt_consolidation</td>\n",
       "      <td>14.90%</td>\n",
       "      <td>SC</td>\n",
       "      <td>MORTGAGE</td>\n",
       "      <td>6541.67</td>\n",
       "      <td>735-739</td>\n",
       "      <td>14.0</td>\n",
       "      <td>14272.0</td>\n",
       "      <td>2.0</td>\n",
       "      <td>&lt; 1 year</td>\n",
       "    </tr>\n",
       "    <tr>\n",
       "      <th>1</th>\n",
       "      <td>19200.0</td>\n",
       "      <td>19200.0</td>\n",
       "      <td>12.12%</td>\n",
       "      <td>36 months</td>\n",
       "      <td>debt_consolidation</td>\n",
       "      <td>28.36%</td>\n",
       "      <td>TX</td>\n",
       "      <td>MORTGAGE</td>\n",
       "      <td>4583.33</td>\n",
       "      <td>715-719</td>\n",
       "      <td>12.0</td>\n",
       "      <td>11140.0</td>\n",
       "      <td>1.0</td>\n",
       "      <td>2 years</td>\n",
       "    </tr>\n",
       "    <tr>\n",
       "      <th>2</th>\n",
       "      <td>35000.0</td>\n",
       "      <td>35000.0</td>\n",
       "      <td>21.98%</td>\n",
       "      <td>60 months</td>\n",
       "      <td>debt_consolidation</td>\n",
       "      <td>23.81%</td>\n",
       "      <td>CA</td>\n",
       "      <td>MORTGAGE</td>\n",
       "      <td>11500.00</td>\n",
       "      <td>690-694</td>\n",
       "      <td>14.0</td>\n",
       "      <td>21977.0</td>\n",
       "      <td>1.0</td>\n",
       "      <td>2 years</td>\n",
       "    </tr>\n",
       "    <tr>\n",
       "      <th>3</th>\n",
       "      <td>10000.0</td>\n",
       "      <td>9975.0</td>\n",
       "      <td>9.99%</td>\n",
       "      <td>36 months</td>\n",
       "      <td>debt_consolidation</td>\n",
       "      <td>14.30%</td>\n",
       "      <td>KS</td>\n",
       "      <td>MORTGAGE</td>\n",
       "      <td>3833.33</td>\n",
       "      <td>695-699</td>\n",
       "      <td>10.0</td>\n",
       "      <td>9346.0</td>\n",
       "      <td>0.0</td>\n",
       "      <td>5 years</td>\n",
       "    </tr>\n",
       "    <tr>\n",
       "      <th>4</th>\n",
       "      <td>12000.0</td>\n",
       "      <td>12000.0</td>\n",
       "      <td>11.71%</td>\n",
       "      <td>36 months</td>\n",
       "      <td>credit_card</td>\n",
       "      <td>18.78%</td>\n",
       "      <td>NJ</td>\n",
       "      <td>RENT</td>\n",
       "      <td>3195.00</td>\n",
       "      <td>695-699</td>\n",
       "      <td>11.0</td>\n",
       "      <td>14469.0</td>\n",
       "      <td>0.0</td>\n",
       "      <td>9 years</td>\n",
       "    </tr>\n",
       "  </tbody>\n",
       "</table>\n",
       "</div>"
      ],
      "text/plain": [
       "   Amount.Requested  Amount.Funded.By.Investors Interest.Rate Loan.Length  \\\n",
       "0           20000.0                     20000.0         8.90%   36 months   \n",
       "1           19200.0                     19200.0        12.12%   36 months   \n",
       "2           35000.0                     35000.0        21.98%   60 months   \n",
       "3           10000.0                      9975.0         9.99%   36 months   \n",
       "4           12000.0                     12000.0        11.71%   36 months   \n",
       "\n",
       "         Loan.Purpose Debt.To.Income.Ratio State Home.Ownership  \\\n",
       "0  debt_consolidation               14.90%    SC       MORTGAGE   \n",
       "1  debt_consolidation               28.36%    TX       MORTGAGE   \n",
       "2  debt_consolidation               23.81%    CA       MORTGAGE   \n",
       "3  debt_consolidation               14.30%    KS       MORTGAGE   \n",
       "4         credit_card               18.78%    NJ           RENT   \n",
       "\n",
       "   Monthly.Income FICO.Range  Open.CREDIT.Lines  Revolving.CREDIT.Balance  \\\n",
       "0         6541.67    735-739               14.0                   14272.0   \n",
       "1         4583.33    715-719               12.0                   11140.0   \n",
       "2        11500.00    690-694               14.0                   21977.0   \n",
       "3         3833.33    695-699               10.0                    9346.0   \n",
       "4         3195.00    695-699               11.0                   14469.0   \n",
       "\n",
       "   Inquiries.in.the.Last.6.Months Employment.Length  \n",
       "0                             2.0          < 1 year  \n",
       "1                             1.0           2 years  \n",
       "2                             1.0           2 years  \n",
       "3                             0.0           5 years  \n",
       "4                             0.0           9 years  "
      ]
     },
     "execution_count": 5,
     "metadata": {},
     "output_type": "execute_result"
    }
   ],
   "source": [
    "ldata.head()"
   ]
  },
  {
   "cell_type": "code",
   "execution_count": 39,
   "id": "d98c02ca",
   "metadata": {},
   "outputs": [
    {
     "name": "stdout",
     "output_type": "stream",
     "text": [
      "<class 'pandas.core.frame.DataFrame'>\n",
      "RangeIndex: 2500 entries, 0 to 2499\n",
      "Data columns (total 14 columns):\n",
      " #   Column                          Non-Null Count  Dtype  \n",
      "---  ------                          --------------  -----  \n",
      " 0   Amount.Requested                2499 non-null   float64\n",
      " 1   Amount.Funded.By.Investors      2499 non-null   float64\n",
      " 2   Interest.Rate                   2498 non-null   object \n",
      " 3   Loan.Length                     2500 non-null   object \n",
      " 4   Loan.Purpose                    2500 non-null   object \n",
      " 5   Debt.To.Income.Ratio            2499 non-null   object \n",
      " 6   State                           2500 non-null   object \n",
      " 7   Home.Ownership                  2499 non-null   object \n",
      " 8   Monthly.Income                  2499 non-null   float64\n",
      " 9   FICO.Range                      2498 non-null   object \n",
      " 10  Open.CREDIT.Lines               2497 non-null   float64\n",
      " 11  Revolving.CREDIT.Balance        2497 non-null   float64\n",
      " 12  Inquiries.in.the.Last.6.Months  2497 non-null   float64\n",
      " 13  Employment.Length               2423 non-null   object \n",
      "dtypes: float64(6), object(8)\n",
      "memory usage: 273.6+ KB\n"
     ]
    }
   ],
   "source": [
    "ldata.info()"
   ]
  },
  {
   "cell_type": "code",
   "execution_count": 40,
   "id": "66781014",
   "metadata": {},
   "outputs": [
    {
     "data": {
      "text/plain": [
       "Amount.Requested                   1\n",
       "Amount.Funded.By.Investors         1\n",
       "Interest.Rate                      2\n",
       "Loan.Length                        0\n",
       "Loan.Purpose                       0\n",
       "Debt.To.Income.Ratio               1\n",
       "State                              0\n",
       "Home.Ownership                     1\n",
       "Monthly.Income                     1\n",
       "FICO.Range                         2\n",
       "Open.CREDIT.Lines                  3\n",
       "Revolving.CREDIT.Balance           3\n",
       "Inquiries.in.the.Last.6.Months     3\n",
       "Employment.Length                 77\n",
       "dtype: int64"
      ]
     },
     "execution_count": 40,
     "metadata": {},
     "output_type": "execute_result"
    }
   ],
   "source": [
    "ldata.isnull().sum()"
   ]
  },
  {
   "cell_type": "code",
   "execution_count": 7,
   "id": "101a4199",
   "metadata": {},
   "outputs": [
    {
     "data": {
      "text/plain": [
       "0"
      ]
     },
     "execution_count": 7,
     "metadata": {},
     "output_type": "execute_result"
    }
   ],
   "source": [
    "ldata.duplicated().sum()"
   ]
  },
  {
   "cell_type": "raw",
   "id": "28d27f4c",
   "metadata": {},
   "source": [
    "Using lending club loans data, the team would like to test below hypothesis on how different \n",
    "factors effecing each other (Hint: You may leverage hypothesis testing using statistical tests)\n",
    "a. Intrest rate is varied for different loan amounts (Less intrest charged for high loan \n",
    "amounts)\n",
    "b. Loan length is directly effecting intrest rate.\n",
    "c. Inrest rate varies for different purpose of loans\n",
    "d. There is relationship between FICO scores and Home Ownership. It means that, People \n",
    "with owning home will have high FICO scores."
   ]
  },
  {
   "cell_type": "code",
   "execution_count": null,
   "id": "ea43451f",
   "metadata": {},
   "outputs": [],
   "source": [
    "a. Intrest rate is varied for different loan amounts (Less intrest charged for high loan \n",
    "amounts)"
   ]
  },
  {
   "cell_type": "code",
   "execution_count": 11,
   "id": "50de4ae8",
   "metadata": {},
   "outputs": [],
   "source": [
    "# converting interest rate to float datatype\n",
    "# since loan amount and interest rate both are numeric data type, we can use the correlation method\n",
    "# for the hypothesis testing"
   ]
  },
  {
   "cell_type": "code",
   "execution_count": 6,
   "id": "5d6edecb",
   "metadata": {},
   "outputs": [],
   "source": [
    "ldata['Interest.Rate'] = ldata['Interest.Rate'].str.replace('%','').astype('float')"
   ]
  },
  {
   "cell_type": "code",
   "execution_count": 7,
   "id": "106e9f96",
   "metadata": {},
   "outputs": [],
   "source": [
    "ldata['Interest.Rate'].fillna(ldata['Interest.Rate'].median(), inplace=True)\n",
    "ldata['Amount.Funded.By.Investors'].fillna(ldata['Amount.Funded.By.Investors'].mean(), inplace=True)"
   ]
  },
  {
   "cell_type": "code",
   "execution_count": 19,
   "id": "e12f5cff",
   "metadata": {},
   "outputs": [],
   "source": [
    "# H0: Interest rate is varied for different loan amounts\n",
    "# Ha: Interest rate is not varied for different loan amounts"
   ]
  },
  {
   "cell_type": "code",
   "execution_count": 43,
   "id": "3ad3f5cc",
   "metadata": {},
   "outputs": [
    {
     "data": {
      "image/png": "[encoded data removed]",
      "text/plain": [
       "<Figure size 640x480 with 1 Axes>"
      ]
     },
     "metadata": {},
     "output_type": "display_data"
    }
   ],
   "source": [
    "# Relationship between loan amount vs Interest rate\n",
    "ldata.plot(kind='scatter', x='Interest.Rate', y='Amount.Funded.By.Investors')\n",
    "plt.show()"
   ]
  },
  {
   "cell_type": "code",
   "execution_count": 44,
   "id": "87cfeb3a",
   "metadata": {
    "scrolled": true
   },
   "outputs": [
    {
     "data": {
      "text/html": [
       "<div>\n",
       "<style scoped>\n",
       "    .dataframe tbody tr th:only-of-type {\n",
       "        vertical-align: middle;\n",
       "    }\n",
       "\n",
       "    .dataframe tbody tr th {\n",
       "        vertical-align: top;\n",
       "    }\n",
       "\n",
       "    .dataframe thead th {\n",
       "        text-align: right;\n",
       "    }\n",
       "</style>\n",
       "<table border=\"1\" class=\"dataframe\">\n",
       "  <thead>\n",
       "    <tr style=\"text-align: right;\">\n",
       "      <th></th>\n",
       "      <th>Amount.Funded.By.Investors</th>\n",
       "      <th>Interest.Rate</th>\n",
       "    </tr>\n",
       "  </thead>\n",
       "  <tbody>\n",
       "    <tr>\n",
       "      <th>Amount.Funded.By.Investors</th>\n",
       "      <td>1.00000</td>\n",
       "      <td>0.33743</td>\n",
       "    </tr>\n",
       "    <tr>\n",
       "      <th>Interest.Rate</th>\n",
       "      <td>0.33743</td>\n",
       "      <td>1.00000</td>\n",
       "    </tr>\n",
       "  </tbody>\n",
       "</table>\n",
       "</div>"
      ],
      "text/plain": [
       "                            Amount.Funded.By.Investors  Interest.Rate\n",
       "Amount.Funded.By.Investors                     1.00000        0.33743\n",
       "Interest.Rate                                  0.33743        1.00000"
      ]
     },
     "execution_count": 44,
     "metadata": {},
     "output_type": "execute_result"
    }
   ],
   "source": [
    "ldata.loc[:,['Amount.Funded.By.Investors','Interest.Rate']].corr()"
   ]
  },
  {
   "cell_type": "code",
   "execution_count": 45,
   "id": "7f1fd2f5",
   "metadata": {},
   "outputs": [
    {
     "data": {
      "text/plain": [
       "PearsonRResult(statistic=0.3374298974058292, pvalue=1.2724784377448871e-67)"
      ]
     },
     "execution_count": 45,
     "metadata": {},
     "output_type": "execute_result"
    }
   ],
   "source": [
    "# H0: Interest rate is varied for different loan amounts\n",
    "# Ha: Interest rate is not varied for different loan amounts\n",
    "\n",
    "# CI: 95%, p-value: 0.05\n",
    "\n",
    "# perform the test\n",
    "stats.pearsonr(ldata['Amount.Funded.By.Investors'],ldata['Interest.Rate'])"
   ]
  },
  {
   "cell_type": "code",
   "execution_count": 30,
   "id": "0db086ba",
   "metadata": {},
   "outputs": [],
   "source": [
    "# Conclusion: since p-value is very low compared to 0.05, we REJECT the NULL HYPOTHESIS.\n",
    "# Hence interest rate is not varied for different loan amounts. \n",
    "# Interest rate has no statistically significant relation with the loan amounts"
   ]
  },
  {
   "cell_type": "code",
   "execution_count": null,
   "id": "63b54197",
   "metadata": {},
   "outputs": [],
   "source": [
    "b. Loan length is directly effecting intrest rate."
   ]
  },
  {
   "cell_type": "code",
   "execution_count": 49,
   "id": "a5bb7e03",
   "metadata": {},
   "outputs": [
    {
     "data": {
      "text/plain": [
       "36 months    1952\n",
       "60 months     548\n",
       "Name: Loan.Length, dtype: int64"
      ]
     },
     "execution_count": 49,
     "metadata": {},
     "output_type": "execute_result"
    }
   ],
   "source": [
    "ldata['Loan.Length'].value_counts()"
   ]
  },
  {
   "cell_type": "code",
   "execution_count": 51,
   "id": "f57cf4f8",
   "metadata": {},
   "outputs": [],
   "source": [
    "# loan length is categorical variable (2 categories) and interest rate is numeric data type now. \n",
    "# Hence we can use independent sample t-test for 2 samples"
   ]
  },
  {
   "cell_type": "code",
   "execution_count": 8,
   "id": "d51680b4",
   "metadata": {},
   "outputs": [
    {
     "name": "stdout",
     "output_type": "stream",
     "text": [
      "mean of s1: 12.127187500000002 | mean of s2: 16.407463503649634\n"
     ]
    }
   ],
   "source": [
    "irate = 'Interest.Rate'\n",
    "\n",
    "#filtering the data based on loan length\n",
    "s1 = ldata.loc[ldata['Loan.Length'] == '36 months', irate]\n",
    "s2 = ldata.loc[ldata['Loan.Length'] == '60 months', irate]\n",
    "\n",
    "# display mean of both the segments\n",
    "print('mean of s1:', s1.mean(),'| mean of s2:', s2.mean())"
   ]
  },
  {
   "cell_type": "code",
   "execution_count": 13,
   "id": "3f49c9c8",
   "metadata": {},
   "outputs": [
    {
     "data": {
      "text/plain": [
       "Ttest_indResult(statistic=-23.41018409028735, pvalue=9.605991607836192e-110)"
      ]
     },
     "execution_count": 13,
     "metadata": {},
     "output_type": "execute_result"
    }
   ],
   "source": [
    "# Ho: Loan length is directly effecting the interest rate\n",
    "# Ha: loan length is not directly effecting the interest rate\n",
    "# CI: 99%, p_value = 0.01\n",
    "\n",
    "#perform the test\n",
    "stats.ttest_ind(s1,s2)"
   ]
  },
  {
   "cell_type": "code",
   "execution_count": 57,
   "id": "06f91abf",
   "metadata": {},
   "outputs": [],
   "source": [
    "# Conclusion: Since p_value is less than 0.01, we REJECT the NULL HYPOTHESIS.\n",
    "# Hence loan length is not directly effecting the interest rate"
   ]
  },
  {
   "cell_type": "code",
   "execution_count": null,
   "id": "a8b76007",
   "metadata": {},
   "outputs": [],
   "source": [
    "c. Interest rate varies for different purpose of loans"
   ]
  },
  {
   "cell_type": "code",
   "execution_count": 7,
   "id": "66140e28",
   "metadata": {},
   "outputs": [
    {
     "data": {
      "text/plain": [
       "14"
      ]
     },
     "execution_count": 7,
     "metadata": {},
     "output_type": "execute_result"
    }
   ],
   "source": [
    "# Total unique loan purpose\n",
    "ldata['Loan.Purpose'].nunique()"
   ]
  },
  {
   "cell_type": "code",
   "execution_count": null,
   "id": "476c5268",
   "metadata": {},
   "outputs": [],
   "source": [
    "# loan purpose is categorical variable and interest rate is numeric data type now. \n",
    "# Hence we can use the ANOVA method to find the relationship between both the variables"
   ]
  },
  {
   "cell_type": "code",
   "execution_count": 53,
   "id": "0486e6bf",
   "metadata": {},
   "outputs": [
    {
     "data": {
      "text/plain": [
       "debt_consolidation    1307\n",
       "credit_card            444\n",
       "other                  201\n",
       "home_improvement       152\n",
       "major_purchase         101\n",
       "small_business          87\n",
       "car                     50\n",
       "wedding                 39\n",
       "medical                 30\n",
       "moving                  29\n",
       "vacation                21\n",
       "house                   20\n",
       "educational             15\n",
       "renewable_energy         4\n",
       "Name: Loan.Purpose, dtype: int64"
      ]
     },
     "execution_count": 53,
     "metadata": {},
     "output_type": "execute_result"
    }
   ],
   "source": [
    "# get the frequency of loan purpose\n",
    "ldata['Loan.Purpose'].value_counts()"
   ]
  },
  {
   "cell_type": "code",
   "execution_count": 57,
   "id": "a08a7aa7",
   "metadata": {},
   "outputs": [
    {
     "data": {
      "text/plain": [
       "Index(['debt_consolidation', 'credit_card', 'other', 'home_improvement',\n",
       "       'major_purchase', 'small_business', 'car', 'wedding', 'medical',\n",
       "       'moving', 'vacation', 'house', 'educational', 'renewable_energy'],\n",
       "      dtype='object')"
      ]
     },
     "execution_count": 57,
     "metadata": {},
     "output_type": "execute_result"
    }
   ],
   "source": [
    "# creating a series of loan purpose\n",
    "purpose = ldata['Loan.Purpose'].value_counts().index\n",
    "# will need index while creating different sections\n",
    "purpose"
   ]
  },
  {
   "cell_type": "code",
   "execution_count": 62,
   "id": "12aae6af",
   "metadata": {},
   "outputs": [],
   "source": [
    "# creating dictionary of variables for saving the data as per loan purpose and,\n",
    "# adding the data(interest rate) into the variables as per the loan purpose \n",
    "pdict = {}\n",
    "irate = 'Interest.Rate'\n",
    "for i in range(0,14):\n",
    "    nam = 'p'+str(i+1)\n",
    "    pdict[nam] = ldata.loc[ldata['Loan.Purpose']==purpose[i],irate]"
   ]
  },
  {
   "cell_type": "code",
   "execution_count": 63,
   "id": "5985dcd3",
   "metadata": {
    "scrolled": true
   },
   "outputs": [
    {
     "name": "stdout",
     "output_type": "stream",
     "text": [
      "Mean of p1 = 13.58691660290742\n",
      "Mean of p2 = 13.05078828828829\n",
      "Mean of p3 = 13.15955223880597\n",
      "Mean of p4 = 11.594276315789473\n",
      "Mean of p5 = 10.797821782178216\n",
      "Mean of p6 = 12.83919540229885\n",
      "Mean of p7 = 11.113000000000001\n",
      "Mean of p8 = 12.074358974358976\n",
      "Mean of p9 = 11.649666666666667\n",
      "Mean of p10 = 13.621034482758622\n",
      "Mean of p11 = 11.966190476190476\n",
      "Mean of p12 = 13.447999999999999\n",
      "Mean of p13 = 11.007333333333332\n",
      "Mean of p14 = 9.8775\n"
     ]
    }
   ],
   "source": [
    "# display the mean of the interest rate as per the loan purpose\n",
    "for i in pdict:\n",
    "    print(\"Mean of\", i, \"=\", pdict[i].mean())"
   ]
  },
  {
   "cell_type": "code",
   "execution_count": 75,
   "id": "48d4d9e8",
   "metadata": {},
   "outputs": [
    {
     "data": {
      "text/plain": [
       "F_onewayResult(statistic=7.482212567168054, pvalue=1.1627206793499994e-14)"
      ]
     },
     "execution_count": 75,
     "metadata": {},
     "output_type": "execute_result"
    }
   ],
   "source": [
    "# Ho: Interest rate varies for different purpose of loans\n",
    "# Ha: Interest rate does not varies for different purpose of loans\n",
    "# CI: 99%, p_value = 0.01\n",
    "\n",
    "# perform the test\n",
    "stats.f_oneway(pdict['p1'],\n",
    "               pdict['p2'],\n",
    "               pdict['p3'],\n",
    "               pdict['p4'],\n",
    "               pdict['p5'],\n",
    "               pdict['p6'],\n",
    "               pdict['p7'],\n",
    "               pdict['p8'],\n",
    "               pdict['p9'],\n",
    "               pdict['p10'],\n",
    "               pdict['p11'],\n",
    "               pdict['p12'],\n",
    "               pdict['p13'],\n",
    "               pdict['p14'])"
   ]
  },
  {
   "cell_type": "code",
   "execution_count": null,
   "id": "32840805",
   "metadata": {},
   "outputs": [],
   "source": [
    "# Conclusion: since p_value is less than 0.01, we REJECT the NULL Hypothesis\n",
    "# Hence Interest rate does not varies statistically for different purpose of loans"
   ]
  },
  {
   "cell_type": "code",
   "execution_count": null,
   "id": "1e69fd6d",
   "metadata": {},
   "outputs": [],
   "source": []
  },
  {
   "cell_type": "code",
   "execution_count": null,
   "id": "b7997e48",
   "metadata": {},
   "outputs": [],
   "source": [
    "d. There is relationship between FICO scores and Home Ownership. It means that, People \n",
    "with owning home will have high FICO scores."
   ]
  },
  {
   "cell_type": "code",
   "execution_count": 95,
   "id": "f565e84c",
   "metadata": {},
   "outputs": [
    {
     "data": {
      "text/plain": [
       "Index(['Amount.Requested', 'Amount.Funded.By.Investors', 'Interest.Rate',\n",
       "       'Loan.Length', 'Loan.Purpose', 'Debt.To.Income.Ratio', 'State',\n",
       "       'Home.Ownership', 'Monthly.Income', 'FICO.Range', 'Open.CREDIT.Lines',\n",
       "       'Revolving.CREDIT.Balance', 'Inquiries.in.the.Last.6.Months',\n",
       "       'Employment.Length'],\n",
       "      dtype='object')"
      ]
     },
     "execution_count": 95,
     "metadata": {},
     "output_type": "execute_result"
    }
   ],
   "source": [
    "ldata.columns"
   ]
  },
  {
   "cell_type": "code",
   "execution_count": 96,
   "id": "87723ce2",
   "metadata": {},
   "outputs": [
    {
     "data": {
      "text/plain": [
       "38"
      ]
     },
     "execution_count": 96,
     "metadata": {},
     "output_type": "execute_result"
    }
   ],
   "source": [
    "ldata['FICO.Range'].nunique()"
   ]
  },
  {
   "cell_type": "code",
   "execution_count": 97,
   "id": "9856ff37",
   "metadata": {},
   "outputs": [
    {
     "data": {
      "text/plain": [
       "5"
      ]
     },
     "execution_count": 97,
     "metadata": {},
     "output_type": "execute_result"
    }
   ],
   "source": [
    "ldata['Home.Ownership'].nunique()"
   ]
  },
  {
   "cell_type": "code",
   "execution_count": 101,
   "id": "5ef89cf0",
   "metadata": {},
   "outputs": [],
   "source": [
    "ldata['FICO.Range'].fillna(ldata['FICO.Range'].mode().loc[0], inplace=True)\n",
    "ldata['Home.Ownership'].fillna(ldata['Home.Ownership'].mode().loc[0], inplace=True)"
   ]
  },
  {
   "cell_type": "code",
   "execution_count": 98,
   "id": "0771c8ec",
   "metadata": {},
   "outputs": [],
   "source": [
    "# since both the variables are of type categorical. \n",
    "# We will use the chi-sq test for the hypothesis testing"
   ]
  },
  {
   "cell_type": "code",
   "execution_count": 102,
   "id": "417ff003",
   "metadata": {},
   "outputs": [
    {
     "data": {
      "text/html": [
       "<div>\n",
       "<style scoped>\n",
       "    .dataframe tbody tr th:only-of-type {\n",
       "        vertical-align: middle;\n",
       "    }\n",
       "\n",
       "    .dataframe tbody tr th {\n",
       "        vertical-align: top;\n",
       "    }\n",
       "\n",
       "    .dataframe thead th {\n",
       "        text-align: right;\n",
       "    }\n",
       "</style>\n",
       "<table border=\"1\" class=\"dataframe\">\n",
       "  <thead>\n",
       "    <tr style=\"text-align: right;\">\n",
       "      <th>Home.Ownership</th>\n",
       "      <th>MORTGAGE</th>\n",
       "      <th>NONE</th>\n",
       "      <th>OTHER</th>\n",
       "      <th>OWN</th>\n",
       "      <th>RENT</th>\n",
       "    </tr>\n",
       "    <tr>\n",
       "      <th>FICO.Range</th>\n",
       "      <th></th>\n",
       "      <th></th>\n",
       "      <th></th>\n",
       "      <th></th>\n",
       "      <th></th>\n",
       "    </tr>\n",
       "  </thead>\n",
       "  <tbody>\n",
       "    <tr>\n",
       "      <th>640-644</th>\n",
       "      <td>0</td>\n",
       "      <td>0</td>\n",
       "      <td>0</td>\n",
       "      <td>1</td>\n",
       "      <td>4</td>\n",
       "    </tr>\n",
       "    <tr>\n",
       "      <th>645-649</th>\n",
       "      <td>1</td>\n",
       "      <td>0</td>\n",
       "      <td>0</td>\n",
       "      <td>0</td>\n",
       "      <td>2</td>\n",
       "    </tr>\n",
       "    <tr>\n",
       "      <th>650-654</th>\n",
       "      <td>1</td>\n",
       "      <td>0</td>\n",
       "      <td>0</td>\n",
       "      <td>0</td>\n",
       "      <td>0</td>\n",
       "    </tr>\n",
       "    <tr>\n",
       "      <th>655-659</th>\n",
       "      <td>0</td>\n",
       "      <td>0</td>\n",
       "      <td>1</td>\n",
       "      <td>0</td>\n",
       "      <td>3</td>\n",
       "    </tr>\n",
       "    <tr>\n",
       "      <th>660-664</th>\n",
       "      <td>41</td>\n",
       "      <td>0</td>\n",
       "      <td>0</td>\n",
       "      <td>17</td>\n",
       "      <td>67</td>\n",
       "    </tr>\n",
       "    <tr>\n",
       "      <th>665-669</th>\n",
       "      <td>52</td>\n",
       "      <td>0</td>\n",
       "      <td>0</td>\n",
       "      <td>18</td>\n",
       "      <td>75</td>\n",
       "    </tr>\n",
       "    <tr>\n",
       "      <th>670-674</th>\n",
       "      <td>68</td>\n",
       "      <td>0</td>\n",
       "      <td>1</td>\n",
       "      <td>13</td>\n",
       "      <td>91</td>\n",
       "    </tr>\n",
       "    <tr>\n",
       "      <th>675-679</th>\n",
       "      <td>79</td>\n",
       "      <td>0</td>\n",
       "      <td>1</td>\n",
       "      <td>11</td>\n",
       "      <td>75</td>\n",
       "    </tr>\n",
       "    <tr>\n",
       "      <th>680-684</th>\n",
       "      <td>55</td>\n",
       "      <td>0</td>\n",
       "      <td>2</td>\n",
       "      <td>9</td>\n",
       "      <td>91</td>\n",
       "    </tr>\n",
       "    <tr>\n",
       "      <th>685-689</th>\n",
       "      <td>61</td>\n",
       "      <td>0</td>\n",
       "      <td>0</td>\n",
       "      <td>10</td>\n",
       "      <td>65</td>\n",
       "    </tr>\n",
       "    <tr>\n",
       "      <th>690-694</th>\n",
       "      <td>55</td>\n",
       "      <td>0</td>\n",
       "      <td>0</td>\n",
       "      <td>10</td>\n",
       "      <td>75</td>\n",
       "    </tr>\n",
       "    <tr>\n",
       "      <th>695-699</th>\n",
       "      <td>68</td>\n",
       "      <td>0</td>\n",
       "      <td>0</td>\n",
       "      <td>10</td>\n",
       "      <td>75</td>\n",
       "    </tr>\n",
       "    <tr>\n",
       "      <th>700-704</th>\n",
       "      <td>60</td>\n",
       "      <td>0</td>\n",
       "      <td>0</td>\n",
       "      <td>12</td>\n",
       "      <td>59</td>\n",
       "    </tr>\n",
       "    <tr>\n",
       "      <th>705-709</th>\n",
       "      <td>66</td>\n",
       "      <td>0</td>\n",
       "      <td>0</td>\n",
       "      <td>12</td>\n",
       "      <td>56</td>\n",
       "    </tr>\n",
       "    <tr>\n",
       "      <th>710-714</th>\n",
       "      <td>55</td>\n",
       "      <td>0</td>\n",
       "      <td>0</td>\n",
       "      <td>10</td>\n",
       "      <td>47</td>\n",
       "    </tr>\n",
       "    <tr>\n",
       "      <th>715-719</th>\n",
       "      <td>46</td>\n",
       "      <td>0</td>\n",
       "      <td>0</td>\n",
       "      <td>2</td>\n",
       "      <td>45</td>\n",
       "    </tr>\n",
       "    <tr>\n",
       "      <th>720-724</th>\n",
       "      <td>49</td>\n",
       "      <td>0</td>\n",
       "      <td>0</td>\n",
       "      <td>1</td>\n",
       "      <td>64</td>\n",
       "    </tr>\n",
       "    <tr>\n",
       "      <th>725-729</th>\n",
       "      <td>48</td>\n",
       "      <td>0</td>\n",
       "      <td>0</td>\n",
       "      <td>5</td>\n",
       "      <td>41</td>\n",
       "    </tr>\n",
       "    <tr>\n",
       "      <th>730-734</th>\n",
       "      <td>46</td>\n",
       "      <td>0</td>\n",
       "      <td>0</td>\n",
       "      <td>7</td>\n",
       "      <td>41</td>\n",
       "    </tr>\n",
       "    <tr>\n",
       "      <th>735-739</th>\n",
       "      <td>30</td>\n",
       "      <td>0</td>\n",
       "      <td>0</td>\n",
       "      <td>6</td>\n",
       "      <td>29</td>\n",
       "    </tr>\n",
       "    <tr>\n",
       "      <th>740-744</th>\n",
       "      <td>26</td>\n",
       "      <td>0</td>\n",
       "      <td>0</td>\n",
       "      <td>4</td>\n",
       "      <td>23</td>\n",
       "    </tr>\n",
       "    <tr>\n",
       "      <th>745-749</th>\n",
       "      <td>26</td>\n",
       "      <td>0</td>\n",
       "      <td>0</td>\n",
       "      <td>7</td>\n",
       "      <td>21</td>\n",
       "    </tr>\n",
       "    <tr>\n",
       "      <th>750-754</th>\n",
       "      <td>32</td>\n",
       "      <td>0</td>\n",
       "      <td>0</td>\n",
       "      <td>4</td>\n",
       "      <td>25</td>\n",
       "    </tr>\n",
       "    <tr>\n",
       "      <th>755-759</th>\n",
       "      <td>28</td>\n",
       "      <td>0</td>\n",
       "      <td>0</td>\n",
       "      <td>6</td>\n",
       "      <td>12</td>\n",
       "    </tr>\n",
       "    <tr>\n",
       "      <th>760-764</th>\n",
       "      <td>28</td>\n",
       "      <td>0</td>\n",
       "      <td>0</td>\n",
       "      <td>4</td>\n",
       "      <td>14</td>\n",
       "    </tr>\n",
       "    <tr>\n",
       "      <th>765-769</th>\n",
       "      <td>22</td>\n",
       "      <td>0</td>\n",
       "      <td>0</td>\n",
       "      <td>3</td>\n",
       "      <td>11</td>\n",
       "    </tr>\n",
       "    <tr>\n",
       "      <th>770-774</th>\n",
       "      <td>12</td>\n",
       "      <td>0</td>\n",
       "      <td>0</td>\n",
       "      <td>1</td>\n",
       "      <td>4</td>\n",
       "    </tr>\n",
       "    <tr>\n",
       "      <th>775-779</th>\n",
       "      <td>13</td>\n",
       "      <td>0</td>\n",
       "      <td>0</td>\n",
       "      <td>3</td>\n",
       "      <td>6</td>\n",
       "    </tr>\n",
       "    <tr>\n",
       "      <th>780-784</th>\n",
       "      <td>21</td>\n",
       "      <td>0</td>\n",
       "      <td>0</td>\n",
       "      <td>3</td>\n",
       "      <td>4</td>\n",
       "    </tr>\n",
       "    <tr>\n",
       "      <th>785-789</th>\n",
       "      <td>12</td>\n",
       "      <td>0</td>\n",
       "      <td>0</td>\n",
       "      <td>2</td>\n",
       "      <td>5</td>\n",
       "    </tr>\n",
       "    <tr>\n",
       "      <th>790-794</th>\n",
       "      <td>15</td>\n",
       "      <td>0</td>\n",
       "      <td>0</td>\n",
       "      <td>1</td>\n",
       "      <td>4</td>\n",
       "    </tr>\n",
       "    <tr>\n",
       "      <th>795-799</th>\n",
       "      <td>7</td>\n",
       "      <td>0</td>\n",
       "      <td>0</td>\n",
       "      <td>1</td>\n",
       "      <td>5</td>\n",
       "    </tr>\n",
       "    <tr>\n",
       "      <th>800-804</th>\n",
       "      <td>7</td>\n",
       "      <td>1</td>\n",
       "      <td>0</td>\n",
       "      <td>3</td>\n",
       "      <td>2</td>\n",
       "    </tr>\n",
       "    <tr>\n",
       "      <th>805-809</th>\n",
       "      <td>6</td>\n",
       "      <td>0</td>\n",
       "      <td>0</td>\n",
       "      <td>2</td>\n",
       "      <td>3</td>\n",
       "    </tr>\n",
       "    <tr>\n",
       "      <th>810-814</th>\n",
       "      <td>5</td>\n",
       "      <td>0</td>\n",
       "      <td>0</td>\n",
       "      <td>1</td>\n",
       "      <td>2</td>\n",
       "    </tr>\n",
       "    <tr>\n",
       "      <th>815-819</th>\n",
       "      <td>6</td>\n",
       "      <td>0</td>\n",
       "      <td>0</td>\n",
       "      <td>0</td>\n",
       "      <td>0</td>\n",
       "    </tr>\n",
       "    <tr>\n",
       "      <th>820-824</th>\n",
       "      <td>0</td>\n",
       "      <td>0</td>\n",
       "      <td>0</td>\n",
       "      <td>1</td>\n",
       "      <td>0</td>\n",
       "    </tr>\n",
       "    <tr>\n",
       "      <th>830-834</th>\n",
       "      <td>1</td>\n",
       "      <td>0</td>\n",
       "      <td>0</td>\n",
       "      <td>0</td>\n",
       "      <td>0</td>\n",
       "    </tr>\n",
       "  </tbody>\n",
       "</table>\n",
       "</div>"
      ],
      "text/plain": [
       "Home.Ownership  MORTGAGE  NONE  OTHER  OWN  RENT\n",
       "FICO.Range                                      \n",
       "640-644                0     0      0    1     4\n",
       "645-649                1     0      0    0     2\n",
       "650-654                1     0      0    0     0\n",
       "655-659                0     0      1    0     3\n",
       "660-664               41     0      0   17    67\n",
       "665-669               52     0      0   18    75\n",
       "670-674               68     0      1   13    91\n",
       "675-679               79     0      1   11    75\n",
       "680-684               55     0      2    9    91\n",
       "685-689               61     0      0   10    65\n",
       "690-694               55     0      0   10    75\n",
       "695-699               68     0      0   10    75\n",
       "700-704               60     0      0   12    59\n",
       "705-709               66     0      0   12    56\n",
       "710-714               55     0      0   10    47\n",
       "715-719               46     0      0    2    45\n",
       "720-724               49     0      0    1    64\n",
       "725-729               48     0      0    5    41\n",
       "730-734               46     0      0    7    41\n",
       "735-739               30     0      0    6    29\n",
       "740-744               26     0      0    4    23\n",
       "745-749               26     0      0    7    21\n",
       "750-754               32     0      0    4    25\n",
       "755-759               28     0      0    6    12\n",
       "760-764               28     0      0    4    14\n",
       "765-769               22     0      0    3    11\n",
       "770-774               12     0      0    1     4\n",
       "775-779               13     0      0    3     6\n",
       "780-784               21     0      0    3     4\n",
       "785-789               12     0      0    2     5\n",
       "790-794               15     0      0    1     4\n",
       "795-799                7     0      0    1     5\n",
       "800-804                7     1      0    3     2\n",
       "805-809                6     0      0    2     3\n",
       "810-814                5     0      0    1     2\n",
       "815-819                6     0      0    0     0\n",
       "820-824                0     0      0    1     0\n",
       "830-834                1     0      0    0     0"
      ]
     },
     "execution_count": 102,
     "metadata": {},
     "output_type": "execute_result"
    }
   ],
   "source": [
    "# get the observation frequency from the dataset\n",
    "obs_fq = pd.crosstab(ldata['FICO.Range'],ldata['Home.Ownership'])\n",
    "obs_fq"
   ]
  },
  {
   "cell_type": "code",
   "execution_count": 104,
   "id": "d00ee104",
   "metadata": {},
   "outputs": [
    {
     "data": {
      "text/plain": [
       "Chi2ContingencyResult(statistic=473.564802816852, pvalue=1.0065160858472195e-35, dof=148, expected_freq=array([[2.29600e+00, 2.00000e-03, 1.00000e-02, 4.00000e-01, 2.29200e+00],\n",
       "       [1.37760e+00, 1.20000e-03, 6.00000e-03, 2.40000e-01, 1.37520e+00],\n",
       "       [4.59200e-01, 4.00000e-04, 2.00000e-03, 8.00000e-02, 4.58400e-01],\n",
       "       [1.83680e+00, 1.60000e-03, 8.00000e-03, 3.20000e-01, 1.83360e+00],\n",
       "       [5.74000e+01, 5.00000e-02, 2.50000e-01, 1.00000e+01, 5.73000e+01],\n",
       "       [6.65840e+01, 5.80000e-02, 2.90000e-01, 1.16000e+01, 6.64680e+01],\n",
       "       [7.94416e+01, 6.92000e-02, 3.46000e-01, 1.38400e+01, 7.93032e+01],\n",
       "       [7.62272e+01, 6.64000e-02, 3.32000e-01, 1.32800e+01, 7.60944e+01],\n",
       "       [7.20944e+01, 6.28000e-02, 3.14000e-01, 1.25600e+01, 7.19688e+01],\n",
       "       [6.24512e+01, 5.44000e-02, 2.72000e-01, 1.08800e+01, 6.23424e+01],\n",
       "       [6.42880e+01, 5.60000e-02, 2.80000e-01, 1.12000e+01, 6.41760e+01],\n",
       "       [7.02576e+01, 6.12000e-02, 3.06000e-01, 1.22400e+01, 7.01352e+01],\n",
       "       [6.01552e+01, 5.24000e-02, 2.62000e-01, 1.04800e+01, 6.00504e+01],\n",
       "       [6.15328e+01, 5.36000e-02, 2.68000e-01, 1.07200e+01, 6.14256e+01],\n",
       "       [5.14304e+01, 4.48000e-02, 2.24000e-01, 8.96000e+00, 5.13408e+01],\n",
       "       [4.27056e+01, 3.72000e-02, 1.86000e-01, 7.44000e+00, 4.26312e+01],\n",
       "       [5.23488e+01, 4.56000e-02, 2.28000e-01, 9.12000e+00, 5.22576e+01],\n",
       "       [4.31648e+01, 3.76000e-02, 1.88000e-01, 7.52000e+00, 4.30896e+01],\n",
       "       [4.31648e+01, 3.76000e-02, 1.88000e-01, 7.52000e+00, 4.30896e+01],\n",
       "       [2.98480e+01, 2.60000e-02, 1.30000e-01, 5.20000e+00, 2.97960e+01],\n",
       "       [2.43376e+01, 2.12000e-02, 1.06000e-01, 4.24000e+00, 2.42952e+01],\n",
       "       [2.47968e+01, 2.16000e-02, 1.08000e-01, 4.32000e+00, 2.47536e+01],\n",
       "       [2.80112e+01, 2.44000e-02, 1.22000e-01, 4.88000e+00, 2.79624e+01],\n",
       "       [2.11232e+01, 1.84000e-02, 9.20000e-02, 3.68000e+00, 2.10864e+01],\n",
       "       [2.11232e+01, 1.84000e-02, 9.20000e-02, 3.68000e+00, 2.10864e+01],\n",
       "       [1.65312e+01, 1.44000e-02, 7.20000e-02, 2.88000e+00, 1.65024e+01],\n",
       "       [7.80640e+00, 6.80000e-03, 3.40000e-02, 1.36000e+00, 7.79280e+00],\n",
       "       [1.01024e+01, 8.80000e-03, 4.40000e-02, 1.76000e+00, 1.00848e+01],\n",
       "       [1.28576e+01, 1.12000e-02, 5.60000e-02, 2.24000e+00, 1.28352e+01],\n",
       "       [8.72480e+00, 7.60000e-03, 3.80000e-02, 1.52000e+00, 8.70960e+00],\n",
       "       [9.18400e+00, 8.00000e-03, 4.00000e-02, 1.60000e+00, 9.16800e+00],\n",
       "       [5.96960e+00, 5.20000e-03, 2.60000e-02, 1.04000e+00, 5.95920e+00],\n",
       "       [5.96960e+00, 5.20000e-03, 2.60000e-02, 1.04000e+00, 5.95920e+00],\n",
       "       [5.05120e+00, 4.40000e-03, 2.20000e-02, 8.80000e-01, 5.04240e+00],\n",
       "       [3.67360e+00, 3.20000e-03, 1.60000e-02, 6.40000e-01, 3.66720e+00],\n",
       "       [2.75520e+00, 2.40000e-03, 1.20000e-02, 4.80000e-01, 2.75040e+00],\n",
       "       [4.59200e-01, 4.00000e-04, 2.00000e-03, 8.00000e-02, 4.58400e-01],\n",
       "       [4.59200e-01, 4.00000e-04, 2.00000e-03, 8.00000e-02, 4.58400e-01]]))"
      ]
     },
     "execution_count": 104,
     "metadata": {},
     "output_type": "execute_result"
    }
   ],
   "source": [
    "# Ho: There is relationship between FICO scores and Home Ownership\n",
    "# Ha: There is no relationship between FICO scores and Home Ownership\n",
    "# CI: 99%, p_value: 0.01\n",
    "\n",
    "# performing the test\n",
    "stats.chi2_contingency(obs_fq)"
   ]
  },
  {
   "cell_type": "code",
   "execution_count": 105,
   "id": "f2ec23a5",
   "metadata": {},
   "outputs": [],
   "source": [
    "# Conclusion: since p_value is less than 0.01, we REJECT the NULL Hypothesis.\n",
    "# Hence we can say that, there is no relationship between FICO scores and Home Ownership"
   ]
  },
  {
   "cell_type": "markdown",
   "id": "b18396e4",
   "metadata": {},
   "source": [
    "### BUSINESS PROBLEM - 2"
   ]
  },
  {
   "cell_type": "code",
   "execution_count": 14,
   "id": "d6f82515",
   "metadata": {},
   "outputs": [
    {
     "data": {
      "text/plain": [
       "'C://previous laptop//PG_Certification_in_Data_Science//Classes - Term 2//2 Case Studies//4. Basic Statistics - Hypothesis Testing//Price_Quotes.csv'"
      ]
     },
     "execution_count": 14,
     "metadata": {},
     "output_type": "execute_result"
    }
   ],
   "source": [
    "file_path = \"C://previous laptop//PG_Certification_in_Data_Science//Classes - Term 2//2 Case Studies//4. Basic Statistics - Hypothesis Testing//\"\n",
    "file_name = \"Price_Quotes.csv\"\n",
    "file_path + file_name"
   ]
  },
  {
   "cell_type": "code",
   "execution_count": 15,
   "id": "03c18f3f",
   "metadata": {},
   "outputs": [],
   "source": [
    "pqdata = pd.read_csv(file_path + file_name)"
   ]
  },
  {
   "cell_type": "code",
   "execution_count": 16,
   "id": "696f0ded",
   "metadata": {
    "scrolled": true
   },
   "outputs": [
    {
     "data": {
      "text/html": [
       "<div>\n",
       "<style scoped>\n",
       "    .dataframe tbody tr th:only-of-type {\n",
       "        vertical-align: middle;\n",
       "    }\n",
       "\n",
       "    .dataframe tbody tr th {\n",
       "        vertical-align: top;\n",
       "    }\n",
       "\n",
       "    .dataframe thead th {\n",
       "        text-align: right;\n",
       "    }\n",
       "</style>\n",
       "<table border=\"1\" class=\"dataframe\">\n",
       "  <thead>\n",
       "    <tr style=\"text-align: right;\">\n",
       "      <th></th>\n",
       "      <th>Order_Number</th>\n",
       "      <th>Barry_Price</th>\n",
       "      <th>Mary_Price</th>\n",
       "    </tr>\n",
       "  </thead>\n",
       "  <tbody>\n",
       "    <tr>\n",
       "      <th>0</th>\n",
       "      <td>1</td>\n",
       "      <td>126</td>\n",
       "      <td>114</td>\n",
       "    </tr>\n",
       "    <tr>\n",
       "      <th>1</th>\n",
       "      <td>2</td>\n",
       "      <td>110</td>\n",
       "      <td>118</td>\n",
       "    </tr>\n",
       "    <tr>\n",
       "      <th>2</th>\n",
       "      <td>3</td>\n",
       "      <td>138</td>\n",
       "      <td>114</td>\n",
       "    </tr>\n",
       "    <tr>\n",
       "      <th>3</th>\n",
       "      <td>4</td>\n",
       "      <td>142</td>\n",
       "      <td>111</td>\n",
       "    </tr>\n",
       "    <tr>\n",
       "      <th>4</th>\n",
       "      <td>5</td>\n",
       "      <td>146</td>\n",
       "      <td>129</td>\n",
       "    </tr>\n",
       "    <tr>\n",
       "      <th>5</th>\n",
       "      <td>6</td>\n",
       "      <td>136</td>\n",
       "      <td>119</td>\n",
       "    </tr>\n",
       "    <tr>\n",
       "      <th>6</th>\n",
       "      <td>7</td>\n",
       "      <td>94</td>\n",
       "      <td>97</td>\n",
       "    </tr>\n",
       "    <tr>\n",
       "      <th>7</th>\n",
       "      <td>8</td>\n",
       "      <td>103</td>\n",
       "      <td>104</td>\n",
       "    </tr>\n",
       "    <tr>\n",
       "      <th>8</th>\n",
       "      <td>9</td>\n",
       "      <td>140</td>\n",
       "      <td>127</td>\n",
       "    </tr>\n",
       "    <tr>\n",
       "      <th>9</th>\n",
       "      <td>10</td>\n",
       "      <td>152</td>\n",
       "      <td>133</td>\n",
       "    </tr>\n",
       "    <tr>\n",
       "      <th>10</th>\n",
       "      <td>11</td>\n",
       "      <td>108</td>\n",
       "      <td>103</td>\n",
       "    </tr>\n",
       "    <tr>\n",
       "      <th>11</th>\n",
       "      <td>12</td>\n",
       "      <td>97</td>\n",
       "      <td>108</td>\n",
       "    </tr>\n",
       "  </tbody>\n",
       "</table>\n",
       "</div>"
      ],
      "text/plain": [
       "    Order_Number  Barry_Price  Mary_Price\n",
       "0              1          126         114\n",
       "1              2          110         118\n",
       "2              3          138         114\n",
       "3              4          142         111\n",
       "4              5          146         129\n",
       "5              6          136         119\n",
       "6              7           94          97\n",
       "7              8          103         104\n",
       "8              9          140         127\n",
       "9             10          152         133\n",
       "10            11          108         103\n",
       "11            12           97         108"
      ]
     },
     "execution_count": 16,
     "metadata": {},
     "output_type": "execute_result"
    }
   ],
   "source": [
    "pqdata"
   ]
  },
  {
   "cell_type": "code",
   "execution_count": null,
   "id": "d068f5fa",
   "metadata": {},
   "outputs": [],
   "source": [
    "Q. We would like to assess if there is any difference in the average \n",
    "price quotes provided by Mary and Barry."
   ]
  },
  {
   "cell_type": "code",
   "execution_count": 18,
   "id": "d6adeee5",
   "metadata": {},
   "outputs": [
    {
     "name": "stdout",
     "output_type": "stream",
     "text": [
      "mean of s_m: 114.75 | mean of s_b: 124.33333333333333\n"
     ]
    }
   ],
   "source": [
    "#filtering the data of Mary and Barry\n",
    "s_m = pqdata['Mary_Price']\n",
    "s_b = pqdata['Barry_Price']\n",
    "\n",
    "# display mean of both the segments\n",
    "print('mean of s_m:', s_m.mean(),'| mean of s_b:', s_b.mean())"
   ]
  },
  {
   "cell_type": "code",
   "execution_count": 19,
   "id": "d72d1265",
   "metadata": {},
   "outputs": [],
   "source": [
    "# Since both the samples are independent to each other and there are 2 samples of data.\n",
    "# We can use t-test for two independent samples"
   ]
  },
  {
   "cell_type": "code",
   "execution_count": 20,
   "id": "13bacfc1",
   "metadata": {},
   "outputs": [
    {
     "data": {
      "text/plain": [
       "Ttest_indResult(statistic=-1.4147436739281787, pvalue=0.17114226132118285)"
      ]
     },
     "execution_count": 20,
     "metadata": {},
     "output_type": "execute_result"
    }
   ],
   "source": [
    "# Ho: There is difference in the average price quotes provided by Mary and Barry\n",
    "# Ha: There is no difference in the average price quotes provided by Mary and Barry\n",
    "# CI: 99%, p_value: 0.01\n",
    "\n",
    "# performing the test\n",
    "stats.ttest_ind(s_m, s_b)"
   ]
  },
  {
   "cell_type": "code",
   "execution_count": 21,
   "id": "faa09bd8",
   "metadata": {},
   "outputs": [],
   "source": [
    "# Conclusion: since p_value is greater than 0.01, we DON't REJECT the NULL Hypothesis.\n",
    "# Hence we can say that, There is difference in the average price quotes provided by Mary and Barry"
   ]
  },
  {
   "cell_type": "markdown",
   "id": "7439bf8e",
   "metadata": {},
   "source": [
    "### BUSINESS PROBLEM - 3"
   ]
  },
  {
   "cell_type": "code",
   "execution_count": null,
   "id": "ccc4db98",
   "metadata": {},
   "outputs": [],
   "source": [
    "Determine what effect, if any, the reengineering effort had on the \n",
    "incidence behavioral problems and staff turnover. i.e To determine if the reengineering effort\n",
    "changed the critical incidence rate. Isthere evidence that the critical incidence rate\n",
    "improved?"
   ]
  },
  {
   "cell_type": "code",
   "execution_count": 22,
   "id": "e5306770",
   "metadata": {},
   "outputs": [
    {
     "data": {
      "text/plain": [
       "'C://previous laptop//PG_Certification_in_Data_Science//Classes - Term 2//2 Case Studies//4. Basic Statistics - Hypothesis Testing//Treatment_Facility.csv'"
      ]
     },
     "execution_count": 22,
     "metadata": {},
     "output_type": "execute_result"
    }
   ],
   "source": [
    "file_path = \"C://previous laptop//PG_Certification_in_Data_Science//Classes - Term 2//2 Case Studies//4. Basic Statistics - Hypothesis Testing//\"\n",
    "file_name = \"Treatment_Facility.csv\"\n",
    "file_path + file_name"
   ]
  },
  {
   "cell_type": "code",
   "execution_count": 23,
   "id": "6e806f38",
   "metadata": {},
   "outputs": [],
   "source": [
    "tfdata = pd.read_csv(file_path + file_name)"
   ]
  },
  {
   "cell_type": "code",
   "execution_count": 24,
   "id": "d572e590",
   "metadata": {
    "scrolled": true
   },
   "outputs": [
    {
     "data": {
      "text/html": [
       "<div>\n",
       "<style scoped>\n",
       "    .dataframe tbody tr th:only-of-type {\n",
       "        vertical-align: middle;\n",
       "    }\n",
       "\n",
       "    .dataframe tbody tr th {\n",
       "        vertical-align: top;\n",
       "    }\n",
       "\n",
       "    .dataframe thead th {\n",
       "        text-align: right;\n",
       "    }\n",
       "</style>\n",
       "<table border=\"1\" class=\"dataframe\">\n",
       "  <thead>\n",
       "    <tr style=\"text-align: right;\">\n",
       "      <th></th>\n",
       "      <th>Month</th>\n",
       "      <th>Reengineer</th>\n",
       "      <th>Employee_Turnover</th>\n",
       "      <th>VAR4</th>\n",
       "      <th>VAR5</th>\n",
       "    </tr>\n",
       "  </thead>\n",
       "  <tbody>\n",
       "    <tr>\n",
       "      <th>0</th>\n",
       "      <td>1</td>\n",
       "      <td>Prior</td>\n",
       "      <td>0.0000</td>\n",
       "      <td>24.390244</td>\n",
       "      <td>42.682927</td>\n",
       "    </tr>\n",
       "    <tr>\n",
       "      <th>1</th>\n",
       "      <td>2</td>\n",
       "      <td>Prior</td>\n",
       "      <td>6.0606</td>\n",
       "      <td>19.354839</td>\n",
       "      <td>25.806452</td>\n",
       "    </tr>\n",
       "    <tr>\n",
       "      <th>2</th>\n",
       "      <td>3</td>\n",
       "      <td>Prior</td>\n",
       "      <td>12.1212</td>\n",
       "      <td>35.087719</td>\n",
       "      <td>146.198830</td>\n",
       "    </tr>\n",
       "    <tr>\n",
       "      <th>3</th>\n",
       "      <td>4</td>\n",
       "      <td>Prior</td>\n",
       "      <td>3.3333</td>\n",
       "      <td>18.404908</td>\n",
       "      <td>110.429448</td>\n",
       "    </tr>\n",
       "    <tr>\n",
       "      <th>4</th>\n",
       "      <td>5</td>\n",
       "      <td>Prior</td>\n",
       "      <td>12.9032</td>\n",
       "      <td>17.964072</td>\n",
       "      <td>23.952096</td>\n",
       "    </tr>\n",
       "    <tr>\n",
       "      <th>5</th>\n",
       "      <td>6</td>\n",
       "      <td>Prior</td>\n",
       "      <td>9.6774</td>\n",
       "      <td>41.176471</td>\n",
       "      <td>47.058824</td>\n",
       "    </tr>\n",
       "    <tr>\n",
       "      <th>6</th>\n",
       "      <td>7</td>\n",
       "      <td>Prior</td>\n",
       "      <td>11.7647</td>\n",
       "      <td>13.422819</td>\n",
       "      <td>0.000000</td>\n",
       "    </tr>\n",
       "    <tr>\n",
       "      <th>7</th>\n",
       "      <td>8</td>\n",
       "      <td>Prior</td>\n",
       "      <td>11.4286</td>\n",
       "      <td>31.250000</td>\n",
       "      <td>25.000000</td>\n",
       "    </tr>\n",
       "    <tr>\n",
       "      <th>8</th>\n",
       "      <td>9</td>\n",
       "      <td>Prior</td>\n",
       "      <td>23.0769</td>\n",
       "      <td>17.241379</td>\n",
       "      <td>132.183908</td>\n",
       "    </tr>\n",
       "    <tr>\n",
       "      <th>9</th>\n",
       "      <td>10</td>\n",
       "      <td>Prior</td>\n",
       "      <td>15.0000</td>\n",
       "      <td>16.574586</td>\n",
       "      <td>16.574586</td>\n",
       "    </tr>\n",
       "    <tr>\n",
       "      <th>10</th>\n",
       "      <td>11</td>\n",
       "      <td>Prior</td>\n",
       "      <td>10.0000</td>\n",
       "      <td>5.917160</td>\n",
       "      <td>88.757396</td>\n",
       "    </tr>\n",
       "    <tr>\n",
       "      <th>11</th>\n",
       "      <td>12</td>\n",
       "      <td>Prior</td>\n",
       "      <td>26.0870</td>\n",
       "      <td>21.164021</td>\n",
       "      <td>31.746032</td>\n",
       "    </tr>\n",
       "    <tr>\n",
       "      <th>12</th>\n",
       "      <td>13</td>\n",
       "      <td>Prior</td>\n",
       "      <td>11.1111</td>\n",
       "      <td>5.076142</td>\n",
       "      <td>10.152284</td>\n",
       "    </tr>\n",
       "    <tr>\n",
       "      <th>13</th>\n",
       "      <td>14</td>\n",
       "      <td>Post</td>\n",
       "      <td>26.6667</td>\n",
       "      <td>9.708738</td>\n",
       "      <td>29.126214</td>\n",
       "    </tr>\n",
       "    <tr>\n",
       "      <th>14</th>\n",
       "      <td>15</td>\n",
       "      <td>Post</td>\n",
       "      <td>17.9487</td>\n",
       "      <td>4.201681</td>\n",
       "      <td>21.008403</td>\n",
       "    </tr>\n",
       "    <tr>\n",
       "      <th>15</th>\n",
       "      <td>16</td>\n",
       "      <td>Post</td>\n",
       "      <td>12.8205</td>\n",
       "      <td>13.043478</td>\n",
       "      <td>34.782609</td>\n",
       "    </tr>\n",
       "    <tr>\n",
       "      <th>16</th>\n",
       "      <td>17</td>\n",
       "      <td>Post</td>\n",
       "      <td>15.7895</td>\n",
       "      <td>9.950249</td>\n",
       "      <td>19.900498</td>\n",
       "    </tr>\n",
       "    <tr>\n",
       "      <th>17</th>\n",
       "      <td>18</td>\n",
       "      <td>Post</td>\n",
       "      <td>0.0000</td>\n",
       "      <td>9.950249</td>\n",
       "      <td>9.950249</td>\n",
       "    </tr>\n",
       "    <tr>\n",
       "      <th>18</th>\n",
       "      <td>19</td>\n",
       "      <td>Post</td>\n",
       "      <td>30.7692</td>\n",
       "      <td>8.510638</td>\n",
       "      <td>25.531915</td>\n",
       "    </tr>\n",
       "    <tr>\n",
       "      <th>19</th>\n",
       "      <td>20</td>\n",
       "      <td>Post</td>\n",
       "      <td>26.8293</td>\n",
       "      <td>9.259259</td>\n",
       "      <td>23.148148</td>\n",
       "    </tr>\n",
       "  </tbody>\n",
       "</table>\n",
       "</div>"
      ],
      "text/plain": [
       "    Month Reengineer  Employee_Turnover       VAR4        VAR5\n",
       "0       1      Prior             0.0000  24.390244   42.682927\n",
       "1       2      Prior             6.0606  19.354839   25.806452\n",
       "2       3      Prior            12.1212  35.087719  146.198830\n",
       "3       4      Prior             3.3333  18.404908  110.429448\n",
       "4       5      Prior            12.9032  17.964072   23.952096\n",
       "5       6      Prior             9.6774  41.176471   47.058824\n",
       "6       7      Prior            11.7647  13.422819    0.000000\n",
       "7       8      Prior            11.4286  31.250000   25.000000\n",
       "8       9      Prior            23.0769  17.241379  132.183908\n",
       "9      10      Prior            15.0000  16.574586   16.574586\n",
       "10     11      Prior            10.0000   5.917160   88.757396\n",
       "11     12      Prior            26.0870  21.164021   31.746032\n",
       "12     13      Prior            11.1111   5.076142   10.152284\n",
       "13     14       Post            26.6667   9.708738   29.126214\n",
       "14     15       Post            17.9487   4.201681   21.008403\n",
       "15     16       Post            12.8205  13.043478   34.782609\n",
       "16     17       Post            15.7895   9.950249   19.900498\n",
       "17     18       Post             0.0000   9.950249    9.950249\n",
       "18     19       Post            30.7692   8.510638   25.531915\n",
       "19     20       Post            26.8293   9.259259   23.148148"
      ]
     },
     "execution_count": 24,
     "metadata": {},
     "output_type": "execute_result"
    }
   ],
   "source": [
    "tfdata"
   ]
  },
  {
   "cell_type": "code",
   "execution_count": 34,
   "id": "7570f24c",
   "metadata": {},
   "outputs": [],
   "source": [
    "# changing the columns name var4 = TRFF(%) and var5 = CI (%)\n",
    "tfdata.columns = ['Month', 'Reengineer', 'Employee_Turnover', 'TRFF(%)', 'CI (%)']"
   ]
  },
  {
   "cell_type": "code",
   "execution_count": 36,
   "id": "0822616e",
   "metadata": {},
   "outputs": [
    {
     "name": "stdout",
     "output_type": "stream",
     "text": [
      "mean of s_prior: 53.887906321846145 | mean of s_post: 23.34971927988571\n"
     ]
    }
   ],
   "source": [
    "# our question is about incidence rate only we are considering only CI%\n",
    "# filtering the data based on prior and post\n",
    "s_prior = tfdata.loc[tfdata['Reengineer'] == 'Prior', 'CI (%)']\n",
    "s_post = tfdata.loc[tfdata['Reengineer'] == 'Post', 'CI (%)']\n",
    "\n",
    "# display mean of both the segments\n",
    "print('mean of s_prior:', s_prior.mean(),'| mean of s_post:', s_post.mean())"
   ]
  },
  {
   "cell_type": "code",
   "execution_count": null,
   "id": "ce34d482",
   "metadata": {},
   "outputs": [],
   "source": [
    "# Question:  is there evidence that the critical incidence (CI%) rate improved?\n",
    "# We can go with independent sample test along with alternatives = "
   ]
  },
  {
   "cell_type": "code",
   "execution_count": 37,
   "id": "b5a496ad",
   "metadata": {},
   "outputs": [],
   "source": [
    "stats.ttest_ind?"
   ]
  },
  {
   "cell_type": "code",
   "execution_count": 38,
   "id": "b05055a8",
   "metadata": {},
   "outputs": [
    {
     "data": {
      "text/plain": [
       "Ttest_indResult(statistic=-1.627914425352865, pvalue=0.12091989189884148)"
      ]
     },
     "execution_count": 38,
     "metadata": {},
     "output_type": "execute_result"
    }
   ],
   "source": [
    "# Ho: The critical incidence (CI%) rate improved (u_post < u_prior)\n",
    "# Ha: The critical incidence (CI%) rate did not improve (u_post >= u_prior)\n",
    "# CI: 99%, p_value: 0.01\n",
    "\n",
    "# performing the test\n",
    "stats.ttest_ind(s_post, s_prior)"
   ]
  },
  {
   "cell_type": "code",
   "execution_count": null,
   "id": "fd225d45",
   "metadata": {},
   "outputs": [],
   "source": [
    "# Conclusion: since p_value is greater than 0.01, we DON't REJECT the NULL Hypothesis.\n",
    "# Hence we can say that, The critical incidence (CI%) rate improved after the re-engineering effort"
   ]
  },
  {
   "cell_type": "code",
   "execution_count": null,
   "id": "0eb468de",
   "metadata": {},
   "outputs": [],
   "source": []
  },
  {
   "cell_type": "markdown",
   "id": "71beda17",
   "metadata": {},
   "source": [
    "### BUSINESS PROBLEM - 4"
   ]
  },
  {
   "cell_type": "code",
   "execution_count": null,
   "id": "1c280e83",
   "metadata": {},
   "outputs": [],
   "source": [
    "We will focus on the prioritization system. If the system is working, then\n",
    "high priority jobs, on average, should be completed more quickly than medium priority jobs,\n",
    "and medium priority jobs should be completed more quickly than low priority jobs. Use the\n",
    "data provided to determine whether this is, in fact, occurring."
   ]
  },
  {
   "cell_type": "code",
   "execution_count": 4,
   "id": "e3bdf1f4",
   "metadata": {},
   "outputs": [
    {
     "data": {
      "text/plain": [
       "'C://previous laptop//PG_Certification_in_Data_Science//Classes - Term 2//2 Case Studies//4. Basic Statistics - Hypothesis Testing//Priority_Assessment.csv'"
      ]
     },
     "execution_count": 4,
     "metadata": {},
     "output_type": "execute_result"
    }
   ],
   "source": [
    "file_path = \"C://previous laptop//PG_Certification_in_Data_Science//Classes - Term 2//2 Case Studies//4. Basic Statistics - Hypothesis Testing//\"\n",
    "file_name = \"Priority_Assessment.csv\"\n",
    "file_path + file_name"
   ]
  },
  {
   "cell_type": "code",
   "execution_count": 5,
   "id": "99aa3285",
   "metadata": {},
   "outputs": [],
   "source": [
    "padata = pd.read_csv(file_path + file_name)"
   ]
  },
  {
   "cell_type": "code",
   "execution_count": 5,
   "id": "bf379ee0",
   "metadata": {
    "scrolled": true
   },
   "outputs": [
    {
     "data": {
      "text/html": [
       "<div>\n",
       "<style scoped>\n",
       "    .dataframe tbody tr th:only-of-type {\n",
       "        vertical-align: middle;\n",
       "    }\n",
       "\n",
       "    .dataframe tbody tr th {\n",
       "        vertical-align: top;\n",
       "    }\n",
       "\n",
       "    .dataframe thead th {\n",
       "        text-align: right;\n",
       "    }\n",
       "</style>\n",
       "<table border=\"1\" class=\"dataframe\">\n",
       "  <thead>\n",
       "    <tr style=\"text-align: right;\">\n",
       "      <th></th>\n",
       "      <th>Days</th>\n",
       "      <th>Priority</th>\n",
       "    </tr>\n",
       "  </thead>\n",
       "  <tbody>\n",
       "    <tr>\n",
       "      <th>0</th>\n",
       "      <td>3.3</td>\n",
       "      <td>High</td>\n",
       "    </tr>\n",
       "    <tr>\n",
       "      <th>1</th>\n",
       "      <td>7.9</td>\n",
       "      <td>Medium</td>\n",
       "    </tr>\n",
       "    <tr>\n",
       "      <th>2</th>\n",
       "      <td>0.3</td>\n",
       "      <td>High</td>\n",
       "    </tr>\n",
       "    <tr>\n",
       "      <th>3</th>\n",
       "      <td>0.7</td>\n",
       "      <td>Medium</td>\n",
       "    </tr>\n",
       "    <tr>\n",
       "      <th>4</th>\n",
       "      <td>8.6</td>\n",
       "      <td>Medium</td>\n",
       "    </tr>\n",
       "    <tr>\n",
       "      <th>...</th>\n",
       "      <td>...</td>\n",
       "      <td>...</td>\n",
       "    </tr>\n",
       "    <tr>\n",
       "      <th>637</th>\n",
       "      <td>2.5</td>\n",
       "      <td>Low</td>\n",
       "    </tr>\n",
       "    <tr>\n",
       "      <th>638</th>\n",
       "      <td>0.3</td>\n",
       "      <td>High</td>\n",
       "    </tr>\n",
       "    <tr>\n",
       "      <th>639</th>\n",
       "      <td>0.3</td>\n",
       "      <td>Medium</td>\n",
       "    </tr>\n",
       "    <tr>\n",
       "      <th>640</th>\n",
       "      <td>1.3</td>\n",
       "      <td>Medium</td>\n",
       "    </tr>\n",
       "    <tr>\n",
       "      <th>641</th>\n",
       "      <td>0.5</td>\n",
       "      <td>High</td>\n",
       "    </tr>\n",
       "  </tbody>\n",
       "</table>\n",
       "<p>642 rows × 2 columns</p>\n",
       "</div>"
      ],
      "text/plain": [
       "     Days Priority\n",
       "0     3.3     High\n",
       "1     7.9   Medium\n",
       "2     0.3     High\n",
       "3     0.7   Medium\n",
       "4     8.6   Medium\n",
       "..    ...      ...\n",
       "637   2.5      Low\n",
       "638   0.3     High\n",
       "639   0.3   Medium\n",
       "640   1.3   Medium\n",
       "641   0.5     High\n",
       "\n",
       "[642 rows x 2 columns]"
      ]
     },
     "execution_count": 5,
     "metadata": {},
     "output_type": "execute_result"
    }
   ],
   "source": [
    "padata"
   ]
  },
  {
   "cell_type": "code",
   "execution_count": 6,
   "id": "fd2c817b",
   "metadata": {},
   "outputs": [
    {
     "name": "stdout",
     "output_type": "stream",
     "text": [
      "mean of s_high: 3.0236196319018402 | mean of s_med: 2.5 | mean of s_low: 4.228358208955224\n"
     ]
    }
   ],
   "source": [
    "# since we need to compare between three samples, we can use the ANOVA test method\n",
    "# Segregating the data into 3 segments: High, Medium, Low\n",
    "s_high = padata.loc[padata['Priority']=='High', 'Days']\n",
    "s_med = padata.loc[padata['Priority']=='Medium', 'Days']\n",
    "s_low = padata.loc[padata['Priority']=='Low', 'Days']\n",
    "\n",
    "# displaying the mean of all the 3 segments\n",
    "print('mean of s_high:', s_high.mean(),'| mean of s_med:', s_med.mean(), '| mean of s_low:', s_low.mean())"
   ]
  },
  {
   "cell_type": "code",
   "execution_count": 7,
   "id": "aabbcf0d",
   "metadata": {},
   "outputs": [
    {
     "data": {
      "text/plain": [
       "F_onewayResult(statistic=1.812311010076072, pvalue=0.16411459461716182)"
      ]
     },
     "execution_count": 7,
     "metadata": {},
     "output_type": "execute_result"
    }
   ],
   "source": [
    "# Ho: avg_high < avg_medium < avg_low\n",
    "# Ha: avg_high = avg_medium = avg_low\n",
    "# CI: 99%, p_value: 0.01\n",
    "\n",
    "# performing the test\n",
    "stats.f_oneway(s_high, s_med, s_low)"
   ]
  },
  {
   "cell_type": "code",
   "execution_count": null,
   "id": "5a18ec23",
   "metadata": {},
   "outputs": [],
   "source": [
    "# Conclusion: since p_value is greater than 0.01, we DON't REJECT the NULL Hypothesis.\n",
    "# Hence we can say that, prioritization system is working properly avg_high < avg_medium < avg_low"
   ]
  },
  {
   "cell_type": "code",
   "execution_count": null,
   "id": "19743e94",
   "metadata": {},
   "outputs": [],
   "source": []
  },
  {
   "cell_type": "markdown",
   "id": "b5fd0fc4",
   "metadata": {},
   "source": [
    "### BUSINESS PROBLEM - 5"
   ]
  },
  {
   "cell_type": "code",
   "execution_count": null,
   "id": "536bd3d8",
   "metadata": {},
   "outputs": [],
   "source": [
    "Use the survey results to addressthe following questions\n",
    " What isthe overall level of customer satisfaction?\n",
    " What factors are linked to satisfaction?\n",
    " What is the demographic profile of Film on the Rocks patrons?\n",
    " In what media outlet(s) should the film series be advertised?"
   ]
  },
  {
   "cell_type": "code",
   "execution_count": 38,
   "id": "ccb7fec3",
   "metadata": {},
   "outputs": [
    {
     "data": {
      "text/plain": [
       "'C://previous laptop//PG_Certification_in_Data_Science//Classes - Term 2//2 Case Studies//4. Basic Statistics - Hypothesis Testing//Films.csv'"
      ]
     },
     "execution_count": 38,
     "metadata": {},
     "output_type": "execute_result"
    }
   ],
   "source": [
    "file_path = \"C://previous laptop//PG_Certification_in_Data_Science//Classes - Term 2//2 Case Studies//4. Basic Statistics - Hypothesis Testing//\"\n",
    "file_name = \"Films.csv\"\n",
    "file_path + file_name"
   ]
  },
  {
   "cell_type": "code",
   "execution_count": 39,
   "id": "f7ba6952",
   "metadata": {},
   "outputs": [],
   "source": [
    "fdata = pd.read_csv(file_path + file_name)"
   ]
  },
  {
   "cell_type": "code",
   "execution_count": 40,
   "id": "e29495ad",
   "metadata": {
    "scrolled": true
   },
   "outputs": [
    {
     "data": {
      "text/html": [
       "<div>\n",
       "<style scoped>\n",
       "    .dataframe tbody tr th:only-of-type {\n",
       "        vertical-align: middle;\n",
       "    }\n",
       "\n",
       "    .dataframe tbody tr th {\n",
       "        vertical-align: top;\n",
       "    }\n",
       "\n",
       "    .dataframe thead th {\n",
       "        text-align: right;\n",
       "    }\n",
       "</style>\n",
       "<table border=\"1\" class=\"dataframe\">\n",
       "  <thead>\n",
       "    <tr style=\"text-align: right;\">\n",
       "      <th></th>\n",
       "      <th>_rowstate_</th>\n",
       "      <th>Movie</th>\n",
       "      <th>Gender</th>\n",
       "      <th>Marital_Status</th>\n",
       "      <th>Sinage</th>\n",
       "      <th>Parking</th>\n",
       "      <th>Clean</th>\n",
       "      <th>Overall</th>\n",
       "      <th>Age</th>\n",
       "      <th>Income</th>\n",
       "      <th>Hear_About</th>\n",
       "    </tr>\n",
       "  </thead>\n",
       "  <tbody>\n",
       "    <tr>\n",
       "      <th>0</th>\n",
       "      <td>0</td>\n",
       "      <td>Ferris Buellers Day Off</td>\n",
       "      <td>Female</td>\n",
       "      <td>Married</td>\n",
       "      <td>2.0</td>\n",
       "      <td>2.0</td>\n",
       "      <td>2.0</td>\n",
       "      <td>2.0</td>\n",
       "      <td>3.0</td>\n",
       "      <td>1.0</td>\n",
       "      <td>5</td>\n",
       "    </tr>\n",
       "    <tr>\n",
       "      <th>1</th>\n",
       "      <td>0</td>\n",
       "      <td>Ferris Buellers Day Off</td>\n",
       "      <td>Female</td>\n",
       "      <td>Single</td>\n",
       "      <td>1.0</td>\n",
       "      <td>1.0</td>\n",
       "      <td>1.0</td>\n",
       "      <td>1.0</td>\n",
       "      <td>2.0</td>\n",
       "      <td>1.0</td>\n",
       "      <td>5</td>\n",
       "    </tr>\n",
       "    <tr>\n",
       "      <th>2</th>\n",
       "      <td>0</td>\n",
       "      <td>Ferris Buellers Day Off</td>\n",
       "      <td>Male</td>\n",
       "      <td>Married</td>\n",
       "      <td>2.0</td>\n",
       "      <td>4.0</td>\n",
       "      <td>3.0</td>\n",
       "      <td>2.0</td>\n",
       "      <td>4.0</td>\n",
       "      <td>1.0</td>\n",
       "      <td>5</td>\n",
       "    </tr>\n",
       "    <tr>\n",
       "      <th>3</th>\n",
       "      <td>0</td>\n",
       "      <td>Ferris Buellers Day Off</td>\n",
       "      <td>Female</td>\n",
       "      <td>Married</td>\n",
       "      <td>1.0</td>\n",
       "      <td>3.0</td>\n",
       "      <td>2.0</td>\n",
       "      <td>2.0</td>\n",
       "      <td>4.0</td>\n",
       "      <td>1.0</td>\n",
       "      <td>5</td>\n",
       "    </tr>\n",
       "    <tr>\n",
       "      <th>4</th>\n",
       "      <td>0</td>\n",
       "      <td>Ferris Buellers Day Off</td>\n",
       "      <td>Female</td>\n",
       "      <td>Married</td>\n",
       "      <td>1.0</td>\n",
       "      <td>1.0</td>\n",
       "      <td>1.0</td>\n",
       "      <td>1.0</td>\n",
       "      <td>3.0</td>\n",
       "      <td>3.0</td>\n",
       "      <td>1</td>\n",
       "    </tr>\n",
       "    <tr>\n",
       "      <th>...</th>\n",
       "      <td>...</td>\n",
       "      <td>...</td>\n",
       "      <td>...</td>\n",
       "      <td>...</td>\n",
       "      <td>...</td>\n",
       "      <td>...</td>\n",
       "      <td>...</td>\n",
       "      <td>...</td>\n",
       "      <td>...</td>\n",
       "      <td>...</td>\n",
       "      <td>...</td>\n",
       "    </tr>\n",
       "    <tr>\n",
       "      <th>325</th>\n",
       "      <td>0</td>\n",
       "      <td>Old School</td>\n",
       "      <td>2</td>\n",
       "      <td>2</td>\n",
       "      <td>1.0</td>\n",
       "      <td>2.0</td>\n",
       "      <td>1.0</td>\n",
       "      <td>1.0</td>\n",
       "      <td>2.0</td>\n",
       "      <td>1.0</td>\n",
       "      <td>1</td>\n",
       "    </tr>\n",
       "    <tr>\n",
       "      <th>326</th>\n",
       "      <td>0</td>\n",
       "      <td>Old School</td>\n",
       "      <td>1</td>\n",
       "      <td>1</td>\n",
       "      <td>2.0</td>\n",
       "      <td>2.0</td>\n",
       "      <td>2.0</td>\n",
       "      <td>2.0</td>\n",
       "      <td>3.0</td>\n",
       "      <td>3.0</td>\n",
       "      <td>5</td>\n",
       "    </tr>\n",
       "    <tr>\n",
       "      <th>327</th>\n",
       "      <td>0</td>\n",
       "      <td>Old School</td>\n",
       "      <td>2</td>\n",
       "      <td>1</td>\n",
       "      <td>2.0</td>\n",
       "      <td>1.0</td>\n",
       "      <td>1.0</td>\n",
       "      <td>2.0</td>\n",
       "      <td>2.0</td>\n",
       "      <td>2.0</td>\n",
       "      <td>5</td>\n",
       "    </tr>\n",
       "    <tr>\n",
       "      <th>328</th>\n",
       "      <td>0</td>\n",
       "      <td>Old School</td>\n",
       "      <td>1</td>\n",
       "      <td>1</td>\n",
       "      <td>1.0</td>\n",
       "      <td>1.0</td>\n",
       "      <td>1.0</td>\n",
       "      <td>1.0</td>\n",
       "      <td>2.0</td>\n",
       "      <td>1.0</td>\n",
       "      <td>3</td>\n",
       "    </tr>\n",
       "    <tr>\n",
       "      <th>329</th>\n",
       "      <td>0</td>\n",
       "      <td>Old School</td>\n",
       "      <td>2</td>\n",
       "      <td>2</td>\n",
       "      <td>2.0</td>\n",
       "      <td>2.0</td>\n",
       "      <td>3.0</td>\n",
       "      <td>1.0</td>\n",
       "      <td>2.0</td>\n",
       "      <td>1.0</td>\n",
       "      <td>5</td>\n",
       "    </tr>\n",
       "  </tbody>\n",
       "</table>\n",
       "<p>330 rows × 11 columns</p>\n",
       "</div>"
      ],
      "text/plain": [
       "     _rowstate_                    Movie  Gender Marital_Status  Sinage  \\\n",
       "0             0  Ferris Buellers Day Off  Female        Married     2.0   \n",
       "1             0  Ferris Buellers Day Off  Female         Single     1.0   \n",
       "2             0  Ferris Buellers Day Off    Male        Married     2.0   \n",
       "3             0  Ferris Buellers Day Off  Female        Married     1.0   \n",
       "4             0  Ferris Buellers Day Off  Female        Married     1.0   \n",
       "..          ...                      ...     ...            ...     ...   \n",
       "325           0               Old School       2              2     1.0   \n",
       "326           0               Old School       1              1     2.0   \n",
       "327           0               Old School       2              1     2.0   \n",
       "328           0               Old School       1              1     1.0   \n",
       "329           0               Old School       2              2     2.0   \n",
       "\n",
       "     Parking  Clean  Overall  Age  Income Hear_About  \n",
       "0        2.0    2.0      2.0  3.0     1.0          5  \n",
       "1        1.0    1.0      1.0  2.0     1.0          5  \n",
       "2        4.0    3.0      2.0  4.0     1.0          5  \n",
       "3        3.0    2.0      2.0  4.0     1.0          5  \n",
       "4        1.0    1.0      1.0  3.0     3.0          1  \n",
       "..       ...    ...      ...  ...     ...        ...  \n",
       "325      2.0    1.0      1.0  2.0     1.0          1  \n",
       "326      2.0    2.0      2.0  3.0     3.0          5  \n",
       "327      1.0    1.0      2.0  2.0     2.0          5  \n",
       "328      1.0    1.0      1.0  2.0     1.0          3  \n",
       "329      2.0    3.0      1.0  2.0     1.0          5  \n",
       "\n",
       "[330 rows x 11 columns]"
      ]
     },
     "execution_count": 40,
     "metadata": {},
     "output_type": "execute_result"
    }
   ],
   "source": [
    "fdata"
   ]
  },
  {
   "cell_type": "code",
   "execution_count": 10,
   "id": "0e887d95",
   "metadata": {
    "scrolled": false
   },
   "outputs": [
    {
     "name": "stdout",
     "output_type": "stream",
     "text": [
      "<class 'pandas.core.frame.DataFrame'>\n",
      "RangeIndex: 330 entries, 0 to 329\n",
      "Data columns (total 11 columns):\n",
      " #   Column          Non-Null Count  Dtype  \n",
      "---  ------          --------------  -----  \n",
      " 0   _rowstate_      330 non-null    int64  \n",
      " 1   Movie           330 non-null    object \n",
      " 2   Gender          330 non-null    object \n",
      " 3   Marital_Status  328 non-null    object \n",
      " 4   Sinage          328 non-null    float64\n",
      " 5   Parking         328 non-null    float64\n",
      " 6   Clean           327 non-null    float64\n",
      " 7   Overall         328 non-null    float64\n",
      " 8   Age             328 non-null    float64\n",
      " 9   Income          314 non-null    float64\n",
      " 10  Hear_About      323 non-null    object \n",
      "dtypes: float64(6), int64(1), object(4)\n",
      "memory usage: 28.5+ KB\n"
     ]
    }
   ],
   "source": [
    "fdata.info()"
   ]
  },
  {
   "cell_type": "code",
   "execution_count": 66,
   "id": "0544265b",
   "metadata": {
    "scrolled": false
   },
   "outputs": [
    {
     "data": {
      "text/plain": [
       "_rowstate_         0\n",
       "Movie              0\n",
       "Gender             0\n",
       "Marital_Status     2\n",
       "Sinage             2\n",
       "Parking            2\n",
       "Clean              3\n",
       "Overall            2\n",
       "Age                2\n",
       "Income            16\n",
       "Hear_About         7\n",
       "dtype: int64"
      ]
     },
     "execution_count": 66,
     "metadata": {},
     "output_type": "execute_result"
    }
   ],
   "source": [
    "fdata.isnull().sum()"
   ]
  },
  {
   "cell_type": "code",
   "execution_count": 41,
   "id": "444b2539",
   "metadata": {},
   "outputs": [],
   "source": [
    "# since all the nulls are of dicrete type(whether numerical or categorical), we will use the mode to \n",
    "# fill the missing values\n",
    "def null_imputer(x):\n",
    "    x.fillna(x.mode().loc[0], inplace=True)\n",
    "    return x"
   ]
  },
  {
   "cell_type": "code",
   "execution_count": 42,
   "id": "a7c692a8",
   "metadata": {},
   "outputs": [],
   "source": [
    "fdata = fdata.apply(null_imputer)"
   ]
  },
  {
   "cell_type": "code",
   "execution_count": 69,
   "id": "b89f39c5",
   "metadata": {
    "scrolled": true
   },
   "outputs": [
    {
     "data": {
      "text/plain": [
       "_rowstate_        0\n",
       "Movie             0\n",
       "Gender            0\n",
       "Marital_Status    0\n",
       "Sinage            0\n",
       "Parking           0\n",
       "Clean             0\n",
       "Overall           0\n",
       "Age               0\n",
       "Income            0\n",
       "Hear_About        0\n",
       "dtype: int64"
      ]
     },
     "execution_count": 69,
     "metadata": {},
     "output_type": "execute_result"
    }
   ],
   "source": [
    "fdata.isnull().sum()"
   ]
  },
  {
   "cell_type": "code",
   "execution_count": 43,
   "id": "4bd03206",
   "metadata": {},
   "outputs": [
    {
     "name": "stdout",
     "output_type": "stream",
     "text": [
      "unique values in _rowstate_ [0]\n",
      "unique values in Movie ['Ferris Buellers Day Off' 'Willy Wonka' 'Old School']\n",
      "unique values in Gender ['Female' 'Male' '2' '1']\n",
      "unique values in Marital_Status ['Married' 'Single' 'Slngle' '1' '2']\n",
      "unique values in Sinage [2. 1. 3. 5. 4.]\n",
      "unique values in Parking [2. 1. 4. 3. 5.]\n",
      "unique values in Clean [2. 1. 3. 4. 5.]\n",
      "unique values in Overall [2. 1. 5. 3. 4.]\n",
      "unique values in Age [3. 2. 4. 1.]\n",
      "unique values in Income [1. 3. 2.]\n",
      "unique values in Hear_About ['5' '1' '4' '2' '3' '4,5' '2,5' '1,5' '3,4' '5,4' '3,5']\n"
     ]
    }
   ],
   "source": [
    "for x in fdata.columns:\n",
    "    print('unique values in',x, fdata[x].unique())"
   ]
  },
  {
   "cell_type": "code",
   "execution_count": 44,
   "id": "6599eab2",
   "metadata": {},
   "outputs": [],
   "source": [
    "# we need to correct the (gender, marital_status, hear_about) column values\n",
    "fdata['Gender'].replace(['Male'], '1', inplace=True)\n",
    "fdata['Gender'].replace(['Female'], '2', inplace=True)\n",
    "fdata['Marital_Status'].replace(['Married'], '1', inplace=True)\n",
    "fdata['Marital_Status'].replace(['Single','Slngle'], '2', inplace=True)\n",
    "fdata['Hear_About'].replace(['4,5','2,5','1,5','3,4','5,4','3,5'], fdata['Hear_About'].mode().loc[0], inplace=True)"
   ]
  },
  {
   "cell_type": "code",
   "execution_count": 45,
   "id": "35008f8b",
   "metadata": {},
   "outputs": [
    {
     "name": "stdout",
     "output_type": "stream",
     "text": [
      "unique values in _rowstate_ [0]\n",
      "unique values in Movie ['Ferris Buellers Day Off' 'Willy Wonka' 'Old School']\n",
      "unique values in Gender ['2' '1']\n",
      "unique values in Marital_Status ['1' '2']\n",
      "unique values in Sinage [2. 1. 3. 5. 4.]\n",
      "unique values in Parking [2. 1. 4. 3. 5.]\n",
      "unique values in Clean [2. 1. 3. 4. 5.]\n",
      "unique values in Overall [2. 1. 5. 3. 4.]\n",
      "unique values in Age [3. 2. 4. 1.]\n",
      "unique values in Income [1. 3. 2.]\n",
      "unique values in Hear_About ['5' '1' '4' '2' '3']\n"
     ]
    }
   ],
   "source": [
    "for x in fdata.columns:\n",
    "    print('unique values in',x, fdata[x].unique())"
   ]
  },
  {
   "cell_type": "code",
   "execution_count": null,
   "id": "7b127b52",
   "metadata": {},
   "outputs": [],
   "source": []
  },
  {
   "cell_type": "raw",
   "id": "f71ca282",
   "metadata": {},
   "source": [
    "Gender The patron’s gender: \n",
    "1 = male; 2 = female\n",
    "\n",
    "Marital Status The patron’s marital status: \n",
    "1 = married; 2 = single\n",
    "\n",
    "Age The patron’s age in years: \n",
    "1= 1-12; 2 = 13-30; 3 = 31-60; 4 = 60+\n",
    "\n",
    "Income The patron’s annual household income: \n",
    "1 = Less than $50,000; 2 = $50-$100,000; 3 = $100,000+\n",
    "\n",
    "Hear About The patron’s response to this question: “How did you hear about Film\n",
    "on the Rocks?” \n",
    "Respondents could check any of the following that applied: \n",
    "1 = television; 2 = newspaper; 3 = radio; 4 = website; 5 = word of mouth"
   ]
  },
  {
   "cell_type": "raw",
   "id": "14e11741",
   "metadata": {},
   "source": [
    "The survey also contained four Likert-scaled questions aboutsatisfaction; each of the following\n",
    "questions is coded: \n",
    "\n",
    "1 = Excellent; 2 = Good; 3 = Average/Fair; 4 = Poor; 5 = Very Poor.\n",
    "\n",
    "- Signage: “How wasthe signage directing you to Red Rocks?”\n",
    "- Parking: “How wasthe venue’s parking?”\n",
    "- Clean: “How was the cleanliness of the venue?”\n",
    "- Overall: “How was your overall customer service experience?"
   ]
  },
  {
   "cell_type": "code",
   "execution_count": 46,
   "id": "69ea8441",
   "metadata": {},
   "outputs": [
    {
     "data": {
      "text/plain": [
       "1.621212121212121"
      ]
     },
     "execution_count": 46,
     "metadata": {},
     "output_type": "execute_result"
    }
   ],
   "source": [
    "fdata['Overall'].mean()"
   ]
  },
  {
   "cell_type": "code",
   "execution_count": null,
   "id": "0263efaa",
   "metadata": {},
   "outputs": [],
   "source": [
    "# since the above mean is the sample mean, we want to know the population mean. \n",
    "# Hence to find the population mean, we will use the sample mean with 95% confidence interval (CI)\n",
    "\n",
    "# sample mean - 1.96 * (standard error) < population mean < sample mean + 1.96 * (standard error)"
   ]
  },
  {
   "cell_type": "code",
   "execution_count": 47,
   "id": "e6f6324b",
   "metadata": {},
   "outputs": [
    {
     "name": "stdout",
     "output_type": "stream",
     "text": [
      "Population mean (Overall Customer Satisfaction) is between 1.5469994901816928 and 1.6954247522425494 with 95% confidence\n"
     ]
    }
   ],
   "source": [
    "sample_mean = fdata['Overall'].mean()\n",
    "n = fdata['Overall'].count()\n",
    "sample_std = fdata['Overall'].std()\n",
    "\n",
    "standard_error = sample_std/np.sqrt(n)\n",
    "low_limit = sample_mean - 1.96 * standard_error\n",
    "high_limit = sample_mean + 1.96 * standard_error\n",
    "\n",
    "# 1 = Excellent; 2 = Good; 3 = Average/Fair; 4 = Poor; 5 = Very Poor\n",
    "print(\"Population mean (Overall Customer Satisfaction) is between\"\n",
    "      , low_limit, 'and', high_limit, 'with 95% confidence' )"
   ]
  },
  {
   "cell_type": "code",
   "execution_count": 48,
   "id": "5112d8bf",
   "metadata": {
    "scrolled": true
   },
   "outputs": [
    {
     "data": {
      "text/plain": [
       "_rowstate_          int64\n",
       "Movie              object\n",
       "Gender             object\n",
       "Marital_Status     object\n",
       "Sinage            float64\n",
       "Parking           float64\n",
       "Clean             float64\n",
       "Overall           float64\n",
       "Age               float64\n",
       "Income            float64\n",
       "Hear_About         object\n",
       "dtype: object"
      ]
     },
     "execution_count": 48,
     "metadata": {},
     "output_type": "execute_result"
    }
   ],
   "source": [
    "fdata.dtypes"
   ]
  },
  {
   "cell_type": "code",
   "execution_count": null,
   "id": "2e8147b5",
   "metadata": {},
   "outputs": [],
   "source": [
    "# To find the what factors are linked with customer satisfaction ?\n",
    "\n",
    "# We will divide our columns into two parts: 1. Numeric 2. Categorical\n",
    "\n",
    "# First to find the NUMERIC factors linked with customer satisfaction, we will use the correlation method\n",
    "# since the overall satisfaction and the variables (Sinage, Parking, Clean) shares the same metric \n",
    "# we will assume them to be numeric in respect to the overall"
   ]
  },
  {
   "cell_type": "code",
   "execution_count": 49,
   "id": "c6adee5c",
   "metadata": {
    "scrolled": false
   },
   "outputs": [
    {
     "data": {
      "text/html": [
       "<div>\n",
       "<style scoped>\n",
       "    .dataframe tbody tr th:only-of-type {\n",
       "        vertical-align: middle;\n",
       "    }\n",
       "\n",
       "    .dataframe tbody tr th {\n",
       "        vertical-align: top;\n",
       "    }\n",
       "\n",
       "    .dataframe thead th {\n",
       "        text-align: right;\n",
       "    }\n",
       "</style>\n",
       "<table border=\"1\" class=\"dataframe\">\n",
       "  <thead>\n",
       "    <tr style=\"text-align: right;\">\n",
       "      <th></th>\n",
       "      <th>Overall</th>\n",
       "      <th>Sinage</th>\n",
       "      <th>Parking</th>\n",
       "      <th>Clean</th>\n",
       "    </tr>\n",
       "  </thead>\n",
       "  <tbody>\n",
       "    <tr>\n",
       "      <th>Overall</th>\n",
       "      <td>1.000000</td>\n",
       "      <td>0.382103</td>\n",
       "      <td>0.514429</td>\n",
       "      <td>0.350822</td>\n",
       "    </tr>\n",
       "    <tr>\n",
       "      <th>Sinage</th>\n",
       "      <td>0.382103</td>\n",
       "      <td>1.000000</td>\n",
       "      <td>0.469180</td>\n",
       "      <td>0.349144</td>\n",
       "    </tr>\n",
       "    <tr>\n",
       "      <th>Parking</th>\n",
       "      <td>0.514429</td>\n",
       "      <td>0.469180</td>\n",
       "      <td>1.000000</td>\n",
       "      <td>0.440771</td>\n",
       "    </tr>\n",
       "    <tr>\n",
       "      <th>Clean</th>\n",
       "      <td>0.350822</td>\n",
       "      <td>0.349144</td>\n",
       "      <td>0.440771</td>\n",
       "      <td>1.000000</td>\n",
       "    </tr>\n",
       "  </tbody>\n",
       "</table>\n",
       "</div>"
      ],
      "text/plain": [
       "          Overall    Sinage   Parking     Clean\n",
       "Overall  1.000000  0.382103  0.514429  0.350822\n",
       "Sinage   0.382103  1.000000  0.469180  0.349144\n",
       "Parking  0.514429  0.469180  1.000000  0.440771\n",
       "Clean    0.350822  0.349144  0.440771  1.000000"
      ]
     },
     "execution_count": 49,
     "metadata": {},
     "output_type": "execute_result"
    }
   ],
   "source": [
    "num_factor = fdata.loc[:,['Overall','Sinage','Parking','Clean']]\n",
    "num_factor.corr()"
   ]
  },
  {
   "cell_type": "code",
   "execution_count": 50,
   "id": "e5aaa001",
   "metadata": {},
   "outputs": [
    {
     "data": {
      "image/png": "[encoded data removed]",
      "text/plain": [
       "<Figure size 1000x1000 with 4 Axes>"
      ]
     },
     "metadata": {},
     "output_type": "display_data"
    }
   ],
   "source": [
    "fig,axs = plt.subplots(nrows=2,ncols=2,figsize = (10,10))\n",
    "axs[0,0].set_title(\"Sinage vs overall\")\n",
    "axs[0,1].set_title(\"Parking vs overall\")\n",
    "axs[1,0].set_title(\"Clean vs overall\")\n",
    "\n",
    "sns.scatterplot(data=num_factor, x='Overall', y='Sinage', color='blue',ax=axs[0,0])\n",
    "sns.scatterplot(data=num_factor, x='Overall', y='Parking', color='red' ,ax=axs[0,1])\n",
    "sns.scatterplot(data=num_factor, x='Overall', y='Clean', color='green',ax=axs[1,0])\n",
    "\n",
    "plt.show()"
   ]
  },
  {
   "cell_type": "code",
   "execution_count": 51,
   "id": "6595e012",
   "metadata": {},
   "outputs": [
    {
     "name": "stdout",
     "output_type": "stream",
     "text": [
      "Sinage vs overall: PearsonRResult(statistic=0.3821028042239567, pvalue=6.501065434766499e-13)\n",
      "Parking vs overall: PearsonRResult(statistic=0.5144289487855271, pvalue=1.0840276087789895e-23)\n",
      "Clean vs overall: PearsonRResult(statistic=0.35082227890709217, pvalue=5.437550007439627e-11)\n"
     ]
    }
   ],
   "source": [
    "# H0: Factor is linked to the overall satisfaction\n",
    "# Ha: Factor is NOT linked to the overall satisfaction\n",
    "# CI: 95%, p-value: 0.05\n",
    "\n",
    "# perform the test\n",
    "print('Sinage vs overall:', stats.pearsonr(num_factor['Overall'], num_factor['Sinage']))\n",
    "print('Parking vs overall:', stats.pearsonr(num_factor['Overall'], num_factor['Parking']))\n",
    "print('Clean vs overall:', stats.pearsonr(num_factor['Overall'], num_factor['Clean']))"
   ]
  },
  {
   "cell_type": "code",
   "execution_count": 39,
   "id": "2456e225",
   "metadata": {},
   "outputs": [],
   "source": [
    "# Conclusion: Since p-value is less than 0.05 in all the three 3 cases. We will REJECT the NULL Hypothesis.\n",
    "# Hence none of the factor from (Sinage, Parking, Clean) is statistically linked with overall satisfaction"
   ]
  },
  {
   "cell_type": "code",
   "execution_count": 40,
   "id": "091e75c9",
   "metadata": {},
   "outputs": [
    {
     "data": {
      "text/plain": [
       "_rowstate_          int64\n",
       "Movie              object\n",
       "Gender             object\n",
       "Marital_Status     object\n",
       "Sinage            float64\n",
       "Parking           float64\n",
       "Clean             float64\n",
       "Overall           float64\n",
       "Age               float64\n",
       "Income            float64\n",
       "Hear_About         object\n",
       "dtype: object"
      ]
     },
     "execution_count": 40,
     "metadata": {},
     "output_type": "execute_result"
    }
   ],
   "source": [
    "fdata.dtypes"
   ]
  },
  {
   "cell_type": "code",
   "execution_count": 52,
   "id": "0c355cec",
   "metadata": {},
   "outputs": [],
   "source": [
    "cat_factor = fdata.loc[:,['Movie','Gender','Marital_Status','Age','Income','Hear_About','Overall']]"
   ]
  },
  {
   "cell_type": "code",
   "execution_count": 53,
   "id": "2df73bca",
   "metadata": {},
   "outputs": [
    {
     "name": "stdout",
     "output_type": "stream",
     "text": [
      "unique values in Movie ['Ferris Buellers Day Off' 'Willy Wonka' 'Old School']\n",
      "unique values in Gender ['2' '1']\n",
      "unique values in Marital_Status ['1' '2']\n",
      "unique values in Age [3. 2. 4. 1.]\n",
      "unique values in Income [1. 3. 2.]\n",
      "unique values in Hear_About ['5' '1' '4' '2' '3']\n",
      "unique values in Overall [2. 1. 5. 3. 4.]\n"
     ]
    }
   ],
   "source": [
    "for x in cat_factor.columns:\n",
    "    print('unique values in',x, cat_factor[x].unique())"
   ]
  },
  {
   "cell_type": "code",
   "execution_count": 56,
   "id": "d513dc43",
   "metadata": {},
   "outputs": [],
   "source": [
    "# converting the age and income values to object to create consistency in the data. Because these are\n",
    "# categories and not the absolute number\n",
    "\n",
    "cat_factor.replace({'Age': {1: '1', 2: '2', 3: '3', 4: '4'},\n",
    "               'Income':{1: '1',2: '2', 3:'3'}}, inplace=True)"
   ]
  },
  {
   "cell_type": "code",
   "execution_count": 58,
   "id": "8a31210b",
   "metadata": {},
   "outputs": [
    {
     "name": "stdout",
     "output_type": "stream",
     "text": [
      "unique values in Movie ['Ferris Buellers Day Off' 'Willy Wonka' 'Old School']\n",
      "unique values in Gender ['2' '1']\n",
      "unique values in Marital_Status ['1' '2']\n",
      "unique values in Age ['3' '2' '4' '1']\n",
      "unique values in Income ['1' '3' '2']\n",
      "unique values in Hear_About ['5' '1' '4' '2' '3']\n",
      "unique values in Overall [2. 1. 5. 3. 4.]\n"
     ]
    }
   ],
   "source": [
    "for x in cat_factor.columns:\n",
    "    print('unique values in',x, cat_factor[x].unique())"
   ]
  },
  {
   "cell_type": "code",
   "execution_count": 74,
   "id": "8a5e4f86",
   "metadata": {},
   "outputs": [],
   "source": [
    "# Second to find the Categorical factors linked with customer satisfaction, we can use the \n",
    "# independent t-test method for ('Gender','marital_status') variables and \n",
    "# ANOVA method for ('Movie', 'Age', 'Income', 'Hear_About') variables"
   ]
  },
  {
   "cell_type": "code",
   "execution_count": 75,
   "id": "1e35f086",
   "metadata": {},
   "outputs": [
    {
     "name": "stdout",
     "output_type": "stream",
     "text": [
      "Overall satisfaction mean of male: 1.6923076923076923 | Overall satisfaction mean of female: 1.5821596244131455\n"
     ]
    }
   ],
   "source": [
    "# filtering the data based on 'Gender'\n",
    "s_male = cat_factor.loc[cat_factor['Gender'] == '1', 'Overall']\n",
    "s_female = cat_factor.loc[cat_factor['Gender'] == '2', 'Overall']\n",
    "\n",
    "# display mean of both the segments\n",
    "print('Overall satisfaction mean of male:', s_male.mean(),\n",
    "      '| Overall satisfaction mean of female:', s_female.mean())"
   ]
  },
  {
   "cell_type": "code",
   "execution_count": 71,
   "id": "70ec8362",
   "metadata": {},
   "outputs": [
    {
     "data": {
      "text/plain": [
       "Ttest_indResult(statistic=1.393621669674226, pvalue=0.16437541932112798)"
      ]
     },
     "execution_count": 71,
     "metadata": {},
     "output_type": "execute_result"
    }
   ],
   "source": [
    "# Ho: There is difference in overall satisfaction based on gender\n",
    "# Ha: There is no difference in overall satisfaction based on gender\n",
    "# CI: 95%, p_value: 0.05\n",
    "\n",
    "# performing the test\n",
    "stats.ttest_ind(s_male, s_female)"
   ]
  },
  {
   "cell_type": "code",
   "execution_count": null,
   "id": "a541f4eb",
   "metadata": {},
   "outputs": [],
   "source": [
    "# Conclusion: Since p-value is greater than 0.05. We will DON'T REJECT the NULL Hypothesis.\n",
    "# Hence statistically there is difference in overall satisfaction based on gender"
   ]
  },
  {
   "cell_type": "code",
   "execution_count": 74,
   "id": "79d9dfd0",
   "metadata": {},
   "outputs": [
    {
     "name": "stdout",
     "output_type": "stream",
     "text": [
      "Overall satisfaction mean of married: 1.58 | Overall satisfaction mean of single: 1.6391304347826088\n"
     ]
    }
   ],
   "source": [
    "# filtering the data based on 'marital_status'\n",
    "s_married = cat_factor.loc[cat_factor['Marital_Status'] == '1', 'Overall']\n",
    "s_single = cat_factor.loc[cat_factor['Marital_Status'] == '2', 'Overall']\n",
    "\n",
    "# display mean of both the segments\n",
    "print('Overall satisfaction mean of married:', s_married.mean(),\n",
    "      '| Overall satisfaction mean of single:', s_single.mean())"
   ]
  },
  {
   "cell_type": "code",
   "execution_count": 73,
   "id": "9a16b930",
   "metadata": {},
   "outputs": [
    {
     "data": {
      "text/plain": [
       "Ttest_indResult(statistic=0.7171640309514444, pvalue=0.47378328196635067)"
      ]
     },
     "execution_count": 73,
     "metadata": {},
     "output_type": "execute_result"
    }
   ],
   "source": [
    "# Ho: There is difference in overall satisfaction based on marital_status\n",
    "# Ha: There is no difference in overall satisfaction based on marital_status\n",
    "# CI: 95%, p_value: 0.05\n",
    "\n",
    "# performing the test\n",
    "stats.ttest_ind(s_single, s_married)"
   ]
  },
  {
   "cell_type": "code",
   "execution_count": null,
   "id": "ef5ec848",
   "metadata": {},
   "outputs": [],
   "source": [
    "# Conclusion: Since p-value is greater than 0.05. We will DON'T REJECT the NULL Hypothesis.\n",
    "# Hence statistically there is difference in overall satisfaction based on marital_status"
   ]
  },
  {
   "cell_type": "code",
   "execution_count": 69,
   "id": "959baf9c",
   "metadata": {},
   "outputs": [
    {
     "name": "stdout",
     "output_type": "stream",
     "text": [
      "unique values in Movie ['Ferris Buellers Day Off' 'Willy Wonka' 'Old School']\n",
      "unique values in Gender ['2' '1']\n",
      "unique values in Marital_Status ['1' '2']\n",
      "unique values in Age ['3' '2' '4' '1']\n",
      "unique values in Income ['1' '3' '2']\n",
      "unique values in Hear_About ['5' '1' '4' '2' '3']\n",
      "unique values in Overall [2. 1. 5. 3. 4.]\n"
     ]
    }
   ],
   "source": [
    "for x in cat_factor.columns:\n",
    "    print('unique values in',x, cat_factor[x].unique())"
   ]
  },
  {
   "cell_type": "code",
   "execution_count": 80,
   "id": "1f2df9a4",
   "metadata": {},
   "outputs": [
    {
     "name": "stdout",
     "output_type": "stream",
     "text": [
      "Overall satisfaction mean of Ferris Buellers Day Off: 1.6569343065693432 | Overall satisfaction mean of Willy Wonka: 1.6273291925465838 | Overall satisfaction mean of Old School: 1.4375\n"
     ]
    }
   ],
   "source": [
    "# filtering the data based on 'movie'\n",
    "sm_1 = cat_factor.loc[cat_factor['Movie']=='Ferris Buellers Day Off','Overall']\n",
    "sm_2 = cat_factor.loc[cat_factor['Movie']=='Willy Wonka','Overall']\n",
    "sm_3 = cat_factor.loc[cat_factor['Movie']=='Old School','Overall']\n",
    "\n",
    "# displaying mean of the segments\n",
    "print('Overall satisfaction mean of Ferris Buellers Day Off:', sm_1.mean(),\n",
    "      '| Overall satisfaction mean of Willy Wonka:', sm_2.mean(),\n",
    "      '| Overall satisfaction mean of Old School:', sm_3.mean())"
   ]
  },
  {
   "cell_type": "code",
   "execution_count": 81,
   "id": "c372c2ea",
   "metadata": {},
   "outputs": [
    {
     "data": {
      "text/plain": [
       "F_onewayResult(statistic=1.3352437528862333, pvalue=0.2645245972839759)"
      ]
     },
     "execution_count": 81,
     "metadata": {},
     "output_type": "execute_result"
    }
   ],
   "source": [
    "# Ho: There is difference in overall satisfaction based on movie\n",
    "# Ha: There is no difference in overall satisfaction based on movie\n",
    "# CI: 95%, p_value: 0.05\n",
    "\n",
    "# performing the ANOVA test\n",
    "stats.f_oneway(sm_1,sm_2,sm_3)"
   ]
  },
  {
   "cell_type": "code",
   "execution_count": 78,
   "id": "0d8ba8fa",
   "metadata": {},
   "outputs": [],
   "source": [
    "# Conclusion: Since p-value is greater than 0.05. We will DON'T REJECT the NULL Hypothesis.\n",
    "# Hence statistically there is difference in overall satisfaction based on movie"
   ]
  },
  {
   "cell_type": "code",
   "execution_count": 82,
   "id": "a58a6631",
   "metadata": {},
   "outputs": [
    {
     "name": "stdout",
     "output_type": "stream",
     "text": [
      "Overall satisfaction mean of age 1 to 12 yrs: 1.5384615384615385 | Overall satisfaction mean of age 13 to 30 yrs: 1.6779661016949152 | Overall satisfaction mean of age 31 to 60 yrs: 1.547008547008547 | Overall satisfaction mean of age 60+ yrs: 1.7\n"
     ]
    }
   ],
   "source": [
    "# filtering the data based on 'age'\n",
    "sa_1 = cat_factor.loc[cat_factor['Age']=='1','Overall']\n",
    "sa_2 = cat_factor.loc[cat_factor['Age']=='2','Overall']\n",
    "sa_3 = cat_factor.loc[cat_factor['Age']=='3','Overall']\n",
    "sa_4 = cat_factor.loc[cat_factor['Age']=='4','Overall']\n",
    "\n",
    "# displaying mean of the segments\n",
    "print('Overall satisfaction mean of age 1 to 12 yrs:', sa_1.mean(),\n",
    "      '| Overall satisfaction mean of age 13 to 30 yrs:', sa_2.mean(),\n",
    "      '| Overall satisfaction mean of age 31 to 60 yrs:', sa_3.mean(),\n",
    "     '| Overall satisfaction mean of age 60+ yrs:', sa_4.mean())"
   ]
  },
  {
   "cell_type": "code",
   "execution_count": 83,
   "id": "2aa2b50e",
   "metadata": {},
   "outputs": [
    {
     "data": {
      "text/plain": [
       "F_onewayResult(statistic=1.0249927945692117, pvalue=0.3816737451872579)"
      ]
     },
     "execution_count": 83,
     "metadata": {},
     "output_type": "execute_result"
    }
   ],
   "source": [
    "# Ho: There is difference in overall satisfaction based on age\n",
    "# Ha: There is no difference in overall satisfaction based on age\n",
    "# CI: 95%, p_value: 0.05\n",
    "\n",
    "# performing the ANOVA test\n",
    "stats.f_oneway(sa_1,sa_2,sa_3,sa_4)"
   ]
  },
  {
   "cell_type": "code",
   "execution_count": null,
   "id": "d3f9be5a",
   "metadata": {},
   "outputs": [],
   "source": [
    "# Conclusion: Since p-value is greater than 0.05. We will DON'T REJECT the NULL Hypothesis.\n",
    "# Hence statistically there is difference in overall satisfaction based on age"
   ]
  },
  {
   "cell_type": "code",
   "execution_count": 84,
   "id": "2fa842e6",
   "metadata": {},
   "outputs": [
    {
     "name": "stdout",
     "output_type": "stream",
     "text": [
      "Overall satisfaction mean of income >$50,000: 1.639240506329114 | Overall satisfaction mean of income $50-$100,000: 1.5853658536585367 | Overall satisfaction mean of income $100,000+: 1.6222222222222222\n"
     ]
    }
   ],
   "source": [
    "# filtering the data based on 'income'\n",
    "si_1 = cat_factor.loc[cat_factor['Income']=='1','Overall']\n",
    "si_2 = cat_factor.loc[cat_factor['Income']=='2','Overall']\n",
    "si_3 = cat_factor.loc[cat_factor['Income']=='3','Overall']\n",
    "\n",
    "# displaying mean of the segments\n",
    "print('Overall satisfaction mean of income >$50,000:', si_1.mean(),\n",
    "      '| Overall satisfaction mean of income $50-$100,000:', si_2.mean(),\n",
    "      '| Overall satisfaction mean of income $100,000+:', si_3.mean())"
   ]
  },
  {
   "cell_type": "code",
   "execution_count": 85,
   "id": "5311f9f7",
   "metadata": {},
   "outputs": [
    {
     "data": {
      "text/plain": [
       "F_onewayResult(statistic=0.16488481054397225, pvalue=0.8480618362664597)"
      ]
     },
     "execution_count": 85,
     "metadata": {},
     "output_type": "execute_result"
    }
   ],
   "source": [
    "# Ho: There is difference in overall satisfaction based on income\n",
    "# Ha: There is no difference in overall satisfaction based income\n",
    "# CI: 95%, p_value: 0.05\n",
    "\n",
    "# performing the ANOVA test\n",
    "stats.f_oneway(si_1,si_2,si_3)"
   ]
  },
  {
   "cell_type": "code",
   "execution_count": 86,
   "id": "c0ebe447",
   "metadata": {},
   "outputs": [],
   "source": [
    "# Conclusion: Since p-value is greater than 0.05. We will DON'T REJECT the NULL Hypothesis.\n",
    "# Hence statistically there is difference in overall satisfaction based on income"
   ]
  },
  {
   "cell_type": "code",
   "execution_count": null,
   "id": "47e6b466",
   "metadata": {},
   "outputs": [],
   "source": [
    "Hear_About"
   ]
  },
  {
   "cell_type": "code",
   "execution_count": 87,
   "id": "f67505ab",
   "metadata": {},
   "outputs": [
    {
     "name": "stdout",
     "output_type": "stream",
     "text": [
      "Overall satisfaction mean of hear about television: 1.8636363636363635 | Overall satisfaction mean of hear about newspaper: 1.25 | Overall satisfaction mean of hear about radio: 1.2857142857142858 | Overall satisfaction mean of hear about website: 1.6585365853658536 | Overall satisfaction mean of hear about word of mouth: 1.6307053941908713\n"
     ]
    }
   ],
   "source": [
    "# filtering the data based on 'Hear_About'\n",
    "sh_1 = cat_factor.loc[cat_factor['Hear_About']=='1','Overall']\n",
    "sh_2 = cat_factor.loc[cat_factor['Hear_About']=='2','Overall']\n",
    "sh_3 = cat_factor.loc[cat_factor['Hear_About']=='3','Overall']\n",
    "sh_4 = cat_factor.loc[cat_factor['Hear_About']=='4','Overall']\n",
    "sh_5 = cat_factor.loc[cat_factor['Hear_About']=='5','Overall']\n",
    "\n",
    "# displaying mean of the segments\n",
    "print('Overall satisfaction mean of hear about television:', sh_1.mean(),\n",
    "      '| Overall satisfaction mean of hear about newspaper:', sh_2.mean(),\n",
    "      '| Overall satisfaction mean of hear about radio:', sh_3.mean(),\n",
    "     '| Overall satisfaction mean of hear about website:', sh_4.mean(),\n",
    "     '| Overall satisfaction mean of hear about word of mouth:', sh_5.mean())"
   ]
  },
  {
   "cell_type": "code",
   "execution_count": 88,
   "id": "88a6fbd4",
   "metadata": {},
   "outputs": [
    {
     "data": {
      "text/plain": [
       "F_onewayResult(statistic=2.474970445120239, pvalue=0.044264783614213224)"
      ]
     },
     "execution_count": 88,
     "metadata": {},
     "output_type": "execute_result"
    }
   ],
   "source": [
    "# Ho: There is difference in overall satisfaction based on hear_about\n",
    "# Ha: There is no difference in overall satisfaction based hear_about\n",
    "# CI: 95%, p_value: 0.05\n",
    "\n",
    "# performing the ANOVA test\n",
    "stats.f_oneway(sh_1,sh_2,sh_3,sh_4,sh_5)"
   ]
  },
  {
   "cell_type": "code",
   "execution_count": 89,
   "id": "3305fa23",
   "metadata": {},
   "outputs": [],
   "source": [
    "# Conclusion: Since p-value is less than 0.05. We will REJECT the NULL Hypothesis.\n",
    "# Hence statistically there is no difference in overall satisfaction based on hear_about"
   ]
  },
  {
   "cell_type": "code",
   "execution_count": 90,
   "id": "cdfb575e",
   "metadata": {},
   "outputs": [],
   "source": [
    "# age, gender, marital_status, income"
   ]
  },
  {
   "cell_type": "code",
   "execution_count": null,
   "id": "2d2ec095",
   "metadata": {},
   "outputs": [],
   "source": []
  },
  {
   "cell_type": "code",
   "execution_count": 11,
   "id": "1574112e",
   "metadata": {},
   "outputs": [],
   "source": [
    "import seaborn as sns\n",
    "import matplotlib.pyplot as plt"
   ]
  },
  {
   "cell_type": "code",
   "execution_count": 12,
   "id": "71d808bf",
   "metadata": {},
   "outputs": [],
   "source": [
    "demog = fdata.loc[:, ['Gender','Marital_Status','Age','Income']]"
   ]
  },
  {
   "cell_type": "code",
   "execution_count": 13,
   "id": "bb11eb0d",
   "metadata": {
    "scrolled": false
   },
   "outputs": [],
   "source": [
    "demog.replace({'Gender': {'1': 'Male', '2': 'Female'},\n",
    "               'Marital_Status':{'1':'Married','2':'Single'},\n",
    "               'Age':{1: '1-12 yrs', 2: '13-30 yrs', 3: '31-60 yrs', 4: '60+ yrs'},\n",
    "               'Income': {1: '<$50,000', 2: \"$50-$100,000\", 3: '$100,000+'}}, inplace=True)"
   ]
  },
  {
   "cell_type": "code",
   "execution_count": null,
   "id": "057f842f",
   "metadata": {},
   "outputs": [],
   "source": [
    "# patrons demographic profile\n",
    "fig = plt.figure(figsize = (18,10))\n",
    "\n",
    "ax1 = plt.subplot2grid((2,2),(0,0))\n",
    "plt.title('Patrons Genderwise distribution')\n",
    "plt.pie(demog['Gender'].value_counts(),autopct='%1.1f%%')\n",
    "plt.legend(list(demog['Gender'].value_counts().index))\n",
    "\n",
    "ax1 = plt.subplot2grid((2,2),(0,1))\n",
    "plt.title('Patrons Marital_Status wise distribution')\n",
    "plt.pie(demog['Marital_Status'].value_counts(),autopct='%1.1f%%')\n",
    "plt.legend(list(demog['Marital_Status'].value_counts().index))\n",
    "\n",
    "ax1 = plt.subplot2grid((2,2),(1,0))\n",
    "plt.title('Patrons age wise distribution')\n",
    "plt.pie(demog['Age'].value_counts(),autopct='%1.1f%%')\n",
    "plt.legend(list(demog['Age'].value_counts().index))\n",
    "\n",
    "ax1 = plt.subplot2grid((2,2),(1,1))\n",
    "plt.title('Patrons income wise distribution')\n",
    "plt.pie(demog['Income'].value_counts(),autopct='%1.1f%%')\n",
    "plt.legend(list(demog['Income'].value_counts().index))\n",
    "\n",
    "plt.show()\n"
   ]
  },
  {
   "cell_type": "code",
   "execution_count": null,
   "id": "e1f1b893",
   "metadata": {},
   "outputs": [],
   "source": []
  },
  {
   "cell_type": "code",
   "execution_count": 59,
   "id": "426510e1",
   "metadata": {},
   "outputs": [],
   "source": [
    "adv = fdata['Hear_About']"
   ]
  },
  {
   "cell_type": "code",
   "execution_count": 60,
   "id": "824072c2",
   "metadata": {},
   "outputs": [],
   "source": [
    "adv.replace({'1':'television', '2':'newspaper', '3':'radio', '4':'website', '5':'word of mouth'}, inplace=True)"
   ]
  },
  {
   "cell_type": "code",
   "execution_count": 61,
   "id": "887f636b",
   "metadata": {},
   "outputs": [
    {
     "data": {
      "image/png": "[encoded data removed]",
      "text/plain": [
       "<Figure size 640x480 with 1 Axes>"
      ]
     },
     "metadata": {},
     "output_type": "display_data"
    }
   ],
   "source": [
    "plt.title('Patron hear_about distribution')\n",
    "plt.pie(adv.value_counts(),autopct='%1.1f%%')\n",
    "plt.legend(list(adv.value_counts().index))\n",
    "plt.show()"
   ]
  },
  {
   "cell_type": "code",
   "execution_count": 28,
   "id": "268e2ea8",
   "metadata": {},
   "outputs": [],
   "source": [
    "# so with help of our advertising team and possible budget we can choose which media outlet should be used\n",
    "# for the advertisement"
   ]
  }
 ],
 "metadata": {
  "kernelspec": {
   "display_name": "Python 3 (ipykernel)",
   "language": "python",
   "name": "python3"
  },
  "language_info": {
   "codemirror_mode": {
    "name": "ipython",
    "version": 3
   },
   "file_extension": ".py",
   "mimetype": "text/x-python",
   "name": "python",
   "nbconvert_exporter": "python",
   "pygments_lexer": "ipython3",
   "version": "3.10.9"
  }
 },
 "nbformat": 4,
 "nbformat_minor": 5
}
