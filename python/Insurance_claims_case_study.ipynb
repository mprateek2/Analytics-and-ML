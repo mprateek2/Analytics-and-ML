{
 "cells": [
  {
   "cell_type": "code",
   "execution_count": 44,
   "id": "39039551",
   "metadata": {},
   "outputs": [],
   "source": [
    "import pandas as pd\n",
    "import numpy as np"
   ]
  },
  {
   "cell_type": "code",
   "execution_count": 45,
   "id": "804104f8",
   "metadata": {},
   "outputs": [
    {
     "data": {
      "text/plain": [
       "'C://previous laptop//PG_Certification_in_Data_Science//Classes - Term 2//2 Case Studies//3. Case studies (Four)//Case Study 3 - Insurance Claims Case Study//cust_demographics.csv'"
      ]
     },
     "execution_count": 45,
     "metadata": {},
     "output_type": "execute_result"
    }
   ],
   "source": [
    "file_path_claim = \"C://previous laptop//PG_Certification_in_Data_Science//Classes - Term 2//2 Case Studies//3. Case studies (Four)//Case Study 3 - Insurance Claims Case Study//\"\n",
    "file_name_claim = \"claims.csv\"\n",
    "\n",
    "file_path_cust = \"C://previous laptop//PG_Certification_in_Data_Science//Classes - Term 2//2 Case Studies//3. Case studies (Four)//Case Study 3 - Insurance Claims Case Study//\"\n",
    "file_name_cust = \"cust_demographics.csv\"\n",
    "\n",
    "file_path_claim + file_name_claim\n",
    "file_path_cust + file_name_cust"
   ]
  },
  {
   "cell_type": "code",
   "execution_count": 46,
   "id": "c5e01b1a",
   "metadata": {},
   "outputs": [],
   "source": [
    "claim_main = pd.read_csv(file_path_claim + file_name_claim)\n",
    "cust_main = pd.read_csv(file_path_cust + file_name_cust)"
   ]
  },
  {
   "cell_type": "code",
   "execution_count": 47,
   "id": "fa6403d4",
   "metadata": {},
   "outputs": [],
   "source": [
    "claim = claim_main.copy()\n",
    "cust = cust_main.copy()"
   ]
  },
  {
   "cell_type": "code",
   "execution_count": 48,
   "id": "ecf50667",
   "metadata": {},
   "outputs": [
    {
     "data": {
      "text/html": [
       "<div>\n",
       "<style scoped>\n",
       "    .dataframe tbody tr th:only-of-type {\n",
       "        vertical-align: middle;\n",
       "    }\n",
       "\n",
       "    .dataframe tbody tr th {\n",
       "        vertical-align: top;\n",
       "    }\n",
       "\n",
       "    .dataframe thead th {\n",
       "        text-align: right;\n",
       "    }\n",
       "</style>\n",
       "<table border=\"1\" class=\"dataframe\">\n",
       "  <thead>\n",
       "    <tr style=\"text-align: right;\">\n",
       "      <th></th>\n",
       "      <th>claim_id</th>\n",
       "      <th>customer_id</th>\n",
       "      <th>incident_cause</th>\n",
       "      <th>claim_date</th>\n",
       "      <th>claim_area</th>\n",
       "      <th>police_report</th>\n",
       "      <th>claim_type</th>\n",
       "      <th>claim_amount</th>\n",
       "      <th>total_policy_claims</th>\n",
       "      <th>fraudulent</th>\n",
       "    </tr>\n",
       "  </thead>\n",
       "  <tbody>\n",
       "    <tr>\n",
       "      <th>0</th>\n",
       "      <td>54004764</td>\n",
       "      <td>21868593</td>\n",
       "      <td>Driver error</td>\n",
       "      <td>11/27/2017</td>\n",
       "      <td>Auto</td>\n",
       "      <td>No</td>\n",
       "      <td>Material only</td>\n",
       "      <td>$2980</td>\n",
       "      <td>1.0</td>\n",
       "      <td>No</td>\n",
       "    </tr>\n",
       "    <tr>\n",
       "      <th>1</th>\n",
       "      <td>33985796</td>\n",
       "      <td>75740424</td>\n",
       "      <td>Crime</td>\n",
       "      <td>10/03/2018</td>\n",
       "      <td>Home</td>\n",
       "      <td>Unknown</td>\n",
       "      <td>Material only</td>\n",
       "      <td>$2980</td>\n",
       "      <td>3.0</td>\n",
       "      <td>No</td>\n",
       "    </tr>\n",
       "    <tr>\n",
       "      <th>2</th>\n",
       "      <td>53522022</td>\n",
       "      <td>30308357</td>\n",
       "      <td>Other driver error</td>\n",
       "      <td>02/02/2018</td>\n",
       "      <td>Auto</td>\n",
       "      <td>No</td>\n",
       "      <td>Material only</td>\n",
       "      <td>$3369.5</td>\n",
       "      <td>1.0</td>\n",
       "      <td>Yes</td>\n",
       "    </tr>\n",
       "    <tr>\n",
       "      <th>3</th>\n",
       "      <td>13015401</td>\n",
       "      <td>47830476</td>\n",
       "      <td>Natural causes</td>\n",
       "      <td>06/17/2018</td>\n",
       "      <td>Auto</td>\n",
       "      <td>No</td>\n",
       "      <td>Material only</td>\n",
       "      <td>$1680</td>\n",
       "      <td>1.0</td>\n",
       "      <td>No</td>\n",
       "    </tr>\n",
       "    <tr>\n",
       "      <th>4</th>\n",
       "      <td>22890252</td>\n",
       "      <td>19269962</td>\n",
       "      <td>Crime</td>\n",
       "      <td>01/13/2018</td>\n",
       "      <td>Auto</td>\n",
       "      <td>No</td>\n",
       "      <td>Material only</td>\n",
       "      <td>$2680</td>\n",
       "      <td>1.0</td>\n",
       "      <td>No</td>\n",
       "    </tr>\n",
       "  </tbody>\n",
       "</table>\n",
       "</div>"
      ],
      "text/plain": [
       "   claim_id  customer_id      incident_cause  claim_date claim_area  \\\n",
       "0  54004764     21868593        Driver error  11/27/2017       Auto   \n",
       "1  33985796     75740424               Crime  10/03/2018       Home   \n",
       "2  53522022     30308357  Other driver error  02/02/2018       Auto   \n",
       "3  13015401     47830476      Natural causes  06/17/2018       Auto   \n",
       "4  22890252     19269962               Crime  01/13/2018       Auto   \n",
       "\n",
       "  police_report     claim_type claim_amount  total_policy_claims fraudulent  \n",
       "0            No  Material only        $2980                  1.0         No  \n",
       "1       Unknown  Material only        $2980                  3.0         No  \n",
       "2            No  Material only      $3369.5                  1.0        Yes  \n",
       "3            No  Material only        $1680                  1.0         No  \n",
       "4            No  Material only        $2680                  1.0         No  "
      ]
     },
     "execution_count": 48,
     "metadata": {},
     "output_type": "execute_result"
    }
   ],
   "source": [
    "claim.head()"
   ]
  },
  {
   "cell_type": "code",
   "execution_count": 7,
   "id": "94566ec7",
   "metadata": {},
   "outputs": [
    {
     "data": {
      "text/html": [
       "<div>\n",
       "<style scoped>\n",
       "    .dataframe tbody tr th:only-of-type {\n",
       "        vertical-align: middle;\n",
       "    }\n",
       "\n",
       "    .dataframe tbody tr th {\n",
       "        vertical-align: top;\n",
       "    }\n",
       "\n",
       "    .dataframe thead th {\n",
       "        text-align: right;\n",
       "    }\n",
       "</style>\n",
       "<table border=\"1\" class=\"dataframe\">\n",
       "  <thead>\n",
       "    <tr style=\"text-align: right;\">\n",
       "      <th></th>\n",
       "      <th>CUST_ID</th>\n",
       "      <th>gender</th>\n",
       "      <th>DateOfBirth</th>\n",
       "      <th>State</th>\n",
       "      <th>Contact</th>\n",
       "      <th>Segment</th>\n",
       "    </tr>\n",
       "  </thead>\n",
       "  <tbody>\n",
       "    <tr>\n",
       "      <th>0</th>\n",
       "      <td>21868593</td>\n",
       "      <td>Female</td>\n",
       "      <td>12-Jan-79</td>\n",
       "      <td>VT</td>\n",
       "      <td>789-916-8172</td>\n",
       "      <td>Platinum</td>\n",
       "    </tr>\n",
       "    <tr>\n",
       "      <th>1</th>\n",
       "      <td>75740424</td>\n",
       "      <td>Female</td>\n",
       "      <td>13-Jan-70</td>\n",
       "      <td>ME</td>\n",
       "      <td>265-543-1264</td>\n",
       "      <td>Silver</td>\n",
       "    </tr>\n",
       "    <tr>\n",
       "      <th>2</th>\n",
       "      <td>30308357</td>\n",
       "      <td>Female</td>\n",
       "      <td>11-Mar-84</td>\n",
       "      <td>TN</td>\n",
       "      <td>798-631-4758</td>\n",
       "      <td>Silver</td>\n",
       "    </tr>\n",
       "    <tr>\n",
       "      <th>3</th>\n",
       "      <td>47830476</td>\n",
       "      <td>Female</td>\n",
       "      <td>01-May-86</td>\n",
       "      <td>MA</td>\n",
       "      <td>413-187-7945</td>\n",
       "      <td>Silver</td>\n",
       "    </tr>\n",
       "    <tr>\n",
       "      <th>4</th>\n",
       "      <td>19269962</td>\n",
       "      <td>Male</td>\n",
       "      <td>13-May-77</td>\n",
       "      <td>NV</td>\n",
       "      <td>956-871-8691</td>\n",
       "      <td>Gold</td>\n",
       "    </tr>\n",
       "  </tbody>\n",
       "</table>\n",
       "</div>"
      ],
      "text/plain": [
       "    CUST_ID  gender DateOfBirth State       Contact   Segment\n",
       "0  21868593  Female   12-Jan-79    VT  789-916-8172  Platinum\n",
       "1  75740424  Female   13-Jan-70    ME  265-543-1264    Silver\n",
       "2  30308357  Female   11-Mar-84    TN  798-631-4758    Silver\n",
       "3  47830476  Female   01-May-86    MA  413-187-7945    Silver\n",
       "4  19269962    Male   13-May-77    NV  956-871-8691      Gold"
      ]
     },
     "execution_count": 7,
     "metadata": {},
     "output_type": "execute_result"
    }
   ],
   "source": [
    "cust.head()"
   ]
  },
  {
   "cell_type": "code",
   "execution_count": 8,
   "id": "3471bf97",
   "metadata": {
    "scrolled": false
   },
   "outputs": [
    {
     "name": "stdout",
     "output_type": "stream",
     "text": [
      "<class 'pandas.core.frame.DataFrame'>\n",
      "RangeIndex: 1100 entries, 0 to 1099\n",
      "Data columns (total 10 columns):\n",
      " #   Column               Non-Null Count  Dtype  \n",
      "---  ------               --------------  -----  \n",
      " 0   claim_id             1100 non-null   int64  \n",
      " 1   customer_id          1100 non-null   int64  \n",
      " 2   incident_cause       1100 non-null   object \n",
      " 3   claim_date           1100 non-null   object \n",
      " 4   claim_area           1100 non-null   object \n",
      " 5   police_report        1100 non-null   object \n",
      " 6   claim_type           1100 non-null   object \n",
      " 7   claim_amount         1035 non-null   object \n",
      " 8   total_policy_claims  1090 non-null   float64\n",
      " 9   fraudulent           1100 non-null   object \n",
      "dtypes: float64(1), int64(2), object(7)\n",
      "memory usage: 86.1+ KB\n"
     ]
    }
   ],
   "source": [
    "claim.info()"
   ]
  },
  {
   "cell_type": "code",
   "execution_count": 9,
   "id": "d404f5b5",
   "metadata": {
    "scrolled": true
   },
   "outputs": [
    {
     "name": "stdout",
     "output_type": "stream",
     "text": [
      "<class 'pandas.core.frame.DataFrame'>\n",
      "RangeIndex: 1085 entries, 0 to 1084\n",
      "Data columns (total 6 columns):\n",
      " #   Column       Non-Null Count  Dtype \n",
      "---  ------       --------------  ----- \n",
      " 0   CUST_ID      1085 non-null   int64 \n",
      " 1   gender       1085 non-null   object\n",
      " 2   DateOfBirth  1085 non-null   object\n",
      " 3   State        1085 non-null   object\n",
      " 4   Contact      1085 non-null   object\n",
      " 5   Segment      1085 non-null   object\n",
      "dtypes: int64(1), object(5)\n",
      "memory usage: 51.0+ KB\n"
     ]
    }
   ],
   "source": [
    "cust.info()"
   ]
  },
  {
   "cell_type": "code",
   "execution_count": null,
   "id": "81511716",
   "metadata": {},
   "outputs": [],
   "source": []
  },
  {
   "cell_type": "code",
   "execution_count": null,
   "id": "4bab3a96",
   "metadata": {},
   "outputs": [],
   "source": [
    "1. Import claims_data.csv and cust_data.csv which is provided to you and \n",
    "combine the two datasets appropriately to create a 360-degree view of \n",
    "the data. Use the same for the subsequent questions."
   ]
  },
  {
   "cell_type": "code",
   "execution_count": null,
   "id": "b54fe31b",
   "metadata": {},
   "outputs": [],
   "source": [
    "# to get 360 degree view, we will use the outer join so that no data is lost between both the tables"
   ]
  },
  {
   "cell_type": "code",
   "execution_count": 49,
   "id": "d6ba708c",
   "metadata": {},
   "outputs": [],
   "source": [
    "claim_final = pd.merge(left=claim, right=cust, left_on='customer_id', right_on='CUST_ID',how='outer')"
   ]
  },
  {
   "cell_type": "code",
   "execution_count": 50,
   "id": "d2803e3f",
   "metadata": {
    "scrolled": true
   },
   "outputs": [
    {
     "data": {
      "text/html": [
       "<div>\n",
       "<style scoped>\n",
       "    .dataframe tbody tr th:only-of-type {\n",
       "        vertical-align: middle;\n",
       "    }\n",
       "\n",
       "    .dataframe tbody tr th {\n",
       "        vertical-align: top;\n",
       "    }\n",
       "\n",
       "    .dataframe thead th {\n",
       "        text-align: right;\n",
       "    }\n",
       "</style>\n",
       "<table border=\"1\" class=\"dataframe\">\n",
       "  <thead>\n",
       "    <tr style=\"text-align: right;\">\n",
       "      <th></th>\n",
       "      <th>claim_id</th>\n",
       "      <th>customer_id</th>\n",
       "      <th>incident_cause</th>\n",
       "      <th>claim_date</th>\n",
       "      <th>claim_area</th>\n",
       "      <th>police_report</th>\n",
       "      <th>claim_type</th>\n",
       "      <th>claim_amount</th>\n",
       "      <th>total_policy_claims</th>\n",
       "      <th>fraudulent</th>\n",
       "      <th>CUST_ID</th>\n",
       "      <th>gender</th>\n",
       "      <th>DateOfBirth</th>\n",
       "      <th>State</th>\n",
       "      <th>Contact</th>\n",
       "      <th>Segment</th>\n",
       "    </tr>\n",
       "  </thead>\n",
       "  <tbody>\n",
       "    <tr>\n",
       "      <th>0</th>\n",
       "      <td>54004764.0</td>\n",
       "      <td>21868593.0</td>\n",
       "      <td>Driver error</td>\n",
       "      <td>11/27/2017</td>\n",
       "      <td>Auto</td>\n",
       "      <td>No</td>\n",
       "      <td>Material only</td>\n",
       "      <td>$2980</td>\n",
       "      <td>1.0</td>\n",
       "      <td>No</td>\n",
       "      <td>21868593.0</td>\n",
       "      <td>Female</td>\n",
       "      <td>12-Jan-79</td>\n",
       "      <td>VT</td>\n",
       "      <td>789-916-8172</td>\n",
       "      <td>Platinum</td>\n",
       "    </tr>\n",
       "    <tr>\n",
       "      <th>1</th>\n",
       "      <td>33985796.0</td>\n",
       "      <td>75740424.0</td>\n",
       "      <td>Crime</td>\n",
       "      <td>10/03/2018</td>\n",
       "      <td>Home</td>\n",
       "      <td>Unknown</td>\n",
       "      <td>Material only</td>\n",
       "      <td>$2980</td>\n",
       "      <td>3.0</td>\n",
       "      <td>No</td>\n",
       "      <td>75740424.0</td>\n",
       "      <td>Female</td>\n",
       "      <td>13-Jan-70</td>\n",
       "      <td>ME</td>\n",
       "      <td>265-543-1264</td>\n",
       "      <td>Silver</td>\n",
       "    </tr>\n",
       "    <tr>\n",
       "      <th>2</th>\n",
       "      <td>53522022.0</td>\n",
       "      <td>30308357.0</td>\n",
       "      <td>Other driver error</td>\n",
       "      <td>02/02/2018</td>\n",
       "      <td>Auto</td>\n",
       "      <td>No</td>\n",
       "      <td>Material only</td>\n",
       "      <td>$3369.5</td>\n",
       "      <td>1.0</td>\n",
       "      <td>Yes</td>\n",
       "      <td>30308357.0</td>\n",
       "      <td>Female</td>\n",
       "      <td>11-Mar-84</td>\n",
       "      <td>TN</td>\n",
       "      <td>798-631-4758</td>\n",
       "      <td>Silver</td>\n",
       "    </tr>\n",
       "    <tr>\n",
       "      <th>3</th>\n",
       "      <td>63017412.0</td>\n",
       "      <td>30308357.0</td>\n",
       "      <td>Driver error</td>\n",
       "      <td>04/04/2018</td>\n",
       "      <td>Auto</td>\n",
       "      <td>No</td>\n",
       "      <td>Material only</td>\n",
       "      <td>$1950</td>\n",
       "      <td>6.0</td>\n",
       "      <td>No</td>\n",
       "      <td>30308357.0</td>\n",
       "      <td>Female</td>\n",
       "      <td>11-Mar-84</td>\n",
       "      <td>TN</td>\n",
       "      <td>798-631-4758</td>\n",
       "      <td>Silver</td>\n",
       "    </tr>\n",
       "    <tr>\n",
       "      <th>4</th>\n",
       "      <td>13015401.0</td>\n",
       "      <td>47830476.0</td>\n",
       "      <td>Natural causes</td>\n",
       "      <td>06/17/2018</td>\n",
       "      <td>Auto</td>\n",
       "      <td>No</td>\n",
       "      <td>Material only</td>\n",
       "      <td>$1680</td>\n",
       "      <td>1.0</td>\n",
       "      <td>No</td>\n",
       "      <td>47830476.0</td>\n",
       "      <td>Female</td>\n",
       "      <td>01-May-86</td>\n",
       "      <td>MA</td>\n",
       "      <td>413-187-7945</td>\n",
       "      <td>Silver</td>\n",
       "    </tr>\n",
       "  </tbody>\n",
       "</table>\n",
       "</div>"
      ],
      "text/plain": [
       "     claim_id  customer_id      incident_cause  claim_date claim_area  \\\n",
       "0  54004764.0   21868593.0        Driver error  11/27/2017       Auto   \n",
       "1  33985796.0   75740424.0               Crime  10/03/2018       Home   \n",
       "2  53522022.0   30308357.0  Other driver error  02/02/2018       Auto   \n",
       "3  63017412.0   30308357.0        Driver error  04/04/2018       Auto   \n",
       "4  13015401.0   47830476.0      Natural causes  06/17/2018       Auto   \n",
       "\n",
       "  police_report     claim_type claim_amount  total_policy_claims fraudulent  \\\n",
       "0            No  Material only        $2980                  1.0         No   \n",
       "1       Unknown  Material only        $2980                  3.0         No   \n",
       "2            No  Material only      $3369.5                  1.0        Yes   \n",
       "3            No  Material only        $1950                  6.0         No   \n",
       "4            No  Material only        $1680                  1.0         No   \n",
       "\n",
       "      CUST_ID  gender DateOfBirth State       Contact   Segment  \n",
       "0  21868593.0  Female   12-Jan-79    VT  789-916-8172  Platinum  \n",
       "1  75740424.0  Female   13-Jan-70    ME  265-543-1264    Silver  \n",
       "2  30308357.0  Female   11-Mar-84    TN  798-631-4758    Silver  \n",
       "3  30308357.0  Female   11-Mar-84    TN  798-631-4758    Silver  \n",
       "4  47830476.0  Female   01-May-86    MA  413-187-7945    Silver  "
      ]
     },
     "execution_count": 50,
     "metadata": {},
     "output_type": "execute_result"
    }
   ],
   "source": [
    "claim_final.head()"
   ]
  },
  {
   "cell_type": "code",
   "execution_count": 51,
   "id": "da5e1a15",
   "metadata": {},
   "outputs": [
    {
     "data": {
      "text/plain": [
       "(1107, 16)"
      ]
     },
     "execution_count": 51,
     "metadata": {},
     "output_type": "execute_result"
    }
   ],
   "source": [
    "claim_final.shape"
   ]
  },
  {
   "cell_type": "code",
   "execution_count": 52,
   "id": "b3c5e8c9",
   "metadata": {
    "scrolled": true
   },
   "outputs": [
    {
     "data": {
      "text/plain": [
       "0"
      ]
     },
     "execution_count": 52,
     "metadata": {},
     "output_type": "execute_result"
    }
   ],
   "source": [
    "claim_final.duplicated().sum()"
   ]
  },
  {
   "cell_type": "code",
   "execution_count": 53,
   "id": "d1dbca1d",
   "metadata": {
    "scrolled": false
   },
   "outputs": [
    {
     "data": {
      "text/plain": [
       "claim_id                7\n",
       "customer_id             7\n",
       "incident_cause          7\n",
       "claim_date              7\n",
       "claim_area              7\n",
       "police_report           7\n",
       "claim_type              7\n",
       "claim_amount           72\n",
       "total_policy_claims    17\n",
       "fraudulent              7\n",
       "CUST_ID                15\n",
       "gender                 15\n",
       "DateOfBirth            15\n",
       "State                  15\n",
       "Contact                15\n",
       "Segment                15\n",
       "dtype: int64"
      ]
     },
     "execution_count": 53,
     "metadata": {},
     "output_type": "execute_result"
    }
   ],
   "source": [
    "claim_final.isnull().sum()"
   ]
  },
  {
   "cell_type": "code",
   "execution_count": null,
   "id": "4380e258",
   "metadata": {},
   "outputs": [],
   "source": []
  },
  {
   "cell_type": "code",
   "execution_count": null,
   "id": "a23cff01",
   "metadata": {},
   "outputs": [],
   "source": [
    "2. Perform a data audit for the datatypes and find out if there are any \n",
    "mismatch within the current datatypes of the columns and their \n",
    "business significance."
   ]
  },
  {
   "cell_type": "code",
   "execution_count": 23,
   "id": "c75bbe40",
   "metadata": {
    "scrolled": true
   },
   "outputs": [
    {
     "name": "stdout",
     "output_type": "stream",
     "text": [
      "<class 'pandas.core.frame.DataFrame'>\n",
      "Int64Index: 1107 entries, 0 to 1106\n",
      "Data columns (total 16 columns):\n",
      " #   Column               Non-Null Count  Dtype  \n",
      "---  ------               --------------  -----  \n",
      " 0   claim_id             1100 non-null   float64\n",
      " 1   customer_id          1100 non-null   float64\n",
      " 2   incident_cause       1100 non-null   object \n",
      " 3   claim_date           1100 non-null   object \n",
      " 4   claim_area           1100 non-null   object \n",
      " 5   police_report        1100 non-null   object \n",
      " 6   claim_type           1100 non-null   object \n",
      " 7   claim_amount         1035 non-null   object \n",
      " 8   total_policy_claims  1090 non-null   float64\n",
      " 9   fraudulent           1100 non-null   object \n",
      " 10  CUST_ID              1092 non-null   float64\n",
      " 11  gender               1092 non-null   object \n",
      " 12  DateOfBirth          1092 non-null   object \n",
      " 13  State                1092 non-null   object \n",
      " 14  Contact              1092 non-null   object \n",
      " 15  Segment              1092 non-null   object \n",
      "dtypes: float64(4), object(12)\n",
      "memory usage: 147.0+ KB\n"
     ]
    }
   ],
   "source": [
    "claim_final.info()"
   ]
  },
  {
   "cell_type": "code",
   "execution_count": 17,
   "id": "2ddaa9d5",
   "metadata": {},
   "outputs": [],
   "source": [
    "# Yes there are few mismatch in the datatype of the following columns:\n",
    "# 1. claim_id, customer_id, total_policy_claims, CUST_ID, Contact should be in 'int' datatype\n",
    "# 2. claim_date, DateOfBirth should be in 'datetime' datatype\n",
    "# 3. claim_amount should be in 'float' datatype\n",
    "\n",
    "# convert CUST_ID to int --- not necessary as we already have customer_id\n",
    "# convert Contact to int --- we can leave this because we are not going to use it in analysis"
   ]
  },
  {
   "cell_type": "code",
   "execution_count": null,
   "id": "c10b07a3",
   "metadata": {},
   "outputs": [],
   "source": [
    "3. Convert the column claim_amount to numeric. Use the appropriate \n",
    "modules/attributes to remove the '$' sign."
   ]
  },
  {
   "cell_type": "code",
   "execution_count": 54,
   "id": "59d2dfb8",
   "metadata": {},
   "outputs": [],
   "source": [
    "claim_final['claim_amount'] = claim_final['claim_amount'].str.replace('$','',regex=True).astype('float')"
   ]
  },
  {
   "cell_type": "code",
   "execution_count": 55,
   "id": "a0f8c72a",
   "metadata": {},
   "outputs": [
    {
     "data": {
      "text/plain": [
       "dtype('float64')"
      ]
     },
     "execution_count": 55,
     "metadata": {},
     "output_type": "execute_result"
    }
   ],
   "source": [
    "claim_final['claim_amount'].dtype"
   ]
  },
  {
   "cell_type": "code",
   "execution_count": null,
   "id": "0e94251b",
   "metadata": {},
   "outputs": [],
   "source": []
  },
  {
   "cell_type": "code",
   "execution_count": null,
   "id": "4c822ab5",
   "metadata": {},
   "outputs": [],
   "source": [
    "4. Of all the injury claims, some of them have gone unreported with the \n",
    "police. Create an alert flag (1,0) for all such claims."
   ]
  },
  {
   "cell_type": "code",
   "execution_count": 56,
   "id": "79a01b61",
   "metadata": {},
   "outputs": [
    {
     "data": {
      "text/html": [
       "<div>\n",
       "<style scoped>\n",
       "    .dataframe tbody tr th:only-of-type {\n",
       "        vertical-align: middle;\n",
       "    }\n",
       "\n",
       "    .dataframe tbody tr th {\n",
       "        vertical-align: top;\n",
       "    }\n",
       "\n",
       "    .dataframe thead th {\n",
       "        text-align: right;\n",
       "    }\n",
       "</style>\n",
       "<table border=\"1\" class=\"dataframe\">\n",
       "  <thead>\n",
       "    <tr style=\"text-align: right;\">\n",
       "      <th></th>\n",
       "      <th>claim_id</th>\n",
       "      <th>customer_id</th>\n",
       "      <th>incident_cause</th>\n",
       "      <th>claim_date</th>\n",
       "      <th>claim_area</th>\n",
       "      <th>police_report</th>\n",
       "      <th>claim_type</th>\n",
       "      <th>claim_amount</th>\n",
       "      <th>total_policy_claims</th>\n",
       "      <th>fraudulent</th>\n",
       "      <th>CUST_ID</th>\n",
       "      <th>gender</th>\n",
       "      <th>DateOfBirth</th>\n",
       "      <th>State</th>\n",
       "      <th>Contact</th>\n",
       "      <th>Segment</th>\n",
       "      <th>flag</th>\n",
       "    </tr>\n",
       "  </thead>\n",
       "  <tbody>\n",
       "    <tr>\n",
       "      <th>0</th>\n",
       "      <td>54004764.0</td>\n",
       "      <td>21868593.0</td>\n",
       "      <td>Driver error</td>\n",
       "      <td>11/27/2017</td>\n",
       "      <td>Auto</td>\n",
       "      <td>No</td>\n",
       "      <td>Material only</td>\n",
       "      <td>2980.0</td>\n",
       "      <td>1.0</td>\n",
       "      <td>No</td>\n",
       "      <td>21868593.0</td>\n",
       "      <td>Female</td>\n",
       "      <td>12-Jan-79</td>\n",
       "      <td>VT</td>\n",
       "      <td>789-916-8172</td>\n",
       "      <td>Platinum</td>\n",
       "      <td>0</td>\n",
       "    </tr>\n",
       "    <tr>\n",
       "      <th>1</th>\n",
       "      <td>33985796.0</td>\n",
       "      <td>75740424.0</td>\n",
       "      <td>Crime</td>\n",
       "      <td>10/03/2018</td>\n",
       "      <td>Home</td>\n",
       "      <td>Unknown</td>\n",
       "      <td>Material only</td>\n",
       "      <td>2980.0</td>\n",
       "      <td>3.0</td>\n",
       "      <td>No</td>\n",
       "      <td>75740424.0</td>\n",
       "      <td>Female</td>\n",
       "      <td>13-Jan-70</td>\n",
       "      <td>ME</td>\n",
       "      <td>265-543-1264</td>\n",
       "      <td>Silver</td>\n",
       "      <td>1</td>\n",
       "    </tr>\n",
       "  </tbody>\n",
       "</table>\n",
       "</div>"
      ],
      "text/plain": [
       "     claim_id  customer_id incident_cause  claim_date claim_area  \\\n",
       "0  54004764.0   21868593.0   Driver error  11/27/2017       Auto   \n",
       "1  33985796.0   75740424.0          Crime  10/03/2018       Home   \n",
       "\n",
       "  police_report     claim_type  claim_amount  total_policy_claims fraudulent  \\\n",
       "0            No  Material only        2980.0                  1.0         No   \n",
       "1       Unknown  Material only        2980.0                  3.0         No   \n",
       "\n",
       "      CUST_ID  gender DateOfBirth State       Contact   Segment  flag  \n",
       "0  21868593.0  Female   12-Jan-79    VT  789-916-8172  Platinum     0  \n",
       "1  75740424.0  Female   13-Jan-70    ME  265-543-1264    Silver     1  "
      ]
     },
     "execution_count": 56,
     "metadata": {},
     "output_type": "execute_result"
    }
   ],
   "source": [
    "claim_final['flag'] = np.where(claim_final['police_report'].str.lower()=='unknown',1,0)\n",
    "claim_final.head(2)"
   ]
  },
  {
   "cell_type": "code",
   "execution_count": 16,
   "id": "778ad860",
   "metadata": {},
   "outputs": [],
   "source": []
  },
  {
   "cell_type": "code",
   "execution_count": null,
   "id": "81ab320c",
   "metadata": {},
   "outputs": [],
   "source": [
    "5. One customer can claim for insurance more than once and in each claim,\n",
    "multiple categories of claims can be involved. However, customer ID \n",
    "should remain unique. \n",
    "Retain the most recent observation and delete any duplicated records in\n",
    "the data based on the customer ID column."
   ]
  },
  {
   "cell_type": "code",
   "execution_count": 57,
   "id": "6f2c57aa",
   "metadata": {},
   "outputs": [],
   "source": [
    "claim_final.sort_values(by='claim_date',ascending=False,ignore_index=True,inplace=True)"
   ]
  },
  {
   "cell_type": "code",
   "execution_count": 58,
   "id": "56d8186a",
   "metadata": {},
   "outputs": [
    {
     "data": {
      "text/plain": [
       "13"
      ]
     },
     "execution_count": 58,
     "metadata": {},
     "output_type": "execute_result"
    }
   ],
   "source": [
    "claim_final.duplicated(subset=['customer_id']).sum()"
   ]
  },
  {
   "cell_type": "code",
   "execution_count": 11,
   "id": "d844e218",
   "metadata": {},
   "outputs": [
    {
     "data": {
      "text/plain": [
       "(1107, 16)"
      ]
     },
     "execution_count": 11,
     "metadata": {},
     "output_type": "execute_result"
    }
   ],
   "source": [
    "claim_final.shape"
   ]
  },
  {
   "cell_type": "code",
   "execution_count": 59,
   "id": "591e4ef0",
   "metadata": {},
   "outputs": [],
   "source": [
    "claim_final.drop_duplicates(subset=['customer_id'],inplace=True)"
   ]
  },
  {
   "cell_type": "code",
   "execution_count": 60,
   "id": "80b2734e",
   "metadata": {},
   "outputs": [
    {
     "data": {
      "text/plain": [
       "0"
      ]
     },
     "execution_count": 60,
     "metadata": {},
     "output_type": "execute_result"
    }
   ],
   "source": [
    "claim_final.duplicated(subset=['customer_id']).sum()"
   ]
  },
  {
   "cell_type": "code",
   "execution_count": 14,
   "id": "0b921fe7",
   "metadata": {},
   "outputs": [
    {
     "data": {
      "text/plain": [
       "(1094, 16)"
      ]
     },
     "execution_count": 14,
     "metadata": {},
     "output_type": "execute_result"
    }
   ],
   "source": [
    "claim_final.shape"
   ]
  },
  {
   "cell_type": "code",
   "execution_count": null,
   "id": "8ee9a5ec",
   "metadata": {},
   "outputs": [],
   "source": [
    "6. Check for missing values and impute the missing values with an \n",
    "appropriate value. (mean for continuous and mode for categorical)"
   ]
  },
  {
   "cell_type": "code",
   "execution_count": null,
   "id": "dc4a1c46",
   "metadata": {},
   "outputs": [],
   "source": [
    "# we can consider 'claim amount' as continous, all other variables need to be considered as categorical\n",
    "# because the values of those variables are discrete in nature"
   ]
  },
  {
   "cell_type": "code",
   "execution_count": 20,
   "id": "51b2c0f9",
   "metadata": {},
   "outputs": [
    {
     "data": {
      "text/plain": [
       "claim_id                1\n",
       "customer_id             1\n",
       "incident_cause          1\n",
       "claim_date              1\n",
       "claim_area              1\n",
       "police_report           1\n",
       "claim_type              1\n",
       "claim_amount            0\n",
       "total_policy_claims    11\n",
       "fraudulent              1\n",
       "CUST_ID                15\n",
       "gender                 15\n",
       "DateOfBirth            15\n",
       "State                  15\n",
       "Contact                15\n",
       "Segment                15\n",
       "dtype: int64"
      ]
     },
     "execution_count": 20,
     "metadata": {},
     "output_type": "execute_result"
    }
   ],
   "source": [
    "claim_final.isna().sum()"
   ]
  },
  {
   "cell_type": "code",
   "execution_count": 13,
   "id": "bf1e80e9",
   "metadata": {
    "scrolled": true
   },
   "outputs": [
    {
     "name": "stdout",
     "output_type": "stream",
     "text": [
      "<class 'pandas.core.frame.DataFrame'>\n",
      "Int64Index: 1094 entries, 0 to 1100\n",
      "Data columns (total 16 columns):\n",
      " #   Column               Non-Null Count  Dtype  \n",
      "---  ------               --------------  -----  \n",
      " 0   claim_id             1093 non-null   float64\n",
      " 1   customer_id          1093 non-null   float64\n",
      " 2   incident_cause       1093 non-null   object \n",
      " 3   claim_date           1093 non-null   object \n",
      " 4   claim_area           1093 non-null   object \n",
      " 5   police_report        1093 non-null   object \n",
      " 6   claim_type           1093 non-null   object \n",
      " 7   claim_amount         1028 non-null   float64\n",
      " 8   total_policy_claims  1083 non-null   float64\n",
      " 9   fraudulent           1093 non-null   object \n",
      " 10  CUST_ID              1079 non-null   float64\n",
      " 11  gender               1079 non-null   object \n",
      " 12  DateOfBirth          1079 non-null   object \n",
      " 13  State                1079 non-null   object \n",
      " 14  Contact              1079 non-null   object \n",
      " 15  Segment              1079 non-null   object \n",
      "dtypes: float64(5), object(11)\n",
      "memory usage: 145.3+ KB\n"
     ]
    }
   ],
   "source": [
    "claim_final.info()"
   ]
  },
  {
   "cell_type": "code",
   "execution_count": 61,
   "id": "8738c1f1",
   "metadata": {
    "scrolled": false
   },
   "outputs": [],
   "source": [
    "# filling the nulls in the 'claim_amount' column with the mean() \n",
    "claim_final['claim_amount'] = claim_final['claim_amount'].fillna(claim_final['claim_amount'].mean())"
   ]
  },
  {
   "cell_type": "code",
   "execution_count": 62,
   "id": "a6e28848",
   "metadata": {},
   "outputs": [
    {
     "data": {
      "text/plain": [
       "Index(['claim_id', 'customer_id', 'incident_cause', 'claim_date', 'claim_area',\n",
       "       'police_report', 'claim_type', 'claim_amount', 'total_policy_claims',\n",
       "       'fraudulent', 'CUST_ID', 'gender', 'DateOfBirth', 'State', 'Contact',\n",
       "       'Segment', 'flag'],\n",
       "      dtype='object')"
      ]
     },
     "execution_count": 62,
     "metadata": {},
     "output_type": "execute_result"
    }
   ],
   "source": [
    "claim_final.columns"
   ]
  },
  {
   "cell_type": "code",
   "execution_count": 63,
   "id": "6b69dd84",
   "metadata": {},
   "outputs": [],
   "source": [
    "# for other variables filling the nulls with the mode of that particular variable\n",
    "for x in claim_final.columns:\n",
    "    claim_final[x] = claim_final[x].fillna(claim_final[x].mode().loc[0])"
   ]
  },
  {
   "cell_type": "code",
   "execution_count": 64,
   "id": "bae14f33",
   "metadata": {},
   "outputs": [
    {
     "data": {
      "text/plain": [
       "claim_id               0\n",
       "customer_id            0\n",
       "incident_cause         0\n",
       "claim_date             0\n",
       "claim_area             0\n",
       "police_report          0\n",
       "claim_type             0\n",
       "claim_amount           0\n",
       "total_policy_claims    0\n",
       "fraudulent             0\n",
       "CUST_ID                0\n",
       "gender                 0\n",
       "DateOfBirth            0\n",
       "State                  0\n",
       "Contact                0\n",
       "Segment                0\n",
       "flag                   0\n",
       "dtype: int64"
      ]
     },
     "execution_count": 64,
     "metadata": {},
     "output_type": "execute_result"
    }
   ],
   "source": [
    "claim_final.isna().sum()"
   ]
  },
  {
   "cell_type": "code",
   "execution_count": null,
   "id": "1ce8e682",
   "metadata": {},
   "outputs": [],
   "source": []
  },
  {
   "cell_type": "code",
   "execution_count": null,
   "id": "d9b414cb",
   "metadata": {},
   "outputs": [],
   "source": [
    "7. Calculate the age of customers in years. Based on the age, categorize the\n",
    "customers according to the below criteria\n",
    "Children < 18\n",
    "Youth 18-30\n",
    "Adult 30-60\n",
    "Senior > 60"
   ]
  },
  {
   "cell_type": "code",
   "execution_count": null,
   "id": "34e9ebfa",
   "metadata": {},
   "outputs": [],
   "source": [
    "# changing the datatype of 'date of birth' to datetime to calculate the age\n",
    "# considering the date '01-01-2020' as the reference to calculate the age of the customer"
   ]
  },
  {
   "cell_type": "code",
   "execution_count": 65,
   "id": "87c4ecd3",
   "metadata": {},
   "outputs": [
    {
     "data": {
      "text/plain": [
       "dtype('O')"
      ]
     },
     "execution_count": 65,
     "metadata": {},
     "output_type": "execute_result"
    }
   ],
   "source": [
    "claim_final['DateOfBirth'].dtypes"
   ]
  },
  {
   "cell_type": "code",
   "execution_count": 66,
   "id": "f2f4fe8a",
   "metadata": {},
   "outputs": [],
   "source": [
    "claim_final['DateOfBirth'] = pd.to_datetime(claim_final['DateOfBirth'], format = '%d-%b-%y')"
   ]
  },
  {
   "cell_type": "code",
   "execution_count": 67,
   "id": "c35e2691",
   "metadata": {},
   "outputs": [],
   "source": [
    "claim_final['claim_date'] = pd.to_datetime(claim_final['claim_date'], format = '%m/%d/%Y')"
   ]
  },
  {
   "cell_type": "code",
   "execution_count": 68,
   "id": "022672e9",
   "metadata": {},
   "outputs": [
    {
     "name": "stdout",
     "output_type": "stream",
     "text": [
      "<class 'pandas.core.series.Series'>\n",
      "Int64Index: 1094 entries, 0 to 1100\n",
      "Series name: DateOfBirth\n",
      "Non-Null Count  Dtype         \n",
      "--------------  -----         \n",
      "1094 non-null   datetime64[ns]\n",
      "dtypes: datetime64[ns](1)\n",
      "memory usage: 17.1 KB\n"
     ]
    }
   ],
   "source": [
    "claim_final['DateOfBirth'].info()"
   ]
  },
  {
   "cell_type": "code",
   "execution_count": 69,
   "id": "8008f4f1",
   "metadata": {},
   "outputs": [],
   "source": [
    "def age_group(x):\n",
    "    if ((pd.to_datetime('01-01-2020') - x) / np.timedelta64(1,'Y')) <= 18.0:\n",
    "        return('Children')\n",
    "    elif ((pd.to_datetime('01-01-2020') - x) / np.timedelta64(1,'Y')) > 18.0 and ((pd.to_datetime('01-01-2020') - x) / np.timedelta64(1,'Y')) <= 30.0:\n",
    "        return('Youth')\n",
    "    elif ((pd.to_datetime('01-01-2020') - x )/ np.timedelta64(1,'Y')) > 30.0 and ((pd.to_datetime('01-01-2020') - x) / np.timedelta64(1,'Y')) <= 60.0:\n",
    "        return('Adult')\n",
    "    else:\n",
    "        return('Senior')"
   ]
  },
  {
   "cell_type": "code",
   "execution_count": 70,
   "id": "c0fc9b95",
   "metadata": {},
   "outputs": [],
   "source": [
    "claim_final['age_group'] = claim_final[['DateOfBirth']].applymap(age_group)"
   ]
  },
  {
   "cell_type": "code",
   "execution_count": 23,
   "id": "a3db0c09",
   "metadata": {},
   "outputs": [
    {
     "data": {
      "text/html": [
       "<div>\n",
       "<style scoped>\n",
       "    .dataframe tbody tr th:only-of-type {\n",
       "        vertical-align: middle;\n",
       "    }\n",
       "\n",
       "    .dataframe tbody tr th {\n",
       "        vertical-align: top;\n",
       "    }\n",
       "\n",
       "    .dataframe thead th {\n",
       "        text-align: right;\n",
       "    }\n",
       "</style>\n",
       "<table border=\"1\" class=\"dataframe\">\n",
       "  <thead>\n",
       "    <tr style=\"text-align: right;\">\n",
       "      <th></th>\n",
       "      <th>claim_id</th>\n",
       "      <th>customer_id</th>\n",
       "      <th>incident_cause</th>\n",
       "      <th>claim_date</th>\n",
       "      <th>claim_area</th>\n",
       "      <th>police_report</th>\n",
       "      <th>claim_type</th>\n",
       "      <th>claim_amount</th>\n",
       "      <th>total_policy_claims</th>\n",
       "      <th>fraudulent</th>\n",
       "      <th>CUST_ID</th>\n",
       "      <th>gender</th>\n",
       "      <th>DateOfBirth</th>\n",
       "      <th>State</th>\n",
       "      <th>Contact</th>\n",
       "      <th>Segment</th>\n",
       "      <th>flag</th>\n",
       "      <th>age_group</th>\n",
       "    </tr>\n",
       "  </thead>\n",
       "  <tbody>\n",
       "    <tr>\n",
       "      <th>0</th>\n",
       "      <td>54004764.0</td>\n",
       "      <td>21868593.0</td>\n",
       "      <td>Driver error</td>\n",
       "      <td>2017-11-27</td>\n",
       "      <td>Auto</td>\n",
       "      <td>No</td>\n",
       "      <td>Material only</td>\n",
       "      <td>2980.0</td>\n",
       "      <td>1.0</td>\n",
       "      <td>No</td>\n",
       "      <td>21868593.0</td>\n",
       "      <td>Female</td>\n",
       "      <td>1979-01-12</td>\n",
       "      <td>VT</td>\n",
       "      <td>789-916-8172</td>\n",
       "      <td>Platinum</td>\n",
       "      <td>0</td>\n",
       "      <td>Adult</td>\n",
       "    </tr>\n",
       "    <tr>\n",
       "      <th>1</th>\n",
       "      <td>33985796.0</td>\n",
       "      <td>75740424.0</td>\n",
       "      <td>Crime</td>\n",
       "      <td>2018-10-03</td>\n",
       "      <td>Home</td>\n",
       "      <td>Unknown</td>\n",
       "      <td>Material only</td>\n",
       "      <td>2980.0</td>\n",
       "      <td>3.0</td>\n",
       "      <td>No</td>\n",
       "      <td>75740424.0</td>\n",
       "      <td>Female</td>\n",
       "      <td>1970-01-13</td>\n",
       "      <td>ME</td>\n",
       "      <td>265-543-1264</td>\n",
       "      <td>Silver</td>\n",
       "      <td>1</td>\n",
       "      <td>Adult</td>\n",
       "    </tr>\n",
       "    <tr>\n",
       "      <th>2</th>\n",
       "      <td>53522022.0</td>\n",
       "      <td>30308357.0</td>\n",
       "      <td>Other driver error</td>\n",
       "      <td>2018-02-02</td>\n",
       "      <td>Auto</td>\n",
       "      <td>No</td>\n",
       "      <td>Material only</td>\n",
       "      <td>3369.5</td>\n",
       "      <td>1.0</td>\n",
       "      <td>Yes</td>\n",
       "      <td>30308357.0</td>\n",
       "      <td>Female</td>\n",
       "      <td>1984-03-11</td>\n",
       "      <td>TN</td>\n",
       "      <td>798-631-4758</td>\n",
       "      <td>Silver</td>\n",
       "      <td>0</td>\n",
       "      <td>Adult</td>\n",
       "    </tr>\n",
       "    <tr>\n",
       "      <th>3</th>\n",
       "      <td>63017412.0</td>\n",
       "      <td>30308357.0</td>\n",
       "      <td>Driver error</td>\n",
       "      <td>2018-04-04</td>\n",
       "      <td>Auto</td>\n",
       "      <td>No</td>\n",
       "      <td>Material only</td>\n",
       "      <td>1950.0</td>\n",
       "      <td>6.0</td>\n",
       "      <td>No</td>\n",
       "      <td>30308357.0</td>\n",
       "      <td>Female</td>\n",
       "      <td>1984-03-11</td>\n",
       "      <td>TN</td>\n",
       "      <td>798-631-4758</td>\n",
       "      <td>Silver</td>\n",
       "      <td>0</td>\n",
       "      <td>Adult</td>\n",
       "    </tr>\n",
       "    <tr>\n",
       "      <th>4</th>\n",
       "      <td>13015401.0</td>\n",
       "      <td>47830476.0</td>\n",
       "      <td>Natural causes</td>\n",
       "      <td>2018-06-17</td>\n",
       "      <td>Auto</td>\n",
       "      <td>No</td>\n",
       "      <td>Material only</td>\n",
       "      <td>1680.0</td>\n",
       "      <td>1.0</td>\n",
       "      <td>No</td>\n",
       "      <td>47830476.0</td>\n",
       "      <td>Female</td>\n",
       "      <td>1986-05-01</td>\n",
       "      <td>MA</td>\n",
       "      <td>413-187-7945</td>\n",
       "      <td>Silver</td>\n",
       "      <td>0</td>\n",
       "      <td>Adult</td>\n",
       "    </tr>\n",
       "  </tbody>\n",
       "</table>\n",
       "</div>"
      ],
      "text/plain": [
       "     claim_id  customer_id      incident_cause claim_date claim_area  \\\n",
       "0  54004764.0   21868593.0        Driver error 2017-11-27       Auto   \n",
       "1  33985796.0   75740424.0               Crime 2018-10-03       Home   \n",
       "2  53522022.0   30308357.0  Other driver error 2018-02-02       Auto   \n",
       "3  63017412.0   30308357.0        Driver error 2018-04-04       Auto   \n",
       "4  13015401.0   47830476.0      Natural causes 2018-06-17       Auto   \n",
       "\n",
       "  police_report     claim_type  claim_amount  total_policy_claims fraudulent  \\\n",
       "0            No  Material only        2980.0                  1.0         No   \n",
       "1       Unknown  Material only        2980.0                  3.0         No   \n",
       "2            No  Material only        3369.5                  1.0        Yes   \n",
       "3            No  Material only        1950.0                  6.0         No   \n",
       "4            No  Material only        1680.0                  1.0         No   \n",
       "\n",
       "      CUST_ID  gender DateOfBirth State       Contact   Segment  flag  \\\n",
       "0  21868593.0  Female  1979-01-12    VT  789-916-8172  Platinum     0   \n",
       "1  75740424.0  Female  1970-01-13    ME  265-543-1264    Silver     1   \n",
       "2  30308357.0  Female  1984-03-11    TN  798-631-4758    Silver     0   \n",
       "3  30308357.0  Female  1984-03-11    TN  798-631-4758    Silver     0   \n",
       "4  47830476.0  Female  1986-05-01    MA  413-187-7945    Silver     0   \n",
       "\n",
       "  age_group  \n",
       "0     Adult  \n",
       "1     Adult  \n",
       "2     Adult  \n",
       "3     Adult  \n",
       "4     Adult  "
      ]
     },
     "execution_count": 23,
     "metadata": {},
     "output_type": "execute_result"
    }
   ],
   "source": [
    "claim_final.head()"
   ]
  },
  {
   "cell_type": "code",
   "execution_count": null,
   "id": "3b7413d9",
   "metadata": {},
   "outputs": [],
   "source": []
  },
  {
   "cell_type": "code",
   "execution_count": null,
   "id": "e684df3b",
   "metadata": {},
   "outputs": [],
   "source": [
    "8. What is the average amount claimed by the customers from various \n",
    "segments?"
   ]
  },
  {
   "cell_type": "code",
   "execution_count": 71,
   "id": "b2b43a65",
   "metadata": {},
   "outputs": [
    {
     "data": {
      "text/html": [
       "<div>\n",
       "<style scoped>\n",
       "    .dataframe tbody tr th:only-of-type {\n",
       "        vertical-align: middle;\n",
       "    }\n",
       "\n",
       "    .dataframe tbody tr th {\n",
       "        vertical-align: top;\n",
       "    }\n",
       "\n",
       "    .dataframe thead th {\n",
       "        text-align: right;\n",
       "    }\n",
       "</style>\n",
       "<table border=\"1\" class=\"dataframe\">\n",
       "  <thead>\n",
       "    <tr style=\"text-align: right;\">\n",
       "      <th></th>\n",
       "      <th>claim_amount</th>\n",
       "    </tr>\n",
       "    <tr>\n",
       "      <th>Segment</th>\n",
       "      <th></th>\n",
       "    </tr>\n",
       "  </thead>\n",
       "  <tbody>\n",
       "    <tr>\n",
       "      <th>Gold</th>\n",
       "      <td>12705.278356</td>\n",
       "    </tr>\n",
       "    <tr>\n",
       "      <th>Platinum</th>\n",
       "      <td>12369.713701</td>\n",
       "    </tr>\n",
       "    <tr>\n",
       "      <th>Silver</th>\n",
       "      <td>12264.078822</td>\n",
       "    </tr>\n",
       "  </tbody>\n",
       "</table>\n",
       "</div>"
      ],
      "text/plain": [
       "          claim_amount\n",
       "Segment               \n",
       "Gold      12705.278356\n",
       "Platinum  12369.713701\n",
       "Silver    12264.078822"
      ]
     },
     "execution_count": 71,
     "metadata": {},
     "output_type": "execute_result"
    }
   ],
   "source": [
    "claim_final.groupby('Segment')[['Segment','claim_amount']].agg({'claim_amount':np.mean})"
   ]
  },
  {
   "cell_type": "code",
   "execution_count": null,
   "id": "88c7251c",
   "metadata": {},
   "outputs": [],
   "source": []
  },
  {
   "cell_type": "code",
   "execution_count": null,
   "id": "a27890d7",
   "metadata": {},
   "outputs": [],
   "source": [
    "9. What is the total claim amount based on incident cause for all the claims\n",
    "that have been done at least 20 days prior to 1st of October, 2018.\n"
   ]
  },
  {
   "cell_type": "code",
   "execution_count": 54,
   "id": "9b0d0443",
   "metadata": {},
   "outputs": [],
   "source": [
    "twentydays = claim_final[(pd.to_datetime('01-10-2018') - claim_final['claim_date']) >= np.timedelta64(20,'D')]"
   ]
  },
  {
   "cell_type": "code",
   "execution_count": 55,
   "id": "ef2cf14e",
   "metadata": {},
   "outputs": [
    {
     "data": {
      "text/html": [
       "<div>\n",
       "<style scoped>\n",
       "    .dataframe tbody tr th:only-of-type {\n",
       "        vertical-align: middle;\n",
       "    }\n",
       "\n",
       "    .dataframe tbody tr th {\n",
       "        vertical-align: top;\n",
       "    }\n",
       "\n",
       "    .dataframe thead th {\n",
       "        text-align: right;\n",
       "    }\n",
       "</style>\n",
       "<table border=\"1\" class=\"dataframe\">\n",
       "  <thead>\n",
       "    <tr style=\"text-align: right;\">\n",
       "      <th></th>\n",
       "      <th>claim_amount</th>\n",
       "    </tr>\n",
       "    <tr>\n",
       "      <th>incident_cause</th>\n",
       "      <th></th>\n",
       "    </tr>\n",
       "  </thead>\n",
       "  <tbody>\n",
       "    <tr>\n",
       "      <th>Crime</th>\n",
       "      <td>4.038125e+05</td>\n",
       "    </tr>\n",
       "    <tr>\n",
       "      <th>Driver error</th>\n",
       "      <td>1.944347e+06</td>\n",
       "    </tr>\n",
       "    <tr>\n",
       "      <th>Natural causes</th>\n",
       "      <td>7.127496e+05</td>\n",
       "    </tr>\n",
       "    <tr>\n",
       "      <th>Other causes</th>\n",
       "      <td>2.275930e+06</td>\n",
       "    </tr>\n",
       "    <tr>\n",
       "      <th>Other driver error</th>\n",
       "      <td>1.849538e+06</td>\n",
       "    </tr>\n",
       "  </tbody>\n",
       "</table>\n",
       "</div>"
      ],
      "text/plain": [
       "                    claim_amount\n",
       "incident_cause                  \n",
       "Crime               4.038125e+05\n",
       "Driver error        1.944347e+06\n",
       "Natural causes      7.127496e+05\n",
       "Other causes        2.275930e+06\n",
       "Other driver error  1.849538e+06"
      ]
     },
     "execution_count": 55,
     "metadata": {},
     "output_type": "execute_result"
    }
   ],
   "source": [
    "twentydays.groupby('incident_cause')[['incident_cause','claim_amount']].agg({'claim_amount':np.sum})"
   ]
  },
  {
   "cell_type": "code",
   "execution_count": null,
   "id": "b5a45148",
   "metadata": {},
   "outputs": [],
   "source": []
  },
  {
   "cell_type": "code",
   "execution_count": null,
   "id": "b0d83376",
   "metadata": {},
   "outputs": [],
   "source": [
    "10. How many adults from TX, DE and AK claimed insurance for driver \n",
    "related issues and causes? "
   ]
  },
  {
   "cell_type": "code",
   "execution_count": 72,
   "id": "13e665b8",
   "metadata": {},
   "outputs": [
    {
     "data": {
      "text/plain": [
       "22"
      ]
     },
     "execution_count": 72,
     "metadata": {},
     "output_type": "execute_result"
    }
   ],
   "source": [
    "claim_final[(claim_final['age_group'] == 'Adult') & \n",
    "            (claim_final['State'].isin(['TX', 'DE', 'AK'])) & \n",
    "            (claim_final['incident_cause'].isin(['Driver error', 'Other driver error']))].shape[0]"
   ]
  },
  {
   "cell_type": "code",
   "execution_count": null,
   "id": "9a1d4d95",
   "metadata": {},
   "outputs": [],
   "source": []
  },
  {
   "cell_type": "code",
   "execution_count": null,
   "id": "2c9ee26c",
   "metadata": {},
   "outputs": [],
   "source": [
    "11. Draw a pie chart between the aggregated value of claim amount based \n",
    "on gender and segment. Represent the claim amount as a percentage on\n",
    "the pie chart."
   ]
  },
  {
   "cell_type": "code",
   "execution_count": 42,
   "id": "58058401",
   "metadata": {},
   "outputs": [],
   "source": [
    "import matplotlib.pyplot as plt"
   ]
  },
  {
   "cell_type": "code",
   "execution_count": 91,
   "id": "57b383e0",
   "metadata": {},
   "outputs": [],
   "source": [
    "gender_data = claim_final.groupby('gender')['claim_amount'].sum()\n",
    "segment_data = claim_final.groupby('Segment')['claim_amount'].sum()"
   ]
  },
  {
   "cell_type": "code",
   "execution_count": 92,
   "id": "7e4b51bc",
   "metadata": {},
   "outputs": [
    {
     "data": {
      "text/plain": [
       "gender\n",
       "Female    6.388412e+06\n",
       "Male      7.237369e+06\n",
       "Name: claim_amount, dtype: float64"
      ]
     },
     "execution_count": 92,
     "metadata": {},
     "output_type": "execute_result"
    }
   ],
   "source": [
    "gender_data"
   ]
  },
  {
   "cell_type": "code",
   "execution_count": 96,
   "id": "32a94a8f",
   "metadata": {},
   "outputs": [
    {
     "data": {
      "image/png": "[encoded data removed]",
      "text/plain": [
       "<Figure size 640x480 with 1 Axes>"
      ]
     },
     "metadata": {},
     "output_type": "display_data"
    }
   ],
   "source": [
    "plt.pie(gender_data, autopct='%1.1f%%')\n",
    "plt.legend(list(gender_data.index))\n",
    "plt.show()"
   ]
  },
  {
   "cell_type": "code",
   "execution_count": 97,
   "id": "0a1bfa8a",
   "metadata": {},
   "outputs": [
    {
     "data": {
      "image/png": "[encoded data removed]",
      "text/plain": [
       "<Figure size 640x480 with 1 Axes>"
      ]
     },
     "metadata": {},
     "output_type": "display_data"
    }
   ],
   "source": [
    "plt.pie(segment_data, autopct='%1.1f%%')\n",
    "plt.legend(list(segment_data.index))\n",
    "plt.show()"
   ]
  },
  {
   "cell_type": "code",
   "execution_count": null,
   "id": "543583b1",
   "metadata": {},
   "outputs": [],
   "source": []
  },
  {
   "cell_type": "code",
   "execution_count": null,
   "id": "eab0f11a",
   "metadata": {},
   "outputs": [],
   "source": [
    "12. Among males and females, which gender had claimed the most for any \n",
    "type of driver related issues? E.g. This metric can be compared using a \n",
    "bar chart"
   ]
  },
  {
   "cell_type": "code",
   "execution_count": 101,
   "id": "54ee88a5",
   "metadata": {},
   "outputs": [
    {
     "data": {
      "image/png": "[encoded data removed]",
      "text/plain": [
       "<Figure size 640x480 with 1 Axes>"
      ]
     },
     "metadata": {},
     "output_type": "display_data"
    }
   ],
   "source": [
    "claim_final.pivot_table(index='incident_cause', \n",
    "                        columns='gender', values='claim_amount', aggfunc='sum').plot(kind='bar')\n",
    "plt.show()"
   ]
  },
  {
   "cell_type": "code",
   "execution_count": null,
   "id": "cc12d127",
   "metadata": {},
   "outputs": [],
   "source": []
  },
  {
   "cell_type": "code",
   "execution_count": null,
   "id": "0035bc68",
   "metadata": {},
   "outputs": [],
   "source": [
    "13. Which age group had the maximum fraudulent policy claims? Visualize \n",
    "it on a bar chart."
   ]
  },
  {
   "cell_type": "code",
   "execution_count": 109,
   "id": "852da3de",
   "metadata": {},
   "outputs": [
    {
     "data": {
      "image/png": "[encoded data removed]",
      "text/plain": [
       "<Figure size 640x480 with 1 Axes>"
      ]
     },
     "metadata": {},
     "output_type": "display_data"
    }
   ],
   "source": [
    "claim_final.pivot_table(index='age_group', \n",
    "                        columns='fraudulent', values='customer_id', aggfunc='count').plot(kind='bar')\n",
    "plt.show()"
   ]
  },
  {
   "cell_type": "code",
   "execution_count": null,
   "id": "d19da27d",
   "metadata": {},
   "outputs": [],
   "source": []
  },
  {
   "cell_type": "code",
   "execution_count": null,
   "id": "6e05f2cc",
   "metadata": {},
   "outputs": [],
   "source": [
    "14. Visualize the monthly trend of the total amount that has been claimed \n",
    "by the customers. Ensure that on the “month” axis, the month is in a \n",
    "chronological order not alphabetical order. "
   ]
  },
  {
   "cell_type": "code",
   "execution_count": 24,
   "id": "f7f34a7c",
   "metadata": {},
   "outputs": [],
   "source": [
    "import datetime as dt"
   ]
  },
  {
   "cell_type": "code",
   "execution_count": 43,
   "id": "575295fe",
   "metadata": {},
   "outputs": [
    {
     "data": {
      "text/plain": [
       "<Axes: xlabel='claim_date'>"
      ]
     },
     "execution_count": 43,
     "metadata": {},
     "output_type": "execute_result"
    },
    {
     "data": {
      "image/png": "[encoded data removed]",
      "text/plain": [
       "<Figure size 640x480 with 1 Axes>"
      ]
     },
     "metadata": {},
     "output_type": "display_data"
    }
   ],
   "source": [
    "months = ['January', 'February', 'March', 'April', 'May', 'June', 'July', 'August', 'September', 'October', 'November',\n",
    " 'December']\n",
    "claim_final.pivot_table(index= claim_final['claim_date'].dt.month_name(), \n",
    "                        values='claim_amount', aggfunc='sum').reindex(months).plot(kind='bar')"
   ]
  },
  {
   "cell_type": "code",
   "execution_count": null,
   "id": "175ec0b5",
   "metadata": {},
   "outputs": [],
   "source": [
    "15. What is the average claim amount for gender and age categories and \n",
    "suitably represent the above using a facetted bar chart, one facet that \n",
    "represents fraudulent claims and the other for non-fraudulent claims."
   ]
  },
  {
   "cell_type": "code",
   "execution_count": 20,
   "id": "307c7baf",
   "metadata": {},
   "outputs": [],
   "source": [
    "import seaborn as sns"
   ]
  },
  {
   "cell_type": "code",
   "execution_count": 42,
   "id": "d088bba0",
   "metadata": {},
   "outputs": [
    {
     "data": {
      "image/png": "[encoded data removed]",
      "text/plain": [
       "<Figure size 1100.25x500 with 2 Axes>"
      ]
     },
     "metadata": {},
     "output_type": "display_data"
    }
   ],
   "source": [
    "sns.catplot(x='age_group', y='claim_amount', hue= 'gender', data=claim_final, \n",
    "            col='fraudulent', estimator='mean', kind='bar', sharex=True)\n",
    "plt.show()\n"
   ]
  },
  {
   "cell_type": "code",
   "execution_count": null,
   "id": "92878b5c",
   "metadata": {},
   "outputs": [],
   "source": []
  },
  {
   "cell_type": "code",
   "execution_count": null,
   "id": "a2e8d943",
   "metadata": {},
   "outputs": [],
   "source": [
    "Based on the conclusions from exploratory analysis as well as suitable \n",
    "statistical tests, answer the below questions. Please include a detailed \n",
    "write-up on the parameters taken into consideration, the Hypothesis \n",
    "testing steps, conclusion from the p-values and the business implications of \n",
    "the statements. "
   ]
  },
  {
   "cell_type": "code",
   "execution_count": 78,
   "id": "323b1790",
   "metadata": {},
   "outputs": [],
   "source": [
    "import matplotlib.pyplot as plt\n",
    "from scipy import stats as stats"
   ]
  },
  {
   "cell_type": "code",
   "execution_count": null,
   "id": "3d81c356",
   "metadata": {},
   "outputs": [],
   "source": [
    "16. Is there any similarity in the amount claimed by males and females?"
   ]
  },
  {
   "cell_type": "code",
   "execution_count": 43,
   "id": "69a2a0a1",
   "metadata": {},
   "outputs": [],
   "source": [
    "# gender is categorical variable (2 categories) and claim amount is numeric data type now. \n",
    "# Hence we can use independent sample t-test for 2 samples"
   ]
  },
  {
   "cell_type": "code",
   "execution_count": 44,
   "id": "0186f71d",
   "metadata": {},
   "outputs": [
    {
     "name": "stdout",
     "output_type": "stream",
     "text": [
      "mean of s1: 12786.870760061047 | mean of s2: 12099.264757251503\n"
     ]
    }
   ],
   "source": [
    "ca = 'claim_amount'\n",
    "\n",
    "#filtering the data based on loan length\n",
    "s1 = claim_final.loc[claim_final['gender'] == 'Male', ca]\n",
    "s2 = claim_final.loc[claim_final['gender'] == 'Female', ca]\n",
    "\n",
    "# display mean of both the segments\n",
    "print('mean of s1:', s1.mean(),'| mean of s2:', s2.mean())"
   ]
  },
  {
   "cell_type": "code",
   "execution_count": 47,
   "id": "ce009b20",
   "metadata": {},
   "outputs": [
    {
     "data": {
      "text/plain": [
       "Ttest_indResult(statistic=0.8513943029589899, pvalue=0.3947370161525008)"
      ]
     },
     "execution_count": 47,
     "metadata": {},
     "output_type": "execute_result"
    }
   ],
   "source": [
    "# Ho: There is similarity in amount claimed by males and females\n",
    "# Ha: There is no similarity in amount claimed by males and females\n",
    "# CI: 99%, p_value = 0.01\n",
    "\n",
    "#perform the test\n",
    "stats.ttest_ind(s1,s2)"
   ]
  },
  {
   "cell_type": "code",
   "execution_count": 48,
   "id": "5b28f923",
   "metadata": {},
   "outputs": [],
   "source": [
    "# Conclusion: Since p_value is greater than 0.01, we DON'T REJECT the NULL HYPOTHESIS.\n",
    "# Hence there is similarity in amount claimed by males and females"
   ]
  },
  {
   "cell_type": "code",
   "execution_count": null,
   "id": "be5987d4",
   "metadata": {},
   "outputs": [],
   "source": []
  },
  {
   "cell_type": "code",
   "execution_count": null,
   "id": "b8538360",
   "metadata": {},
   "outputs": [],
   "source": [
    "17. Is there any relationship between age category and segment?"
   ]
  },
  {
   "cell_type": "code",
   "execution_count": null,
   "id": "8df544fe",
   "metadata": {},
   "outputs": [],
   "source": [
    "# age category and segment both are categorical variable. \n",
    "# hence we can use chi-sq test for the hypothesis testing"
   ]
  },
  {
   "cell_type": "code",
   "execution_count": 49,
   "id": "05f5476c",
   "metadata": {},
   "outputs": [
    {
     "data": {
      "text/html": [
       "<div>\n",
       "<style scoped>\n",
       "    .dataframe tbody tr th:only-of-type {\n",
       "        vertical-align: middle;\n",
       "    }\n",
       "\n",
       "    .dataframe tbody tr th {\n",
       "        vertical-align: top;\n",
       "    }\n",
       "\n",
       "    .dataframe thead th {\n",
       "        text-align: right;\n",
       "    }\n",
       "</style>\n",
       "<table border=\"1\" class=\"dataframe\">\n",
       "  <thead>\n",
       "    <tr style=\"text-align: right;\">\n",
       "      <th>Segment</th>\n",
       "      <th>Gold</th>\n",
       "      <th>Platinum</th>\n",
       "      <th>Silver</th>\n",
       "    </tr>\n",
       "    <tr>\n",
       "      <th>age_group</th>\n",
       "      <th></th>\n",
       "      <th></th>\n",
       "      <th></th>\n",
       "    </tr>\n",
       "  </thead>\n",
       "  <tbody>\n",
       "    <tr>\n",
       "      <th>Adult</th>\n",
       "      <td>203</td>\n",
       "      <td>177</td>\n",
       "      <td>177</td>\n",
       "    </tr>\n",
       "    <tr>\n",
       "      <th>Children</th>\n",
       "      <td>96</td>\n",
       "      <td>83</td>\n",
       "      <td>81</td>\n",
       "    </tr>\n",
       "    <tr>\n",
       "      <th>Youth</th>\n",
       "      <td>88</td>\n",
       "      <td>101</td>\n",
       "      <td>88</td>\n",
       "    </tr>\n",
       "  </tbody>\n",
       "</table>\n",
       "</div>"
      ],
      "text/plain": [
       "Segment    Gold  Platinum  Silver\n",
       "age_group                        \n",
       "Adult       203       177     177\n",
       "Children     96        83      81\n",
       "Youth        88       101      88"
      ]
     },
     "execution_count": 49,
     "metadata": {},
     "output_type": "execute_result"
    }
   ],
   "source": [
    "# get the observation frequency from the dataset\n",
    "obs_fq = pd.crosstab(claim_final['age_group'], claim_final['Segment'])\n",
    "obs_fq"
   ]
  },
  {
   "cell_type": "code",
   "execution_count": 50,
   "id": "26f142d8",
   "metadata": {},
   "outputs": [
    {
     "data": {
      "text/plain": [
       "Chi2ContingencyResult(statistic=2.748744526411803, pvalue=0.600712294197092, dof=4, expected_freq=array([[197.03747715, 183.79981718, 176.16270567],\n",
       "       [ 91.97440585,  85.7952468 ,  82.23034735],\n",
       "       [ 97.988117  ,  91.40493601,  87.60694698]]))"
      ]
     },
     "execution_count": 50,
     "metadata": {},
     "output_type": "execute_result"
    }
   ],
   "source": [
    "# Ho: There is relationship between age_category and segment\n",
    "# Ha: There is no relationship between age_category and segment\n",
    "# CI: 99%, p_value: 0.01\n",
    "\n",
    "# performing the test\n",
    "stats.chi2_contingency(obs_fq)"
   ]
  },
  {
   "cell_type": "code",
   "execution_count": 51,
   "id": "691f647c",
   "metadata": {},
   "outputs": [],
   "source": [
    "# Conclusion: Since p_value is greater than 0.01, we DON'T REJECT the NULL HYPOTHESIS.\n",
    "# Hence there is relationship between age_category and segment"
   ]
  },
  {
   "cell_type": "code",
   "execution_count": null,
   "id": "6c0b02b5",
   "metadata": {},
   "outputs": [],
   "source": []
  },
  {
   "cell_type": "code",
   "execution_count": null,
   "id": "334b4543",
   "metadata": {},
   "outputs": [],
   "source": [
    "18. The current year has shown a significant rise in claim amounts as \n",
    "compared to 2016-17 fiscal average which was $10,000."
   ]
  },
  {
   "cell_type": "code",
   "execution_count": 52,
   "id": "1e2f2b67",
   "metadata": {},
   "outputs": [],
   "source": [
    "# claim amount is numerical data type and we want to compare it with fiscal_year 2016-17\n",
    "# We can consider year 2016-17 average as population mean and can use ttest 1 sample"
   ]
  },
  {
   "cell_type": "code",
   "execution_count": 25,
   "id": "fee424b6",
   "metadata": {},
   "outputs": [
    {
     "data": {
      "text/plain": [
       "(581, 17)"
      ]
     },
     "execution_count": 25,
     "metadata": {},
     "output_type": "execute_result"
    }
   ],
   "source": [
    "this_year = claim_final[(claim_final['claim_date'] >= pd.to_datetime('01-04-2017', dayfirst=True))\n",
    "                        & (claim_final['claim_date'] <= pd.to_datetime('31-03-2018', dayfirst=True))]\n",
    "this_year.shape"
   ]
  },
  {
   "cell_type": "code",
   "execution_count": 26,
   "id": "587441ee",
   "metadata": {},
   "outputs": [
    {
     "data": {
      "text/plain": [
       "12996.691602429732"
      ]
     },
     "execution_count": 26,
     "metadata": {},
     "output_type": "execute_result"
    }
   ],
   "source": [
    "this_year['claim_amount'].mean()"
   ]
  },
  {
   "cell_type": "code",
   "execution_count": 64,
   "id": "5ed46c6a",
   "metadata": {},
   "outputs": [
    {
     "name": "stdout",
     "output_type": "stream",
     "text": [
      "Population mean= 10000  |  Sample mean= 12996.691602429732\n"
     ]
    }
   ],
   "source": [
    "sample_mean = this_year['claim_amount'].mean()\n",
    "pop_mean = 10000\n",
    "print(\"Population mean=\", pop_mean, ' | ', \"Sample mean=\", sample_mean)"
   ]
  },
  {
   "cell_type": "code",
   "execution_count": 66,
   "id": "63880c48",
   "metadata": {},
   "outputs": [
    {
     "data": {
      "text/plain": [
       "TtestResult(statistic=5.276579437944255, pvalue=1.8620011442370195e-07, df=580)"
      ]
     },
     "execution_count": 66,
     "metadata": {},
     "output_type": "execute_result"
    }
   ],
   "source": [
    "# Ho: There is significant rise in claim amount as compared to year 2016-17 \n",
    "# Ha: There is no significant rise in claim amount as compared to year 2016-17 \n",
    "# CI: 95%, p_value: 0.05\n",
    "\n",
    "# performing the test\n",
    "stats.ttest_1samp(a=this_year['claim_amount'], popmean = pop_mean)"
   ]
  },
  {
   "cell_type": "code",
   "execution_count": 67,
   "id": "33fe1cfe",
   "metadata": {},
   "outputs": [],
   "source": [
    "# Conclusion: Since p_value is less than 0.01, we REJECT the NULL HYPOTHESIS.\n",
    "# Hence there is no significant rise in claim amount as compared to year 2016-17 "
   ]
  },
  {
   "cell_type": "code",
   "execution_count": null,
   "id": "76412b49",
   "metadata": {},
   "outputs": [],
   "source": []
  },
  {
   "cell_type": "code",
   "execution_count": null,
   "id": "9118b342",
   "metadata": {},
   "outputs": [],
   "source": [
    "19. Is there any difference between age groups and insurance claims?"
   ]
  },
  {
   "cell_type": "code",
   "execution_count": 27,
   "id": "8fe4bc38",
   "metadata": {
    "scrolled": true
   },
   "outputs": [
    {
     "data": {
      "text/html": [
       "<div>\n",
       "<style scoped>\n",
       "    .dataframe tbody tr th:only-of-type {\n",
       "        vertical-align: middle;\n",
       "    }\n",
       "\n",
       "    .dataframe tbody tr th {\n",
       "        vertical-align: top;\n",
       "    }\n",
       "\n",
       "    .dataframe thead th {\n",
       "        text-align: right;\n",
       "    }\n",
       "</style>\n",
       "<table border=\"1\" class=\"dataframe\">\n",
       "  <thead>\n",
       "    <tr style=\"text-align: right;\">\n",
       "      <th></th>\n",
       "      <th>claim_id</th>\n",
       "      <th>customer_id</th>\n",
       "      <th>incident_cause</th>\n",
       "      <th>claim_date</th>\n",
       "      <th>claim_area</th>\n",
       "      <th>police_report</th>\n",
       "      <th>claim_type</th>\n",
       "      <th>claim_amount</th>\n",
       "      <th>total_policy_claims</th>\n",
       "      <th>fraudulent</th>\n",
       "      <th>CUST_ID</th>\n",
       "      <th>gender</th>\n",
       "      <th>DateOfBirth</th>\n",
       "      <th>State</th>\n",
       "      <th>Contact</th>\n",
       "      <th>Segment</th>\n",
       "      <th>age_group</th>\n",
       "    </tr>\n",
       "  </thead>\n",
       "  <tbody>\n",
       "    <tr>\n",
       "      <th>0</th>\n",
       "      <td>88944238.0</td>\n",
       "      <td>93822307.0</td>\n",
       "      <td>Natural causes</td>\n",
       "      <td>2017-12-30</td>\n",
       "      <td>Auto</td>\n",
       "      <td>No</td>\n",
       "      <td>Material only</td>\n",
       "      <td>2940.0</td>\n",
       "      <td>1.0</td>\n",
       "      <td>No</td>\n",
       "      <td>93822307.0</td>\n",
       "      <td>Male</td>\n",
       "      <td>1987-11-15</td>\n",
       "      <td>NE</td>\n",
       "      <td>534-856-2654</td>\n",
       "      <td>Platinum</td>\n",
       "      <td>Adult</td>\n",
       "    </tr>\n",
       "  </tbody>\n",
       "</table>\n",
       "</div>"
      ],
      "text/plain": [
       "     claim_id  customer_id  incident_cause claim_date claim_area  \\\n",
       "0  88944238.0   93822307.0  Natural causes 2017-12-30       Auto   \n",
       "\n",
       "  police_report     claim_type  claim_amount  total_policy_claims fraudulent  \\\n",
       "0            No  Material only        2940.0                  1.0         No   \n",
       "\n",
       "      CUST_ID gender DateOfBirth State       Contact   Segment age_group  \n",
       "0  93822307.0   Male  1987-11-15    NE  534-856-2654  Platinum     Adult  "
      ]
     },
     "execution_count": 27,
     "metadata": {},
     "output_type": "execute_result"
    }
   ],
   "source": [
    "claim_final.head(1)"
   ]
  },
  {
   "cell_type": "code",
   "execution_count": 33,
   "id": "eec832be",
   "metadata": {},
   "outputs": [
    {
     "data": {
      "text/html": [
       "<div>\n",
       "<style scoped>\n",
       "    .dataframe tbody tr th:only-of-type {\n",
       "        vertical-align: middle;\n",
       "    }\n",
       "\n",
       "    .dataframe tbody tr th {\n",
       "        vertical-align: top;\n",
       "    }\n",
       "\n",
       "    .dataframe thead th {\n",
       "        text-align: right;\n",
       "    }\n",
       "</style>\n",
       "<table border=\"1\" class=\"dataframe\">\n",
       "  <thead>\n",
       "    <tr style=\"text-align: right;\">\n",
       "      <th></th>\n",
       "      <th>claim_amount</th>\n",
       "    </tr>\n",
       "    <tr>\n",
       "      <th>age_group</th>\n",
       "      <th></th>\n",
       "    </tr>\n",
       "  </thead>\n",
       "  <tbody>\n",
       "    <tr>\n",
       "      <th>Adult</th>\n",
       "      <td>13025.853411</td>\n",
       "    </tr>\n",
       "    <tr>\n",
       "      <th>Children</th>\n",
       "      <td>11603.586987</td>\n",
       "    </tr>\n",
       "    <tr>\n",
       "      <th>Youth</th>\n",
       "      <td>12106.309296</td>\n",
       "    </tr>\n",
       "  </tbody>\n",
       "</table>\n",
       "</div>"
      ],
      "text/plain": [
       "           claim_amount\n",
       "age_group              \n",
       "Adult      13025.853411\n",
       "Children   11603.586987\n",
       "Youth      12106.309296"
      ]
     },
     "execution_count": 33,
     "metadata": {},
     "output_type": "execute_result"
    }
   ],
   "source": [
    "claim_final.groupby('age_group').agg({'claim_amount':np.mean})"
   ]
  },
  {
   "cell_type": "code",
   "execution_count": null,
   "id": "27484b36",
   "metadata": {},
   "outputs": [],
   "source": [
    "# since age groups are categorical in nature and claim amount is numeric in nature and also we have 3 categories\n",
    "# we can go ahead with ANOVA test method"
   ]
  },
  {
   "cell_type": "code",
   "execution_count": 29,
   "id": "344c390c",
   "metadata": {},
   "outputs": [
    {
     "name": "stdout",
     "output_type": "stream",
     "text": [
      "mean of s1: 13025.853411480346 | mean of s2: 11603.586987428913 | mean of s3: 12106.309296380057\n"
     ]
    }
   ],
   "source": [
    "ca = 'claim_amount'\n",
    "\n",
    "#filtering the data based on loan length\n",
    "s1 = claim_final.loc[claim_final['age_group'] == 'Adult', ca]\n",
    "s2 = claim_final.loc[claim_final['age_group'] == 'Children', ca]\n",
    "s3 = claim_final.loc[claim_final['age_group'] == 'Youth', ca]\n",
    "\n",
    "# display mean of both the segments\n",
    "print('mean of s1:', s1.mean(),'| mean of s2:', s2.mean(), '| mean of s3:', s3.mean())"
   ]
  },
  {
   "cell_type": "code",
   "execution_count": 31,
   "id": "65832e8f",
   "metadata": {},
   "outputs": [
    {
     "data": {
      "text/plain": [
       "F_onewayResult(statistic=1.1333298852762959, pvalue=0.3223381235490621)"
      ]
     },
     "execution_count": 31,
     "metadata": {},
     "output_type": "execute_result"
    }
   ],
   "source": [
    "# Ho: There is difference in amount claimed by different age_groups\n",
    "# Ha: There is no difference in amount claimed by different age_groups\n",
    "# CI: 95%, p_value = 0.05\n",
    "\n",
    "#perform the test\n",
    "stats.f_oneway(s1,s2,s3)"
   ]
  },
  {
   "cell_type": "code",
   "execution_count": null,
   "id": "42c966bd",
   "metadata": {},
   "outputs": [],
   "source": [
    "# Conclusion: Since p_value is greater than 0.05, we DON'T REJECT the NULL HYPOTHESIS.\n",
    "# Hence there is difference in amount claimed by different age_groups."
   ]
  },
  {
   "cell_type": "code",
   "execution_count": null,
   "id": "3e340864",
   "metadata": {},
   "outputs": [],
   "source": []
  },
  {
   "cell_type": "code",
   "execution_count": null,
   "id": "1a239273",
   "metadata": {},
   "outputs": [],
   "source": [
    "20. Is there any relationship between total number of policy claims and the \n",
    "claimed amount?"
   ]
  },
  {
   "cell_type": "code",
   "execution_count": 39,
   "id": "41a6dc13",
   "metadata": {},
   "outputs": [],
   "source": [
    "# since claim amount is numeric and total number of policy claims is numeric. \n",
    "# we can use the correlation method for the hypothesis testing"
   ]
  },
  {
   "cell_type": "code",
   "execution_count": 73,
   "id": "6a68b139",
   "metadata": {},
   "outputs": [
    {
     "data": {
      "text/html": [
       "<div>\n",
       "<style scoped>\n",
       "    .dataframe tbody tr th:only-of-type {\n",
       "        vertical-align: middle;\n",
       "    }\n",
       "\n",
       "    .dataframe tbody tr th {\n",
       "        vertical-align: top;\n",
       "    }\n",
       "\n",
       "    .dataframe thead th {\n",
       "        text-align: right;\n",
       "    }\n",
       "</style>\n",
       "<table border=\"1\" class=\"dataframe\">\n",
       "  <thead>\n",
       "    <tr style=\"text-align: right;\">\n",
       "      <th></th>\n",
       "      <th>claim_id</th>\n",
       "      <th>customer_id</th>\n",
       "      <th>incident_cause</th>\n",
       "      <th>claim_date</th>\n",
       "      <th>claim_area</th>\n",
       "      <th>police_report</th>\n",
       "      <th>claim_type</th>\n",
       "      <th>claim_amount</th>\n",
       "      <th>total_policy_claims</th>\n",
       "      <th>fraudulent</th>\n",
       "      <th>CUST_ID</th>\n",
       "      <th>gender</th>\n",
       "      <th>DateOfBirth</th>\n",
       "      <th>State</th>\n",
       "      <th>Contact</th>\n",
       "      <th>Segment</th>\n",
       "      <th>flag</th>\n",
       "      <th>age_group</th>\n",
       "    </tr>\n",
       "  </thead>\n",
       "  <tbody>\n",
       "    <tr>\n",
       "      <th>0</th>\n",
       "      <td>88944238.0</td>\n",
       "      <td>93822307.0</td>\n",
       "      <td>Natural causes</td>\n",
       "      <td>2017-12-30</td>\n",
       "      <td>Auto</td>\n",
       "      <td>No</td>\n",
       "      <td>Material only</td>\n",
       "      <td>2940.0</td>\n",
       "      <td>1.0</td>\n",
       "      <td>No</td>\n",
       "      <td>93822307.0</td>\n",
       "      <td>Male</td>\n",
       "      <td>1987-11-15</td>\n",
       "      <td>NE</td>\n",
       "      <td>534-856-2654</td>\n",
       "      <td>Platinum</td>\n",
       "      <td>0</td>\n",
       "      <td>Adult</td>\n",
       "    </tr>\n",
       "  </tbody>\n",
       "</table>\n",
       "</div>"
      ],
      "text/plain": [
       "     claim_id  customer_id  incident_cause claim_date claim_area  \\\n",
       "0  88944238.0   93822307.0  Natural causes 2017-12-30       Auto   \n",
       "\n",
       "  police_report     claim_type  claim_amount  total_policy_claims fraudulent  \\\n",
       "0            No  Material only        2940.0                  1.0         No   \n",
       "\n",
       "      CUST_ID gender DateOfBirth State       Contact   Segment  flag age_group  \n",
       "0  93822307.0   Male  1987-11-15    NE  534-856-2654  Platinum     0     Adult  "
      ]
     },
     "execution_count": 73,
     "metadata": {},
     "output_type": "execute_result"
    }
   ],
   "source": [
    "claim_final.head(1)"
   ]
  },
  {
   "cell_type": "code",
   "execution_count": 80,
   "id": "a8bac962",
   "metadata": {
    "scrolled": true
   },
   "outputs": [
    {
     "data": {
      "image/png": "[encoded data removed]",
      "text/plain": [
       "<Figure size 640x480 with 1 Axes>"
      ]
     },
     "metadata": {},
     "output_type": "display_data"
    }
   ],
   "source": [
    "# Relationship between total numer of policy claims and claimed amount\n",
    "claim_final.plot(kind='scatter', x='total_policy_claims', y='claim_amount')\n",
    "plt.show()"
   ]
  },
  {
   "cell_type": "code",
   "execution_count": 76,
   "id": "4096ae21",
   "metadata": {},
   "outputs": [
    {
     "data": {
      "text/html": [
       "<div>\n",
       "<style scoped>\n",
       "    .dataframe tbody tr th:only-of-type {\n",
       "        vertical-align: middle;\n",
       "    }\n",
       "\n",
       "    .dataframe tbody tr th {\n",
       "        vertical-align: top;\n",
       "    }\n",
       "\n",
       "    .dataframe thead th {\n",
       "        text-align: right;\n",
       "    }\n",
       "</style>\n",
       "<table border=\"1\" class=\"dataframe\">\n",
       "  <thead>\n",
       "    <tr style=\"text-align: right;\">\n",
       "      <th></th>\n",
       "      <th>total_policy_claims</th>\n",
       "      <th>claim_amount</th>\n",
       "    </tr>\n",
       "  </thead>\n",
       "  <tbody>\n",
       "    <tr>\n",
       "      <th>total_policy_claims</th>\n",
       "      <td>1.000000</td>\n",
       "      <td>-0.020547</td>\n",
       "    </tr>\n",
       "    <tr>\n",
       "      <th>claim_amount</th>\n",
       "      <td>-0.020547</td>\n",
       "      <td>1.000000</td>\n",
       "    </tr>\n",
       "  </tbody>\n",
       "</table>\n",
       "</div>"
      ],
      "text/plain": [
       "                     total_policy_claims  claim_amount\n",
       "total_policy_claims             1.000000     -0.020547\n",
       "claim_amount                   -0.020547      1.000000"
      ]
     },
     "execution_count": 76,
     "metadata": {},
     "output_type": "execute_result"
    }
   ],
   "source": [
    "claim_final.loc[:,['total_policy_claims','claim_amount']].corr()"
   ]
  },
  {
   "cell_type": "code",
   "execution_count": 79,
   "id": "33b6c663",
   "metadata": {},
   "outputs": [
    {
     "data": {
      "text/plain": [
       "PearsonRResult(statistic=-0.02054732077002433, pvalue=0.4971941575768153)"
      ]
     },
     "execution_count": 79,
     "metadata": {},
     "output_type": "execute_result"
    }
   ],
   "source": [
    "# H0: There is relationship between policy claims and claimed amount\n",
    "# Ha: There is no relationship between policy claims and claimed amount\n",
    "\n",
    "# CI: 95%, p-value: 0.05\n",
    "\n",
    "# perform the test\n",
    "stats.pearsonr(claim_final['total_policy_claims'],claim_final['claim_amount'])"
   ]
  },
  {
   "cell_type": "code",
   "execution_count": null,
   "id": "193d08b4",
   "metadata": {},
   "outputs": [],
   "source": [
    "# Conclusion: since p-value is very high compared to 0.05, we DON'T REJECT the NULL HYPOTHESIS.\n",
    "# Hence There is relationship between policy claims and claimed amount"
   ]
  }
 ],
 "metadata": {
  "kernelspec": {
   "display_name": "Python 3 (ipykernel)",
   "language": "python",
   "name": "python3"
  },
  "language_info": {
   "codemirror_mode": {
    "name": "ipython",
    "version": 3
   },
   "file_extension": ".py",
   "mimetype": "text/x-python",
   "name": "python",
   "nbconvert_exporter": "python",
   "pygments_lexer": "ipython3",
   "version": "3.10.9"
  }
 },
 "nbformat": 4,
 "nbformat_minor": 5
}
