{
 "cells": [
  {
   "cell_type": "code",
   "execution_count": 16,
   "id": "c76b3af8",
   "metadata": {},
   "outputs": [],
   "source": [
    "import pandas as pd\n",
    "import numpy as np\n",
    "import datetime as dt\n",
    "import seaborn as sns\n",
    "import matplotlib.pyplot as plt"
   ]
  },
  {
   "cell_type": "code",
   "execution_count": 17,
   "id": "b65734d6",
   "metadata": {},
   "outputs": [
    {
     "data": {
      "text/plain": [
       "'C://previous laptop//PG_Certification_in_Data_Science//Classes - Term 2//2 Case Studies//3. Case studies (Four)//Case Study 2 - Credit Card Case Study//spend.csv'"
      ]
     },
     "execution_count": 17,
     "metadata": {},
     "output_type": "execute_result"
    }
   ],
   "source": [
    "file_path_ca = \"C://previous laptop//PG_Certification_in_Data_Science//Classes - Term 2//2 Case Studies//3. Case studies (Four)//Case Study 2 - Credit Card Case Study//\"\n",
    "file_name_ca = \"Customer_Acqusition.csv\"\n",
    "\n",
    "file_path_re = \"C://previous laptop//PG_Certification_in_Data_Science//Classes - Term 2//2 Case Studies//3. Case studies (Four)//Case Study 2 - Credit Card Case Study//\"\n",
    "file_name_re = \"Repayment.csv\"\n",
    "\n",
    "file_path_sp = \"C://previous laptop//PG_Certification_in_Data_Science//Classes - Term 2//2 Case Studies//3. Case studies (Four)//Case Study 2 - Credit Card Case Study//\"\n",
    "file_name_sp = \"spend.csv\"\n",
    "\n",
    "file_path_ca + file_name_ca\n",
    "file_path_re + file_name_re\n",
    "file_path_sp + file_name_sp"
   ]
  },
  {
   "cell_type": "code",
   "execution_count": 18,
   "id": "786f51af",
   "metadata": {},
   "outputs": [],
   "source": [
    "cust_main = pd.read_csv(file_path_ca + file_name_ca)\n",
    "repy_main = pd.read_csv(file_path_re + file_name_re)\n",
    "spend_main = pd.read_csv(file_path_sp + file_name_sp)"
   ]
  },
  {
   "cell_type": "code",
   "execution_count": 19,
   "id": "ae893df9",
   "metadata": {},
   "outputs": [],
   "source": [
    "cust = cust_main.copy()\n",
    "repy = repy_main.copy()\n",
    "spend = spend_main.copy()"
   ]
  },
  {
   "cell_type": "code",
   "execution_count": 20,
   "id": "1253f5e4",
   "metadata": {},
   "outputs": [
    {
     "data": {
      "text/html": [
       "<div>\n",
       "<style scoped>\n",
       "    .dataframe tbody tr th:only-of-type {\n",
       "        vertical-align: middle;\n",
       "    }\n",
       "\n",
       "    .dataframe tbody tr th {\n",
       "        vertical-align: top;\n",
       "    }\n",
       "\n",
       "    .dataframe thead th {\n",
       "        text-align: right;\n",
       "    }\n",
       "</style>\n",
       "<table border=\"1\" class=\"dataframe\">\n",
       "  <thead>\n",
       "    <tr style=\"text-align: right;\">\n",
       "      <th></th>\n",
       "      <th>No</th>\n",
       "      <th>Customer</th>\n",
       "      <th>Age</th>\n",
       "      <th>City</th>\n",
       "      <th>Product</th>\n",
       "      <th>Limit</th>\n",
       "      <th>Company</th>\n",
       "      <th>Segment</th>\n",
       "    </tr>\n",
       "  </thead>\n",
       "  <tbody>\n",
       "    <tr>\n",
       "      <th>0</th>\n",
       "      <td>1</td>\n",
       "      <td>A1</td>\n",
       "      <td>76</td>\n",
       "      <td>BANGALORE</td>\n",
       "      <td>Gold</td>\n",
       "      <td>500000.0</td>\n",
       "      <td>C1</td>\n",
       "      <td>Self Employed</td>\n",
       "    </tr>\n",
       "    <tr>\n",
       "      <th>1</th>\n",
       "      <td>2</td>\n",
       "      <td>A2</td>\n",
       "      <td>71</td>\n",
       "      <td>CALCUTTA</td>\n",
       "      <td>Silver</td>\n",
       "      <td>100000.0</td>\n",
       "      <td>C2</td>\n",
       "      <td>Salaried_MNC</td>\n",
       "    </tr>\n",
       "    <tr>\n",
       "      <th>2</th>\n",
       "      <td>3</td>\n",
       "      <td>A3</td>\n",
       "      <td>34</td>\n",
       "      <td>COCHIN</td>\n",
       "      <td>Platimum</td>\n",
       "      <td>10000.0</td>\n",
       "      <td>C3</td>\n",
       "      <td>Salaried_Pvt</td>\n",
       "    </tr>\n",
       "    <tr>\n",
       "      <th>3</th>\n",
       "      <td>4</td>\n",
       "      <td>A4</td>\n",
       "      <td>47</td>\n",
       "      <td>BOMBAY</td>\n",
       "      <td>Platimum</td>\n",
       "      <td>10001.0</td>\n",
       "      <td>C4</td>\n",
       "      <td>Govt</td>\n",
       "    </tr>\n",
       "    <tr>\n",
       "      <th>4</th>\n",
       "      <td>5</td>\n",
       "      <td>A5</td>\n",
       "      <td>56</td>\n",
       "      <td>BANGALORE</td>\n",
       "      <td>Platimum</td>\n",
       "      <td>10002.0</td>\n",
       "      <td>C5</td>\n",
       "      <td>Normal Salary</td>\n",
       "    </tr>\n",
       "  </tbody>\n",
       "</table>\n",
       "</div>"
      ],
      "text/plain": [
       "   No Customer  Age       City   Product     Limit Company        Segment\n",
       "0   1       A1   76  BANGALORE      Gold  500000.0      C1  Self Employed\n",
       "1   2       A2   71   CALCUTTA    Silver  100000.0      C2   Salaried_MNC\n",
       "2   3       A3   34     COCHIN  Platimum   10000.0      C3   Salaried_Pvt\n",
       "3   4       A4   47     BOMBAY  Platimum   10001.0      C4           Govt\n",
       "4   5       A5   56  BANGALORE  Platimum   10002.0      C5  Normal Salary"
      ]
     },
     "execution_count": 20,
     "metadata": {},
     "output_type": "execute_result"
    }
   ],
   "source": [
    "cust.head()"
   ]
  },
  {
   "cell_type": "code",
   "execution_count": 21,
   "id": "0ba42039",
   "metadata": {},
   "outputs": [
    {
     "data": {
      "text/html": [
       "<div>\n",
       "<style scoped>\n",
       "    .dataframe tbody tr th:only-of-type {\n",
       "        vertical-align: middle;\n",
       "    }\n",
       "\n",
       "    .dataframe tbody tr th {\n",
       "        vertical-align: top;\n",
       "    }\n",
       "\n",
       "    .dataframe thead th {\n",
       "        text-align: right;\n",
       "    }\n",
       "</style>\n",
       "<table border=\"1\" class=\"dataframe\">\n",
       "  <thead>\n",
       "    <tr style=\"text-align: right;\">\n",
       "      <th></th>\n",
       "      <th>SL No:</th>\n",
       "      <th>Customer</th>\n",
       "      <th>Month</th>\n",
       "      <th>Amount</th>\n",
       "      <th>Unnamed: 4</th>\n",
       "    </tr>\n",
       "  </thead>\n",
       "  <tbody>\n",
       "    <tr>\n",
       "      <th>0</th>\n",
       "      <td>NaN</td>\n",
       "      <td>A1</td>\n",
       "      <td>12-Jan-04</td>\n",
       "      <td>495414.75</td>\n",
       "      <td>NaN</td>\n",
       "    </tr>\n",
       "    <tr>\n",
       "      <th>1</th>\n",
       "      <td>2.0</td>\n",
       "      <td>A1</td>\n",
       "      <td>3-Jan-04</td>\n",
       "      <td>245899.02</td>\n",
       "      <td>NaN</td>\n",
       "    </tr>\n",
       "    <tr>\n",
       "      <th>2</th>\n",
       "      <td>3.0</td>\n",
       "      <td>A1</td>\n",
       "      <td>15-Jan-04</td>\n",
       "      <td>259490.06</td>\n",
       "      <td>NaN</td>\n",
       "    </tr>\n",
       "    <tr>\n",
       "      <th>3</th>\n",
       "      <td>4.0</td>\n",
       "      <td>A1</td>\n",
       "      <td>25-Jan-04</td>\n",
       "      <td>437555.12</td>\n",
       "      <td>NaN</td>\n",
       "    </tr>\n",
       "    <tr>\n",
       "      <th>4</th>\n",
       "      <td>5.0</td>\n",
       "      <td>A1</td>\n",
       "      <td>17-Jan-05</td>\n",
       "      <td>165972.88</td>\n",
       "      <td>NaN</td>\n",
       "    </tr>\n",
       "  </tbody>\n",
       "</table>\n",
       "</div>"
      ],
      "text/plain": [
       "   SL No: Customer      Month     Amount  Unnamed: 4\n",
       "0     NaN       A1  12-Jan-04  495414.75         NaN\n",
       "1     2.0       A1   3-Jan-04  245899.02         NaN\n",
       "2     3.0       A1  15-Jan-04  259490.06         NaN\n",
       "3     4.0       A1  25-Jan-04  437555.12         NaN\n",
       "4     5.0       A1  17-Jan-05  165972.88         NaN"
      ]
     },
     "execution_count": 21,
     "metadata": {},
     "output_type": "execute_result"
    }
   ],
   "source": [
    "repy.head()"
   ]
  },
  {
   "cell_type": "code",
   "execution_count": 22,
   "id": "ffe8bf59",
   "metadata": {},
   "outputs": [
    {
     "data": {
      "text/html": [
       "<div>\n",
       "<style scoped>\n",
       "    .dataframe tbody tr th:only-of-type {\n",
       "        vertical-align: middle;\n",
       "    }\n",
       "\n",
       "    .dataframe tbody tr th {\n",
       "        vertical-align: top;\n",
       "    }\n",
       "\n",
       "    .dataframe thead th {\n",
       "        text-align: right;\n",
       "    }\n",
       "</style>\n",
       "<table border=\"1\" class=\"dataframe\">\n",
       "  <thead>\n",
       "    <tr style=\"text-align: right;\">\n",
       "      <th></th>\n",
       "      <th>Sl No:</th>\n",
       "      <th>Customer</th>\n",
       "      <th>Month</th>\n",
       "      <th>Type</th>\n",
       "      <th>Amount</th>\n",
       "    </tr>\n",
       "  </thead>\n",
       "  <tbody>\n",
       "    <tr>\n",
       "      <th>0</th>\n",
       "      <td>1</td>\n",
       "      <td>A1</td>\n",
       "      <td>12-Jan-04</td>\n",
       "      <td>JEWELLERY</td>\n",
       "      <td>485470.80</td>\n",
       "    </tr>\n",
       "    <tr>\n",
       "      <th>1</th>\n",
       "      <td>2</td>\n",
       "      <td>A1</td>\n",
       "      <td>3-Jan-04</td>\n",
       "      <td>PETRO</td>\n",
       "      <td>410556.13</td>\n",
       "    </tr>\n",
       "    <tr>\n",
       "      <th>2</th>\n",
       "      <td>3</td>\n",
       "      <td>A1</td>\n",
       "      <td>15-Jan-04</td>\n",
       "      <td>CLOTHES</td>\n",
       "      <td>23740.46</td>\n",
       "    </tr>\n",
       "    <tr>\n",
       "      <th>3</th>\n",
       "      <td>4</td>\n",
       "      <td>A1</td>\n",
       "      <td>25-Jan-04</td>\n",
       "      <td>FOOD</td>\n",
       "      <td>484342.47</td>\n",
       "    </tr>\n",
       "    <tr>\n",
       "      <th>4</th>\n",
       "      <td>5</td>\n",
       "      <td>A1</td>\n",
       "      <td>17-Jan-05</td>\n",
       "      <td>CAMERA</td>\n",
       "      <td>369694.07</td>\n",
       "    </tr>\n",
       "  </tbody>\n",
       "</table>\n",
       "</div>"
      ],
      "text/plain": [
       "   Sl No: Customer      Month       Type     Amount\n",
       "0       1       A1  12-Jan-04  JEWELLERY  485470.80\n",
       "1       2       A1   3-Jan-04      PETRO  410556.13\n",
       "2       3       A1  15-Jan-04    CLOTHES   23740.46\n",
       "3       4       A1  25-Jan-04       FOOD  484342.47\n",
       "4       5       A1  17-Jan-05     CAMERA  369694.07"
      ]
     },
     "execution_count": 22,
     "metadata": {},
     "output_type": "execute_result"
    }
   ],
   "source": [
    "spend.head()"
   ]
  },
  {
   "cell_type": "code",
   "execution_count": 23,
   "id": "6dbe50da",
   "metadata": {},
   "outputs": [],
   "source": [
    "# dropping the extra columns(no., sl no., unnamed:4) from the dataframes "
   ]
  },
  {
   "cell_type": "code",
   "execution_count": 24,
   "id": "38842cde",
   "metadata": {},
   "outputs": [],
   "source": [
    "cust.drop(columns=['No'],inplace=True)"
   ]
  },
  {
   "cell_type": "code",
   "execution_count": 25,
   "id": "598df79e",
   "metadata": {},
   "outputs": [],
   "source": [
    "repy.drop(columns=['SL No:','Unnamed: 4'],inplace=True)"
   ]
  },
  {
   "cell_type": "code",
   "execution_count": 26,
   "id": "47cf445c",
   "metadata": {},
   "outputs": [],
   "source": [
    "spend.drop(columns=['Sl No:'],inplace=True)"
   ]
  },
  {
   "cell_type": "code",
   "execution_count": 27,
   "id": "aafbbe51",
   "metadata": {},
   "outputs": [],
   "source": [
    "# converting month column name to date and amount column to repayment_amt and spend_amt"
   ]
  },
  {
   "cell_type": "code",
   "execution_count": 28,
   "id": "1752a9da",
   "metadata": {},
   "outputs": [],
   "source": [
    "repy.rename(columns={'Month':'repayment_date', 'Amount':'repayment_amt'},inplace=True)"
   ]
  },
  {
   "cell_type": "code",
   "execution_count": 29,
   "id": "6bb7402f",
   "metadata": {},
   "outputs": [],
   "source": [
    "spend.rename(columns={'Month':'spend_date', 'Amount':'spend_amt'},inplace=True)"
   ]
  },
  {
   "cell_type": "code",
   "execution_count": 30,
   "id": "563b442f",
   "metadata": {},
   "outputs": [
    {
     "name": "stdout",
     "output_type": "stream",
     "text": [
      "<class 'pandas.core.frame.DataFrame'>\n",
      "RangeIndex: 100 entries, 0 to 99\n",
      "Data columns (total 7 columns):\n",
      " #   Column    Non-Null Count  Dtype  \n",
      "---  ------    --------------  -----  \n",
      " 0   Customer  100 non-null    object \n",
      " 1   Age       100 non-null    int64  \n",
      " 2   City      100 non-null    object \n",
      " 3   Product   100 non-null    object \n",
      " 4   Limit     100 non-null    float64\n",
      " 5   Company   100 non-null    object \n",
      " 6   Segment   100 non-null    object \n",
      "dtypes: float64(1), int64(1), object(5)\n",
      "memory usage: 5.6+ KB\n"
     ]
    }
   ],
   "source": [
    "cust.info()"
   ]
  },
  {
   "cell_type": "code",
   "execution_count": 31,
   "id": "54caba72",
   "metadata": {},
   "outputs": [
    {
     "name": "stdout",
     "output_type": "stream",
     "text": [
      "<class 'pandas.core.frame.DataFrame'>\n",
      "RangeIndex: 1523 entries, 0 to 1522\n",
      "Data columns (total 3 columns):\n",
      " #   Column          Non-Null Count  Dtype  \n",
      "---  ------          --------------  -----  \n",
      " 0   Customer        1500 non-null   object \n",
      " 1   repayment_date  1500 non-null   object \n",
      " 2   repayment_amt   1500 non-null   float64\n",
      "dtypes: float64(1), object(2)\n",
      "memory usage: 35.8+ KB\n"
     ]
    }
   ],
   "source": [
    "repy.info()"
   ]
  },
  {
   "cell_type": "code",
   "execution_count": 32,
   "id": "78fb0de8",
   "metadata": {},
   "outputs": [
    {
     "name": "stdout",
     "output_type": "stream",
     "text": [
      "<class 'pandas.core.frame.DataFrame'>\n",
      "RangeIndex: 1500 entries, 0 to 1499\n",
      "Data columns (total 4 columns):\n",
      " #   Column      Non-Null Count  Dtype  \n",
      "---  ------      --------------  -----  \n",
      " 0   Customer    1500 non-null   object \n",
      " 1   spend_date  1500 non-null   object \n",
      " 2   Type        1500 non-null   object \n",
      " 3   spend_amt   1500 non-null   float64\n",
      "dtypes: float64(1), object(3)\n",
      "memory usage: 47.0+ KB\n"
     ]
    }
   ],
   "source": [
    "spend.info()"
   ]
  },
  {
   "cell_type": "code",
   "execution_count": 33,
   "id": "a4734c09",
   "metadata": {},
   "outputs": [],
   "source": [
    "# converting repayment_date and spend_date to proper datatime datatype\n",
    "repy['repayment_date'] = pd.to_datetime(repy['repayment_date'])\n",
    "spend['spend_date'] = pd.to_datetime(spend['spend_date'])"
   ]
  },
  {
   "cell_type": "code",
   "execution_count": 34,
   "id": "22312072",
   "metadata": {},
   "outputs": [
    {
     "data": {
      "text/plain": [
       "Customer    0\n",
       "Age         0\n",
       "City        0\n",
       "Product     0\n",
       "Limit       0\n",
       "Company     0\n",
       "Segment     0\n",
       "dtype: int64"
      ]
     },
     "execution_count": 34,
     "metadata": {},
     "output_type": "execute_result"
    }
   ],
   "source": [
    "# check nulls and duplicates\n",
    "cust.isnull().sum()"
   ]
  },
  {
   "cell_type": "code",
   "execution_count": 35,
   "id": "5f695994",
   "metadata": {},
   "outputs": [
    {
     "data": {
      "text/plain": [
       "Customer          23\n",
       "repayment_date    23\n",
       "repayment_amt     23\n",
       "dtype: int64"
      ]
     },
     "execution_count": 35,
     "metadata": {},
     "output_type": "execute_result"
    }
   ],
   "source": [
    "repy.isnull().sum()"
   ]
  },
  {
   "cell_type": "code",
   "execution_count": 36,
   "id": "95f2361f",
   "metadata": {},
   "outputs": [],
   "source": [
    "repy.dropna(inplace=True)"
   ]
  },
  {
   "cell_type": "code",
   "execution_count": 37,
   "id": "9bbe3d39",
   "metadata": {},
   "outputs": [
    {
     "data": {
      "text/plain": [
       "Customer      0\n",
       "spend_date    0\n",
       "Type          0\n",
       "spend_amt     0\n",
       "dtype: int64"
      ]
     },
     "execution_count": 37,
     "metadata": {},
     "output_type": "execute_result"
    }
   ],
   "source": [
    "spend.isnull().sum()"
   ]
  },
  {
   "cell_type": "code",
   "execution_count": 38,
   "id": "d9c7d1f5",
   "metadata": {},
   "outputs": [
    {
     "data": {
      "text/plain": [
       "0"
      ]
     },
     "execution_count": 38,
     "metadata": {},
     "output_type": "execute_result"
    }
   ],
   "source": [
    "cust.duplicated().sum()"
   ]
  },
  {
   "cell_type": "code",
   "execution_count": 39,
   "id": "ca552025",
   "metadata": {},
   "outputs": [
    {
     "data": {
      "text/plain": [
       "0"
      ]
     },
     "execution_count": 39,
     "metadata": {},
     "output_type": "execute_result"
    }
   ],
   "source": [
    "repy.duplicated().sum()"
   ]
  },
  {
   "cell_type": "code",
   "execution_count": 40,
   "id": "2142eafc",
   "metadata": {},
   "outputs": [
    {
     "data": {
      "text/plain": [
       "0"
      ]
     },
     "execution_count": 40,
     "metadata": {},
     "output_type": "execute_result"
    }
   ],
   "source": [
    "spend.duplicated().sum()"
   ]
  },
  {
   "cell_type": "code",
   "execution_count": 41,
   "id": "05cd8314",
   "metadata": {
    "scrolled": true
   },
   "outputs": [
    {
     "name": "stdout",
     "output_type": "stream",
     "text": [
      "<class 'pandas.core.frame.DataFrame'>\n",
      "RangeIndex: 100 entries, 0 to 99\n",
      "Data columns (total 7 columns):\n",
      " #   Column    Non-Null Count  Dtype  \n",
      "---  ------    --------------  -----  \n",
      " 0   Customer  100 non-null    object \n",
      " 1   Age       100 non-null    int64  \n",
      " 2   City      100 non-null    object \n",
      " 3   Product   100 non-null    object \n",
      " 4   Limit     100 non-null    float64\n",
      " 5   Company   100 non-null    object \n",
      " 6   Segment   100 non-null    object \n",
      "dtypes: float64(1), int64(1), object(5)\n",
      "memory usage: 5.6+ KB\n"
     ]
    }
   ],
   "source": [
    "cust.info()"
   ]
  },
  {
   "cell_type": "code",
   "execution_count": 42,
   "id": "90124610",
   "metadata": {},
   "outputs": [
    {
     "name": "stdout",
     "output_type": "stream",
     "text": [
      "<class 'pandas.core.frame.DataFrame'>\n",
      "Int64Index: 1500 entries, 0 to 1499\n",
      "Data columns (total 3 columns):\n",
      " #   Column          Non-Null Count  Dtype         \n",
      "---  ------          --------------  -----         \n",
      " 0   Customer        1500 non-null   object        \n",
      " 1   repayment_date  1500 non-null   datetime64[ns]\n",
      " 2   repayment_amt   1500 non-null   float64       \n",
      "dtypes: datetime64[ns](1), float64(1), object(1)\n",
      "memory usage: 46.9+ KB\n"
     ]
    }
   ],
   "source": [
    "repy.info()"
   ]
  },
  {
   "cell_type": "code",
   "execution_count": 43,
   "id": "86282ba5",
   "metadata": {},
   "outputs": [
    {
     "name": "stdout",
     "output_type": "stream",
     "text": [
      "<class 'pandas.core.frame.DataFrame'>\n",
      "RangeIndex: 1500 entries, 0 to 1499\n",
      "Data columns (total 4 columns):\n",
      " #   Column      Non-Null Count  Dtype         \n",
      "---  ------      --------------  -----         \n",
      " 0   Customer    1500 non-null   object        \n",
      " 1   spend_date  1500 non-null   datetime64[ns]\n",
      " 2   Type        1500 non-null   object        \n",
      " 3   spend_amt   1500 non-null   float64       \n",
      "dtypes: datetime64[ns](1), float64(1), object(2)\n",
      "memory usage: 47.0+ KB\n"
     ]
    }
   ],
   "source": [
    "spend.info()"
   ]
  },
  {
   "cell_type": "code",
   "execution_count": null,
   "id": "9b5282df",
   "metadata": {},
   "outputs": [],
   "source": []
  },
  {
   "cell_type": "raw",
   "id": "1b931a21",
   "metadata": {},
   "source": [
    "1. In the above dataset,\n",
    "a. In case age is less than 18, replace it with mean of age values.\n",
    "b. In case spend amount is more than the limit, replace it with 50% of that customer’s limit.\n",
    "(customer’s limit provided in acquisition table is the per transaction limit on his card)\n",
    "c. Incase the repayment amount is more than the limit, replace the repayment with the\n",
    "limit."
   ]
  },
  {
   "cell_type": "code",
   "execution_count": 44,
   "id": "8ebddeb1",
   "metadata": {},
   "outputs": [],
   "source": [
    "cust['Age'] = cust[['Age']].applymap(lambda x: x if x>18 else cust['Age'].mean())"
   ]
  },
  {
   "cell_type": "code",
   "execution_count": 45,
   "id": "7e86fb8d",
   "metadata": {},
   "outputs": [],
   "source": [
    "# for (b) and (c) part of the question we will go with .merge method on two tables at a time\n",
    "# i tried connecting all 3 tables but it will bring too many rows and data analysis will not work for that.\n",
    "# so we will go with two tables combination \n",
    "# 1. Customer acquisition + spend\n",
    "# 2. customer acquisition + repayment"
   ]
  },
  {
   "cell_type": "code",
   "execution_count": 46,
   "id": "6356d906",
   "metadata": {},
   "outputs": [],
   "source": [
    "cust_s = pd.merge(left=spend, right=cust, left_on='Customer', right_on='Customer', how='left')\n",
    "cust_r = pd.merge(left=repy, right=cust, left_on='Customer', right_on='Customer', how='left')"
   ]
  },
  {
   "cell_type": "code",
   "execution_count": 47,
   "id": "199d7817",
   "metadata": {},
   "outputs": [
    {
     "data": {
      "text/html": [
       "<div>\n",
       "<style scoped>\n",
       "    .dataframe tbody tr th:only-of-type {\n",
       "        vertical-align: middle;\n",
       "    }\n",
       "\n",
       "    .dataframe tbody tr th {\n",
       "        vertical-align: top;\n",
       "    }\n",
       "\n",
       "    .dataframe thead th {\n",
       "        text-align: right;\n",
       "    }\n",
       "</style>\n",
       "<table border=\"1\" class=\"dataframe\">\n",
       "  <thead>\n",
       "    <tr style=\"text-align: right;\">\n",
       "      <th></th>\n",
       "      <th>Customer</th>\n",
       "      <th>spend_date</th>\n",
       "      <th>Type</th>\n",
       "      <th>spend_amt</th>\n",
       "      <th>Age</th>\n",
       "      <th>City</th>\n",
       "      <th>Product</th>\n",
       "      <th>Limit</th>\n",
       "      <th>Company</th>\n",
       "      <th>Segment</th>\n",
       "    </tr>\n",
       "  </thead>\n",
       "  <tbody>\n",
       "    <tr>\n",
       "      <th>0</th>\n",
       "      <td>A1</td>\n",
       "      <td>2004-01-12</td>\n",
       "      <td>JEWELLERY</td>\n",
       "      <td>485470.80</td>\n",
       "      <td>76.0</td>\n",
       "      <td>BANGALORE</td>\n",
       "      <td>Gold</td>\n",
       "      <td>500000.0</td>\n",
       "      <td>C1</td>\n",
       "      <td>Self Employed</td>\n",
       "    </tr>\n",
       "    <tr>\n",
       "      <th>1</th>\n",
       "      <td>A1</td>\n",
       "      <td>2004-01-03</td>\n",
       "      <td>PETRO</td>\n",
       "      <td>410556.13</td>\n",
       "      <td>76.0</td>\n",
       "      <td>BANGALORE</td>\n",
       "      <td>Gold</td>\n",
       "      <td>500000.0</td>\n",
       "      <td>C1</td>\n",
       "      <td>Self Employed</td>\n",
       "    </tr>\n",
       "  </tbody>\n",
       "</table>\n",
       "</div>"
      ],
      "text/plain": [
       "  Customer spend_date       Type  spend_amt   Age       City Product  \\\n",
       "0       A1 2004-01-12  JEWELLERY  485470.80  76.0  BANGALORE    Gold   \n",
       "1       A1 2004-01-03      PETRO  410556.13  76.0  BANGALORE    Gold   \n",
       "\n",
       "      Limit Company        Segment  \n",
       "0  500000.0      C1  Self Employed  \n",
       "1  500000.0      C1  Self Employed  "
      ]
     },
     "execution_count": 47,
     "metadata": {},
     "output_type": "execute_result"
    }
   ],
   "source": [
    "cust_s.head(2)"
   ]
  },
  {
   "cell_type": "code",
   "execution_count": 48,
   "id": "52d5a008",
   "metadata": {
    "scrolled": true
   },
   "outputs": [
    {
     "data": {
      "text/html": [
       "<div>\n",
       "<style scoped>\n",
       "    .dataframe tbody tr th:only-of-type {\n",
       "        vertical-align: middle;\n",
       "    }\n",
       "\n",
       "    .dataframe tbody tr th {\n",
       "        vertical-align: top;\n",
       "    }\n",
       "\n",
       "    .dataframe thead th {\n",
       "        text-align: right;\n",
       "    }\n",
       "</style>\n",
       "<table border=\"1\" class=\"dataframe\">\n",
       "  <thead>\n",
       "    <tr style=\"text-align: right;\">\n",
       "      <th></th>\n",
       "      <th>Customer</th>\n",
       "      <th>repayment_date</th>\n",
       "      <th>repayment_amt</th>\n",
       "      <th>Age</th>\n",
       "      <th>City</th>\n",
       "      <th>Product</th>\n",
       "      <th>Limit</th>\n",
       "      <th>Company</th>\n",
       "      <th>Segment</th>\n",
       "    </tr>\n",
       "  </thead>\n",
       "  <tbody>\n",
       "    <tr>\n",
       "      <th>0</th>\n",
       "      <td>A1</td>\n",
       "      <td>2004-01-12</td>\n",
       "      <td>495414.75</td>\n",
       "      <td>76.0</td>\n",
       "      <td>BANGALORE</td>\n",
       "      <td>Gold</td>\n",
       "      <td>500000.0</td>\n",
       "      <td>C1</td>\n",
       "      <td>Self Employed</td>\n",
       "    </tr>\n",
       "    <tr>\n",
       "      <th>1</th>\n",
       "      <td>A1</td>\n",
       "      <td>2004-01-03</td>\n",
       "      <td>245899.02</td>\n",
       "      <td>76.0</td>\n",
       "      <td>BANGALORE</td>\n",
       "      <td>Gold</td>\n",
       "      <td>500000.0</td>\n",
       "      <td>C1</td>\n",
       "      <td>Self Employed</td>\n",
       "    </tr>\n",
       "  </tbody>\n",
       "</table>\n",
       "</div>"
      ],
      "text/plain": [
       "  Customer repayment_date  repayment_amt   Age       City Product     Limit  \\\n",
       "0       A1     2004-01-12      495414.75  76.0  BANGALORE    Gold  500000.0   \n",
       "1       A1     2004-01-03      245899.02  76.0  BANGALORE    Gold  500000.0   \n",
       "\n",
       "  Company        Segment  \n",
       "0      C1  Self Employed  \n",
       "1      C1  Self Employed  "
      ]
     },
     "execution_count": 48,
     "metadata": {},
     "output_type": "execute_result"
    }
   ],
   "source": [
    "cust_r.head(2)"
   ]
  },
  {
   "cell_type": "code",
   "execution_count": 49,
   "id": "cb991aea",
   "metadata": {},
   "outputs": [
    {
     "data": {
      "text/plain": [
       "Customer      0\n",
       "spend_date    0\n",
       "Type          0\n",
       "spend_amt     0\n",
       "Age           0\n",
       "City          0\n",
       "Product       0\n",
       "Limit         0\n",
       "Company       0\n",
       "Segment       0\n",
       "dtype: int64"
      ]
     },
     "execution_count": 49,
     "metadata": {},
     "output_type": "execute_result"
    }
   ],
   "source": [
    "cust_s.isnull().sum()"
   ]
  },
  {
   "cell_type": "code",
   "execution_count": 50,
   "id": "6257ea83",
   "metadata": {},
   "outputs": [
    {
     "data": {
      "text/plain": [
       "Customer          0\n",
       "repayment_date    0\n",
       "repayment_amt     0\n",
       "Age               0\n",
       "City              0\n",
       "Product           0\n",
       "Limit             0\n",
       "Company           0\n",
       "Segment           0\n",
       "dtype: int64"
      ]
     },
     "execution_count": 50,
     "metadata": {},
     "output_type": "execute_result"
    }
   ],
   "source": [
    "cust_r.isnull().sum()"
   ]
  },
  {
   "cell_type": "code",
   "execution_count": 51,
   "id": "2b3ca311",
   "metadata": {},
   "outputs": [
    {
     "data": {
      "text/plain": [
       "0"
      ]
     },
     "execution_count": 51,
     "metadata": {},
     "output_type": "execute_result"
    }
   ],
   "source": [
    "cust_s.duplicated().sum()"
   ]
  },
  {
   "cell_type": "code",
   "execution_count": 52,
   "id": "f3f43d86",
   "metadata": {
    "scrolled": true
   },
   "outputs": [
    {
     "data": {
      "text/plain": [
       "0"
      ]
     },
     "execution_count": 52,
     "metadata": {},
     "output_type": "execute_result"
    }
   ],
   "source": [
    "cust_r.duplicated().sum()"
   ]
  },
  {
   "cell_type": "raw",
   "id": "cbf9ca40",
   "metadata": {},
   "source": [
    "b. In case spend amount is more than the limit, replace it with 50% of that customer’s limit.\n",
    "(customer’s limit provided in acquisition table is the per transaction limit on his card)"
   ]
  },
  {
   "cell_type": "code",
   "execution_count": 53,
   "id": "75e6ccc9",
   "metadata": {},
   "outputs": [],
   "source": [
    "cust_s.loc[(cust_s['spend_amt'] > cust_s['Limit']), ['spend_amt']] = cust_s['Limit'] * 0.5"
   ]
  },
  {
   "cell_type": "raw",
   "id": "a2141ec9",
   "metadata": {},
   "source": [
    "c. Incase the repayment amount is more than the limit, replace the repayment with the\n",
    "limit."
   ]
  },
  {
   "cell_type": "code",
   "execution_count": 54,
   "id": "a49c48c4",
   "metadata": {},
   "outputs": [],
   "source": [
    "cust_r.loc[(cust_r['repayment_amt'] > cust_r['Limit']), ['repayment_amt']] = cust_r['Limit']"
   ]
  },
  {
   "cell_type": "code",
   "execution_count": 55,
   "id": "b139dfbf",
   "metadata": {},
   "outputs": [
    {
     "ename": "SyntaxError",
     "evalue": "invalid character '–' (U+2013) (1926067679.py, line 8)",
     "output_type": "error",
     "traceback": [
      "\u001b[1;36m  Cell \u001b[1;32mIn[55], line 8\u001b[1;36m\u001b[0m\n\u001b[1;33m    – Monthly spend. Interest is earned only on positive profits and not on negative amounts)\u001b[0m\n\u001b[1;37m    ^\u001b[0m\n\u001b[1;31mSyntaxError\u001b[0m\u001b[1;31m:\u001b[0m invalid character '–' (U+2013)\n"
     ]
    }
   ],
   "source": [
    "2. From the above dataset create the following summaries:\n",
    "a. How many distinct customers exist?\n",
    "b. How many distinct categories exist?\n",
    "c. What is the average monthly spend by customers?\n",
    "d. What is the average monthly repayment by customers?\n",
    "e. If the monthly rate of interest is 2.9%, what is the profit for the bank for each month?\n",
    "(Profit is defined as interest earned on Monthly Profit. Monthly Profit = Monthly repayment\n",
    "– Monthly spend. Interest is earned only on positive profits and not on negative amounts)\n",
    "f. What are the top 5 product types?\n",
    "g. Which city is having maximum spend?\n",
    "h. Which age group is spending more money? \n",
    "i. Who are the top 10 customers in terms of repayment?"
   ]
  },
  {
   "cell_type": "code",
   "execution_count": null,
   "id": "0ec0368b",
   "metadata": {
    "scrolled": true
   },
   "outputs": [],
   "source": [
    "cust['Customer'].unique().size"
   ]
  },
  {
   "cell_type": "code",
   "execution_count": null,
   "id": "94a36614",
   "metadata": {},
   "outputs": [],
   "source": [
    "cust['Segment'].unique().size"
   ]
  },
  {
   "cell_type": "code",
   "execution_count": null,
   "id": "4b1549dc",
   "metadata": {},
   "outputs": [],
   "source": [
    "spend_monthwise = spend.groupby(by=[spend['spend_date'].dt.year, spend['spend_date'].dt.month]).agg({'spend_amt':np.sum})\n",
    "spend_monthwise['spend_amt'].mean()"
   ]
  },
  {
   "cell_type": "code",
   "execution_count": null,
   "id": "b1bad193",
   "metadata": {},
   "outputs": [],
   "source": [
    "repy_monthwise = repy.groupby(by=[repy['repayment_date'].dt.year, repy['repayment_date'].dt.month]).agg({'repayment_amt':np.sum})\n",
    "repy_monthwise['repayment_amt'].mean()"
   ]
  },
  {
   "cell_type": "code",
   "execution_count": null,
   "id": "31b98839",
   "metadata": {},
   "outputs": [],
   "source": [
    "monthwise_sp_re = pd.concat([spend_monthwise, repy_monthwise], axis=1)"
   ]
  },
  {
   "cell_type": "code",
   "execution_count": null,
   "id": "26c716d6",
   "metadata": {},
   "outputs": [],
   "source": [
    "monthwise_sp_re['monthly_profit'] = monthwise_sp_re['repayment_amt'] - monthwise_sp_re['spend_amt']"
   ]
  },
  {
   "cell_type": "code",
   "execution_count": null,
   "id": "4710d446",
   "metadata": {},
   "outputs": [],
   "source": [
    "monthwise_sp_re"
   ]
  },
  {
   "cell_type": "code",
   "execution_count": null,
   "id": "44c8242d",
   "metadata": {},
   "outputs": [],
   "source": [
    "monthwise_sp_re[['monthly_profit']].applymap(lambda x: x*.029 if x>0 else np.nan)"
   ]
  },
  {
   "cell_type": "code",
   "execution_count": null,
   "id": "b5a69f67",
   "metadata": {},
   "outputs": [],
   "source": [
    " spend.head()"
   ]
  },
  {
   "cell_type": "code",
   "execution_count": null,
   "id": "1d6564c2",
   "metadata": {},
   "outputs": [],
   "source": [
    "spend.groupby('Type').agg({'spend_amt':np.sum}).sort_values(by='spend_amt',ascending=False).head(5)"
   ]
  },
  {
   "cell_type": "code",
   "execution_count": null,
   "id": "7f1a67b8",
   "metadata": {},
   "outputs": [],
   "source": [
    "cust_s.groupby('City').agg({'spend_amt':np.sum}).sort_values(by='spend_amt', ascending=False).head(1)"
   ]
  },
  {
   "cell_type": "code",
   "execution_count": null,
   "id": "686f90fa",
   "metadata": {},
   "outputs": [],
   "source": [
    "cust_r.head()"
   ]
  },
  {
   "cell_type": "code",
   "execution_count": null,
   "id": "95ec096b",
   "metadata": {},
   "outputs": [],
   "source": [
    "cust_r.groupby('Customer').agg({'repayment_amt':np.sum}).sort_values(by='repayment_amt', ascending=False).head(10)"
   ]
  },
  {
   "cell_type": "code",
   "execution_count": null,
   "id": "4f99113b",
   "metadata": {},
   "outputs": [],
   "source": [
    "3. Calculate the city wise spend on each product on yearly basis. Also include a graphical\n",
    "representation for the same."
   ]
  },
  {
   "cell_type": "code",
   "execution_count": 57,
   "id": "a206c33a",
   "metadata": {},
   "outputs": [],
   "source": [
    "cust_s['year'] = cust_s['spend_date'].dt.year\n",
    "cust_s['month'] = cust_s['spend_date'].dt.month"
   ]
  },
  {
   "cell_type": "code",
   "execution_count": 58,
   "id": "ff2d572f",
   "metadata": {},
   "outputs": [
    {
     "data": {
      "image/png": "[encoded data removed]",
      "text/plain": [
       "<Figure size 1000x500 with 1 Axes>"
      ]
     },
     "metadata": {},
     "output_type": "display_data"
    }
   ],
   "source": [
    "table3 = pd.pivot_table(cust_s, values='spend_amt', index=['City','Product'],  columns =['year'], aggfunc=np.sum)\n",
    "table3.plot(kind='bar',figsize=(10,5),stacked=True)\n",
    "plt.show()"
   ]
  },
  {
   "cell_type": "code",
   "execution_count": null,
   "id": "7f4341d5",
   "metadata": {},
   "outputs": [],
   "source": []
  },
  {
   "cell_type": "code",
   "execution_count": null,
   "id": "73fd9d4a",
   "metadata": {},
   "outputs": [],
   "source": [
    "4. Create graphs for\n",
    "a. Monthly comparison of total spends, city wise\n",
    "b. Comparison of yearly spend on air tickets\n",
    "c. Comparison of monthly spend for each product (look for any seasonality\n",
    "that exists in terms of spend)"
   ]
  },
  {
   "cell_type": "code",
   "execution_count": 59,
   "id": "8c635cae",
   "metadata": {},
   "outputs": [
    {
     "data": {
      "image/png": "[encoded data removed]",
      "text/plain": [
       "<Figure size 1000x500 with 1 Axes>"
      ]
     },
     "metadata": {},
     "output_type": "display_data"
    }
   ],
   "source": [
    "pd.pivot_table(cust_s, values='spend_amt', index=['City'],  columns =['month'], aggfunc=np.sum).plot(kind='bar',figsize=(10,5),stacked=True)\n",
    "plt.show()"
   ]
  },
  {
   "cell_type": "code",
   "execution_count": 60,
   "id": "8620ba1e",
   "metadata": {},
   "outputs": [
    {
     "data": {
      "image/png": "[encoded data removed]",
      "text/plain": [
       "<Figure size 400x200 with 1 Axes>"
      ]
     },
     "metadata": {},
     "output_type": "display_data"
    }
   ],
   "source": [
    "pd.pivot_table(cust_s, values='spend_amt', index=['Type'],  columns =['year'], aggfunc=np.sum).head(1).plot(kind='bar',figsize=(4,2),stacked=True)\n",
    "plt.show()"
   ]
  },
  {
   "cell_type": "code",
   "execution_count": 63,
   "id": "c71f37b1",
   "metadata": {},
   "outputs": [
    {
     "data": {
      "image/png": "[encoded data removed]",
      "text/plain": [
       "<Figure size 1000x500 with 1 Axes>"
      ]
     },
     "metadata": {},
     "output_type": "display_data"
    }
   ],
   "source": [
    "pd.pivot_table(cust_s, values='spend_amt', index=['Product'],  columns =['month'], aggfunc=np.sum).plot(kind='bar',figsize=(10,5),stacked=True)\n",
    "plt.show()"
   ]
  },
  {
   "cell_type": "code",
   "execution_count": null,
   "id": "f3c728c5",
   "metadata": {},
   "outputs": [],
   "source": []
  },
  {
   "cell_type": "code",
   "execution_count": null,
   "id": "196468c3",
   "metadata": {},
   "outputs": [],
   "source": [
    "5. Write user defined PYTHON function to perform the following analysis:\n",
    "You need to find top 10 customers for each city in terms of their repayment amount by\n",
    "different products and by different time periods i.e. year or month. The user should be able\n",
    "to specify the product (Gold/Silver/Platinum) and time period (yearly or monthly) and the\n",
    "function should automatically take these inputs while identifying the top 10 customers."
   ]
  },
  {
   "cell_type": "code",
   "execution_count": 65,
   "id": "14fb94e9",
   "metadata": {},
   "outputs": [],
   "source": [
    "cust_r['year'] = cust_r['repayment_date'].dt.year\n",
    "cust_r['month'] = cust_r['repayment_date'].dt.month"
   ]
  },
  {
   "cell_type": "code",
   "execution_count": 66,
   "id": "04a39383",
   "metadata": {
    "scrolled": true
   },
   "outputs": [
    {
     "data": {
      "text/html": [
       "<div>\n",
       "<style scoped>\n",
       "    .dataframe tbody tr th:only-of-type {\n",
       "        vertical-align: middle;\n",
       "    }\n",
       "\n",
       "    .dataframe tbody tr th {\n",
       "        vertical-align: top;\n",
       "    }\n",
       "\n",
       "    .dataframe thead th {\n",
       "        text-align: right;\n",
       "    }\n",
       "</style>\n",
       "<table border=\"1\" class=\"dataframe\">\n",
       "  <thead>\n",
       "    <tr style=\"text-align: right;\">\n",
       "      <th></th>\n",
       "      <th>Customer</th>\n",
       "      <th>repayment_date</th>\n",
       "      <th>repayment_amt</th>\n",
       "      <th>Age</th>\n",
       "      <th>City</th>\n",
       "      <th>Product</th>\n",
       "      <th>Limit</th>\n",
       "      <th>Company</th>\n",
       "      <th>Segment</th>\n",
       "      <th>year</th>\n",
       "      <th>month</th>\n",
       "    </tr>\n",
       "  </thead>\n",
       "  <tbody>\n",
       "    <tr>\n",
       "      <th>0</th>\n",
       "      <td>A1</td>\n",
       "      <td>2004-01-12</td>\n",
       "      <td>495414.75</td>\n",
       "      <td>76.0</td>\n",
       "      <td>BANGALORE</td>\n",
       "      <td>Gold</td>\n",
       "      <td>500000.0</td>\n",
       "      <td>C1</td>\n",
       "      <td>Self Employed</td>\n",
       "      <td>2004</td>\n",
       "      <td>1</td>\n",
       "    </tr>\n",
       "    <tr>\n",
       "      <th>1</th>\n",
       "      <td>A1</td>\n",
       "      <td>2004-01-03</td>\n",
       "      <td>245899.02</td>\n",
       "      <td>76.0</td>\n",
       "      <td>BANGALORE</td>\n",
       "      <td>Gold</td>\n",
       "      <td>500000.0</td>\n",
       "      <td>C1</td>\n",
       "      <td>Self Employed</td>\n",
       "      <td>2004</td>\n",
       "      <td>1</td>\n",
       "    </tr>\n",
       "    <tr>\n",
       "      <th>2</th>\n",
       "      <td>A1</td>\n",
       "      <td>2004-01-15</td>\n",
       "      <td>259490.06</td>\n",
       "      <td>76.0</td>\n",
       "      <td>BANGALORE</td>\n",
       "      <td>Gold</td>\n",
       "      <td>500000.0</td>\n",
       "      <td>C1</td>\n",
       "      <td>Self Employed</td>\n",
       "      <td>2004</td>\n",
       "      <td>1</td>\n",
       "    </tr>\n",
       "    <tr>\n",
       "      <th>3</th>\n",
       "      <td>A1</td>\n",
       "      <td>2004-01-25</td>\n",
       "      <td>437555.12</td>\n",
       "      <td>76.0</td>\n",
       "      <td>BANGALORE</td>\n",
       "      <td>Gold</td>\n",
       "      <td>500000.0</td>\n",
       "      <td>C1</td>\n",
       "      <td>Self Employed</td>\n",
       "      <td>2004</td>\n",
       "      <td>1</td>\n",
       "    </tr>\n",
       "    <tr>\n",
       "      <th>4</th>\n",
       "      <td>A1</td>\n",
       "      <td>2005-01-17</td>\n",
       "      <td>165972.88</td>\n",
       "      <td>76.0</td>\n",
       "      <td>BANGALORE</td>\n",
       "      <td>Gold</td>\n",
       "      <td>500000.0</td>\n",
       "      <td>C1</td>\n",
       "      <td>Self Employed</td>\n",
       "      <td>2005</td>\n",
       "      <td>1</td>\n",
       "    </tr>\n",
       "  </tbody>\n",
       "</table>\n",
       "</div>"
      ],
      "text/plain": [
       "  Customer repayment_date  repayment_amt   Age       City Product     Limit  \\\n",
       "0       A1     2004-01-12      495414.75  76.0  BANGALORE    Gold  500000.0   \n",
       "1       A1     2004-01-03      245899.02  76.0  BANGALORE    Gold  500000.0   \n",
       "2       A1     2004-01-15      259490.06  76.0  BANGALORE    Gold  500000.0   \n",
       "3       A1     2004-01-25      437555.12  76.0  BANGALORE    Gold  500000.0   \n",
       "4       A1     2005-01-17      165972.88  76.0  BANGALORE    Gold  500000.0   \n",
       "\n",
       "  Company        Segment  year  month  \n",
       "0      C1  Self Employed  2004      1  \n",
       "1      C1  Self Employed  2004      1  \n",
       "2      C1  Self Employed  2004      1  \n",
       "3      C1  Self Employed  2004      1  \n",
       "4      C1  Self Employed  2005      1  "
      ]
     },
     "execution_count": 66,
     "metadata": {},
     "output_type": "execute_result"
    }
   ],
   "source": [
    "cust_r.head()"
   ]
  },
  {
   "cell_type": "code",
   "execution_count": 110,
   "id": "493139ce",
   "metadata": {},
   "outputs": [],
   "source": [
    "def topten(prod,**kwargs):\n",
    "    if 'month' in kwargs.keys():\n",
    "        table1 = cust_r.loc[((cust_r['Product'] == prod) & (cust_r['month'] == kwargs['month']))]\n",
    "        table2 = pd.pivot_table(table1,index=['City','Customer'])[['repayment_amt']].sort_values(by=['City','repayment_amt'],ascending=[True,False])\n",
    "        return table2\n",
    "    elif 'year' in kwargs.keys():\n",
    "        table1 = cust_r.loc[((cust_r['Product'] == prod) & (cust_r['year'] == kwargs['year']))]\n",
    "        table2 = pd.pivot_table(table1,index=['City','Customer'])[['repayment_amt']].sort_values(by=['City','repayment_amt'],ascending=[True,False])\n",
    "        return table2\n",
    "    elif 'month' in kwargs.keys() and 'year' in kwargs.keys():\n",
    "        table1 = cust_r.loc[((cust_r['Product'] == prod) & (cust_r['month'] == kwargs['month']) & (cust_r['year'] == kwargs['year']))]\n",
    "        table2 = pd.pivot_table(table1,index=['City','Customer'])[['repayment_amt']].sort_values(by=['City','repayment_amt'],ascending=[True,False])\n",
    "        return table2        "
   ]
  },
  {
   "cell_type": "code",
   "execution_count": 122,
   "id": "fe431c02",
   "metadata": {},
   "outputs": [
    {
     "name": "stderr",
     "output_type": "stream",
     "text": [
      "C:\\Users\\Prateek\\AppData\\Local\\Temp\\ipykernel_10396\\4137513049.py:4: FutureWarning: pivot_table dropped a column because it failed to aggregate. This behavior is deprecated and will raise in a future version of pandas. Select only the columns that can be aggregated.\n",
      "  table2 = pd.pivot_table(table1,index=['City','Customer'])[['repayment_amt']].sort_values(by=['City','repayment_amt'],ascending=[True,False])\n"
     ]
    },
    {
     "data": {
      "text/html": [
       "<div>\n",
       "<style scoped>\n",
       "    .dataframe tbody tr th:only-of-type {\n",
       "        vertical-align: middle;\n",
       "    }\n",
       "\n",
       "    .dataframe tbody tr th {\n",
       "        vertical-align: top;\n",
       "    }\n",
       "\n",
       "    .dataframe thead th {\n",
       "        text-align: right;\n",
       "    }\n",
       "</style>\n",
       "<table border=\"1\" class=\"dataframe\">\n",
       "  <thead>\n",
       "    <tr style=\"text-align: right;\">\n",
       "      <th></th>\n",
       "      <th></th>\n",
       "      <th>repayment_amt</th>\n",
       "    </tr>\n",
       "    <tr>\n",
       "      <th>City</th>\n",
       "      <th>Customer</th>\n",
       "      <th></th>\n",
       "    </tr>\n",
       "  </thead>\n",
       "  <tbody>\n",
       "    <tr>\n",
       "      <th rowspan=\"6\" valign=\"top\">BANGALORE</th>\n",
       "      <th>A13</th>\n",
       "      <td>402837.396000</td>\n",
       "    </tr>\n",
       "    <tr>\n",
       "      <th>A63</th>\n",
       "      <td>372179.260000</td>\n",
       "    </tr>\n",
       "    <tr>\n",
       "      <th>A1</th>\n",
       "      <td>343972.327143</td>\n",
       "    </tr>\n",
       "    <tr>\n",
       "      <th>A14</th>\n",
       "      <td>248278.717500</td>\n",
       "    </tr>\n",
       "    <tr>\n",
       "      <th>A43</th>\n",
       "      <td>219782.016667</td>\n",
       "    </tr>\n",
       "    <tr>\n",
       "      <th>A30</th>\n",
       "      <td>202688.830000</td>\n",
       "    </tr>\n",
       "    <tr>\n",
       "      <th rowspan=\"4\" valign=\"top\">BOMBAY</th>\n",
       "      <th>A62</th>\n",
       "      <td>332240.806667</td>\n",
       "    </tr>\n",
       "    <tr>\n",
       "      <th>A42</th>\n",
       "      <td>279583.248889</td>\n",
       "    </tr>\n",
       "    <tr>\n",
       "      <th>A12</th>\n",
       "      <td>203397.863333</td>\n",
       "    </tr>\n",
       "    <tr>\n",
       "      <th>A17</th>\n",
       "      <td>190411.435000</td>\n",
       "    </tr>\n",
       "    <tr>\n",
       "      <th rowspan=\"4\" valign=\"top\">CALCUTTA</th>\n",
       "      <th>A29</th>\n",
       "      <td>294980.104000</td>\n",
       "    </tr>\n",
       "    <tr>\n",
       "      <th>A10</th>\n",
       "      <td>272897.385000</td>\n",
       "    </tr>\n",
       "    <tr>\n",
       "      <th>A15</th>\n",
       "      <td>262875.652500</td>\n",
       "    </tr>\n",
       "    <tr>\n",
       "      <th>A60</th>\n",
       "      <td>246558.481000</td>\n",
       "    </tr>\n",
       "    <tr>\n",
       "      <th rowspan=\"2\" valign=\"top\">CHENNAI</th>\n",
       "      <th>A27</th>\n",
       "      <td>173621.561429</td>\n",
       "    </tr>\n",
       "    <tr>\n",
       "      <th>A67</th>\n",
       "      <td>67845.600000</td>\n",
       "    </tr>\n",
       "    <tr>\n",
       "      <th rowspan=\"6\" valign=\"top\">COCHIN</th>\n",
       "      <th>A65</th>\n",
       "      <td>468922.600000</td>\n",
       "    </tr>\n",
       "    <tr>\n",
       "      <th>A11</th>\n",
       "      <td>319518.796667</td>\n",
       "    </tr>\n",
       "    <tr>\n",
       "      <th>A16</th>\n",
       "      <td>267963.180000</td>\n",
       "    </tr>\n",
       "    <tr>\n",
       "      <th>A45</th>\n",
       "      <td>254134.553750</td>\n",
       "    </tr>\n",
       "    <tr>\n",
       "      <th>A61</th>\n",
       "      <td>219406.491250</td>\n",
       "    </tr>\n",
       "    <tr>\n",
       "      <th>A94</th>\n",
       "      <td>153465.890000</td>\n",
       "    </tr>\n",
       "    <tr>\n",
       "      <th rowspan=\"2\" valign=\"top\">DELHI</th>\n",
       "      <th>A93</th>\n",
       "      <td>342326.140000</td>\n",
       "    </tr>\n",
       "    <tr>\n",
       "      <th>A44</th>\n",
       "      <td>301964.113750</td>\n",
       "    </tr>\n",
       "    <tr>\n",
       "      <th rowspan=\"3\" valign=\"top\">PATNA</th>\n",
       "      <th>A66</th>\n",
       "      <td>477039.780000</td>\n",
       "    </tr>\n",
       "    <tr>\n",
       "      <th>A95</th>\n",
       "      <td>369405.960000</td>\n",
       "    </tr>\n",
       "    <tr>\n",
       "      <th>A26</th>\n",
       "      <td>225965.474000</td>\n",
       "    </tr>\n",
       "    <tr>\n",
       "      <th>TRIVANDRUM</th>\n",
       "      <th>A28</th>\n",
       "      <td>172410.243333</td>\n",
       "    </tr>\n",
       "  </tbody>\n",
       "</table>\n",
       "</div>"
      ],
      "text/plain": [
       "                     repayment_amt\n",
       "City       Customer               \n",
       "BANGALORE  A13       402837.396000\n",
       "           A63       372179.260000\n",
       "           A1        343972.327143\n",
       "           A14       248278.717500\n",
       "           A43       219782.016667\n",
       "           A30       202688.830000\n",
       "BOMBAY     A62       332240.806667\n",
       "           A42       279583.248889\n",
       "           A12       203397.863333\n",
       "           A17       190411.435000\n",
       "CALCUTTA   A29       294980.104000\n",
       "           A10       272897.385000\n",
       "           A15       262875.652500\n",
       "           A60       246558.481000\n",
       "CHENNAI    A27       173621.561429\n",
       "           A67        67845.600000\n",
       "COCHIN     A65       468922.600000\n",
       "           A11       319518.796667\n",
       "           A16       267963.180000\n",
       "           A45       254134.553750\n",
       "           A61       219406.491250\n",
       "           A94       153465.890000\n",
       "DELHI      A93       342326.140000\n",
       "           A44       301964.113750\n",
       "PATNA      A66       477039.780000\n",
       "           A95       369405.960000\n",
       "           A26       225965.474000\n",
       "TRIVANDRUM A28       172410.243333"
      ]
     },
     "execution_count": 122,
     "metadata": {},
     "output_type": "execute_result"
    }
   ],
   "source": [
    "topten(prod='Gold', year=2005, month=1)"
   ]
  },
  {
   "cell_type": "code",
   "execution_count": 1,
   "id": "3c8e457c",
   "metadata": {},
   "outputs": [
    {
     "ename": "NameError",
     "evalue": "name 'cust_r' is not defined",
     "output_type": "error",
     "traceback": [
      "\u001b[1;31m---------------------------------------------------------------------------\u001b[0m",
      "\u001b[1;31mNameError\u001b[0m                                 Traceback (most recent call last)",
      "Cell \u001b[1;32mIn[1], line 1\u001b[0m\n\u001b[1;32m----> 1\u001b[0m table1 \u001b[38;5;241m=\u001b[39m \u001b[43mcust_r\u001b[49m\u001b[38;5;241m.\u001b[39mloc[((cust_r[\u001b[38;5;124m'\u001b[39m\u001b[38;5;124mProduct\u001b[39m\u001b[38;5;124m'\u001b[39m] \u001b[38;5;241m==\u001b[39m \u001b[38;5;124m'\u001b[39m\u001b[38;5;124mGold\u001b[39m\u001b[38;5;124m'\u001b[39m) \u001b[38;5;241m&\u001b[39m (cust_r[\u001b[38;5;124m'\u001b[39m\u001b[38;5;124mmonth\u001b[39m\u001b[38;5;124m'\u001b[39m] \u001b[38;5;241m==\u001b[39m \u001b[38;5;241m1\u001b[39m))]\n\u001b[0;32m      2\u001b[0m pd\u001b[38;5;241m.\u001b[39mpivot_table(table1,index\u001b[38;5;241m=\u001b[39m[\u001b[38;5;124m'\u001b[39m\u001b[38;5;124mCity\u001b[39m\u001b[38;5;124m'\u001b[39m,\u001b[38;5;124m'\u001b[39m\u001b[38;5;124mCustomer\u001b[39m\u001b[38;5;124m'\u001b[39m])[[\u001b[38;5;124m'\u001b[39m\u001b[38;5;124mrepayment_amt\u001b[39m\u001b[38;5;124m'\u001b[39m]]\u001b[38;5;241m.\u001b[39msort_values(by\u001b[38;5;241m=\u001b[39m[\u001b[38;5;124m'\u001b[39m\u001b[38;5;124mCity\u001b[39m\u001b[38;5;124m'\u001b[39m,\u001b[38;5;124m'\u001b[39m\u001b[38;5;124mrepayment_amt\u001b[39m\u001b[38;5;124m'\u001b[39m],ascending\u001b[38;5;241m=\u001b[39m[\u001b[38;5;28;01mTrue\u001b[39;00m,\u001b[38;5;28;01mFalse\u001b[39;00m])\n",
      "\u001b[1;31mNameError\u001b[0m: name 'cust_r' is not defined"
     ]
    }
   ],
   "source": [
    "table1 = cust_r.loc[((cust_r['Product'] == 'Gold') & (cust_r['month'] == 1))]\n",
    "pd.pivot_table(table1,index=['City','Customer'])[['repayment_amt']].sort_values(by=['City','repayment_amt'],ascending=[True,False])"
   ]
  }
 ],
 "metadata": {
  "kernelspec": {
   "display_name": "Python 3 (ipykernel)",
   "language": "python",
   "name": "python3"
  },
  "language_info": {
   "codemirror_mode": {
    "name": "ipython",
    "version": 3
   },
   "file_extension": ".py",
   "mimetype": "text/x-python",
   "name": "python",
   "nbconvert_exporter": "python",
   "pygments_lexer": "ipython3",
   "version": "3.10.9"
  }
 },
 "nbformat": 4,
 "nbformat_minor": 5
}
